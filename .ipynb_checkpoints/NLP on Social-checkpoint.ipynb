{
 "cells": [
  {
   "cell_type": "markdown",
   "metadata": {},
   "source": [
    "# Natural Language Processing"
   ]
  },
  {
   "cell_type": "markdown",
   "metadata": {},
   "source": [
    "# Overview\n",
    "\n",
    "Natural Language Processing is the practice of turning words into systems of numbers, and turning systems of numbers into predictive power for analytics and automated systems. \n",
    "\n",
    "In today's world, one of the largest sources of food to feed NLP is social media. This workshop focuses on applying common NLP techniques to Social Media in order to return analytics that can be transformed into insights that can be transformed into action. \n",
    "\n",
    "Our outline: \n",
    "- Social Runs on APIs\n",
    "- Structuring and Cleaning Data\n",
    "- Text Analysis - Sentiment from Dictionary\n",
    "- Supervised ML - Discriminative Document Classification\n",
    "- Unsupervised ML - Generative Document Classification (Topic Modeling)"
   ]
  },
  {
   "cell_type": "markdown",
   "metadata": {},
   "source": [
    "## APIs - Driving the Modern Web"
   ]
  },
  {
   "cell_type": "markdown",
   "metadata": {},
   "source": [
    "**An application programming interface (API)** is a set of routines, protocols, and tools that APPLICATIONS use to interact with WEB SERVERS. '\n",
    "\n",
    "In the context of data science, APIs are a common method for PYTHON to interact with and capture  data hosted by third parties that use **web service APIs**."
   ]
  },
  {
   "cell_type": "markdown",
   "metadata": {
    "ExecuteTime": {
     "end_time": "2019-07-25T10:17:38.798446Z",
     "start_time": "2019-07-25T10:17:38.794832Z"
    }
   },
   "source": [
    "<img src = \"http://applicationarchitecture.files.wordpress.com/2010/03/f0022-sample-network-diagram.png\" >\n"
   ]
  },
  {
   "cell_type": "markdown",
   "metadata": {},
   "source": [
    "or...\n",
    "\n",
    "<img src = \"./assets/APIs.png\">"
   ]
  },
  {
   "cell_type": "markdown",
   "metadata": {},
   "source": [
    "In some instances, we might request data from a website using Python's requests library - this will send an API call using a web-address. Here we'll use the TV News Archive's \"Third Eye\" Project: https://archive.org/services/third-eye.php"
   ]
  },
  {
   "cell_type": "code",
   "execution_count": 32,
   "metadata": {},
   "outputs": [
    {
     "name": "stdout",
     "output_type": "stream",
     "text": [
      "Help on package requests:\n",
      "\n",
      "NAME\n",
      "    requests\n",
      "\n",
      "DESCRIPTION\n",
      "    Requests HTTP Library\n",
      "    ~~~~~~~~~~~~~~~~~~~~~\n",
      "    \n",
      "    Requests is an HTTP library, written in Python, for human beings. Basic GET\n",
      "    usage:\n",
      "    \n",
      "       >>> import requests\n",
      "       >>> r = requests.get('https://www.python.org')\n",
      "       >>> r.status_code\n",
      "       200\n",
      "       >>> 'Python is a programming language' in r.content\n",
      "       True\n",
      "    \n",
      "    ... or POST:\n",
      "    \n",
      "       >>> payload = dict(key1='value1', key2='value2')\n",
      "       >>> r = requests.post('http://httpbin.org/post', data=payload)\n",
      "       >>> print(r.text)\n",
      "       {\n",
      "         ...\n",
      "         \"form\": {\n",
      "           \"key2\": \"value2\",\n",
      "           \"key1\": \"value1\"\n",
      "         },\n",
      "         ...\n",
      "       }\n",
      "    \n",
      "    The other HTTP methods are supported - see `requests.api`. Full documentation\n",
      "    is at <http://python-requests.org>.\n",
      "    \n",
      "    :copyright: (c) 2017 by Kenneth Reitz.\n",
      "    :license: Apache 2.0, see LICENSE for more details.\n",
      "\n",
      "PACKAGE CONTENTS\n",
      "    __version__\n",
      "    _internal_utils\n",
      "    adapters\n",
      "    api\n",
      "    auth\n",
      "    certs\n",
      "    compat\n",
      "    cookies\n",
      "    exceptions\n",
      "    help\n",
      "    hooks\n",
      "    models\n",
      "    packages\n",
      "    sessions\n",
      "    status_codes\n",
      "    structures\n",
      "    utils\n",
      "\n",
      "DATA\n",
      "    __author_email__ = 'me@kennethreitz.org'\n",
      "    __build__ = 136960\n",
      "    __cake__ = '✨ 🍰 ✨'\n",
      "    __copyright__ = 'Copyright 2017 Kenneth Reitz'\n",
      "    __description__ = 'Python HTTP for Humans.'\n",
      "    __license__ = 'Apache 2.0'\n",
      "    __title__ = 'requests'\n",
      "    __url__ = 'http://python-requests.org'\n",
      "    codes = <lookup 'status_codes'>\n",
      "    major = 3\n",
      "    minor = 0\n",
      "    urllib3_version = ['1', '21', '1']\n",
      "\n",
      "VERSION\n",
      "    2.17.0\n",
      "\n",
      "AUTHOR\n",
      "    Kenneth Reitz\n",
      "\n",
      "FILE\n",
      "    c:\\users\\bpeake1\\appdata\\roaming\\python\\python36\\site-packages\\requests\\__init__.py\n",
      "\n",
      "\n"
     ]
    }
   ],
   "source": [
    "help(requests)"
   ]
  },
  {
   "cell_type": "code",
   "execution_count": 2,
   "metadata": {
    "ExecuteTime": {
     "end_time": "2019-07-25T10:36:20.079248Z",
     "start_time": "2019-07-25T10:36:19.478823Z"
    }
   },
   "outputs": [
    {
     "name": "stdout",
     "output_type": "stream",
     "text": [
      "Status code: 200\n"
     ]
    }
   ],
   "source": [
    "# Import Requests\n",
    "import requests\n",
    "import pandas as pd\n",
    "\n",
    "# Use the requests library to get a response from the API\n",
    "addr = \"https://archive.org/services/third-eye.php?last=3\"\n",
    "res = requests.get(addr)\n",
    "\n",
    "# You can use status codes to understand how the target server responds to your request.\n",
    "# Ex., 200 = OK, 400 = Bad Request, 403 = Forbidden, 404 = Not Found.\n",
    "print(\"Status code:\", res.status_code)"
   ]
  },
  {
   "cell_type": "code",
   "execution_count": null,
   "metadata": {},
   "outputs": [],
   "source": [
    "res."
   ]
  },
  {
   "cell_type": "code",
   "execution_count": 3,
   "metadata": {
    "ExecuteTime": {
     "end_time": "2019-07-25T10:37:37.839696Z",
     "start_time": "2019-07-25T10:37:37.835892Z"
    },
    "scrolled": true
   },
   "outputs": [
    {
     "data": {
      "text/plain": [
       "b'date_time_(UTC)\\tchannel\\tduration\\thttps://archive.org/details/\\ttext\\n2019-07-25 19:00:00\\tCNNW\\t7\\tCNNW_20190725_180000_CNN_Newsroom_With_Brooke_Baldwin/start/3600\\tDEMOCRATS AT ODDS OVER WHETHER TO PURSUE IMPEACHMENT\\n2019-07-25 19:00:00\\tBBCNEWS\\t53\\tBBCNEWS_20190725_180000_Beyond_100_Days/start/3600\\tneatwave\\n2019-07-25 19:01:00\\tMSNBCW\\t50\\tMSNBCW_20190725_190000_MSNBC_Live_With_Ali_Velshi/start/60\\tMUELLER WARNS RUSSIA IS STILL. TRYING TO INTERFERE IN ELECTIONS\\\\nSEN. CHRIS COONS (D) DELAWARE\\\\nROBERT MUELLER \\' FORMER SPECIAL COUNSEL\\n2019-07-25 19:01:00\\tCNNW\\t45\\tCNNW_20190725_190000_CNN_Newsroom_With_Brooke_Baldwin/start/60\\tDEMOCRATS AT ODDS OVER WHETHER TO PURSUE IMPEACHMENT\\\\nDEMOCRATS AT ODDS OVER WHETHER TO PURSUE IMPEACHMENT. . . . Rep. John Garamendi (D) California\\\\nDEMOCRATS AT ODDS OVER WHETHER TO...\\n2019-07-25 19:02:00\\tMSNBCW\\t44\\tMSNBCW_20190725_190000_MSNBC_Live_With_Ali_Velshi/start/120\\tMUELLER WARNS RUSSIA IS STILL. TRYING TO INTERFERE IN ELECTIONS\\\\nROBERT MUELLER \\' FORMER SPECIAL COUNSEL\\n2019-07-25 19:02:00\\tCNNW\\t35\\tCNNW_20190725_190000_CNN_Newsroom_With_Brooke_Baldwin/start/120\\tMUELLER: YES, TRUMP CAN BE INDICTED AFI\\'ER LEAVING OFFICE\\\\nMUELLER: YES, TRUMP CAN BE INDICTED AFTER LEAVING OFFICE. . Kan Nawadav Former Corruption 8. Fraud Prosecutor. Southern District of...\\n2019-07-25 19:03:00\\tMSNBCW\\t34\\tMSNBCW_20190725_190000_MSNBC_Live_With_Ali_Velshi/start/180\\tFBI DIR. SOUNDS ALARM ON 2O2O FOREIGN INTERFERENCE\\\\nMUELLER: RUSSIAN ELECTION INTERFERENCE NOT A \\\\\"HOAX\\\\\"\\\\nFMR. FBI EXECUTIVE ASST. DIRECTOR. ROBERT ANDERSON...\\n2019-07-25 19:03:00\\tCNNW\\t46\\tCNNW_20190725_190000_CNN_Newsroom_With_Brooke_Baldwin/start/180\\tDEMOCRATS AT ODDS OVER WHETHER TO PURSUE IMPEACHMENT. . . . Sarah Coyne Former Federal Prosecutor\\\\nMUELLER: YES, TRUMP CAN BE INDICTED AFI\\'ER LEAVING OFFICE\\\\nDEMOCRATS AT ODDS OVER WHETHER TO PURSUE IMPEACHMENT\\n2019-07-25 19:03:00\\tFOXNEWSW\\t5\\tFOXNEWSW_20190725_190000_Shepard_Smith_Reporting/start/180\\tKILLING SPREE SUSPECTS ON THE LOOSE. SUSPECT s DAD: HE s GOING TO BE DEAD TODAY OR TOMORROW. . :hnnnrrl gran-I1 DanDTI MI:\\n2019-07-25 19:04:00\\tMSNBCW\\t62\\tMSNBCW_20190725_190000_MSNBC_Live_With_Ali_Velshi/start/240\\tFBI DIR. SOUNDS ALARM ON 2O2O FOREIGN INTERFERENCE\\n2019-07-25 19:04:00\\tCNNW\\t22\\tCNNW_20190725_190000_CNN_Newsroom_With_Brooke_Baldwin/start/240\\tPELOSI TO DEMS ON IMPEACHMENT: DO WHAT YOU NEED TO DO. . Kan Nawaday Former Corruption & Fraud Prosecutor. Southern District of New York\\\\nDEMOCRATS AT ODDS OVER WHETHER TO PURSUE IMPEACHMENT\\\\nPELOSI TO DEMS ON IMPEACHMENT: DO WHAT YOU NEED TO DO\\n2019-07-25 19:04:00\\tFOXNEWSW\\t9\\tFOXNEWSW_20190725_190000_Shepard_Smith_Reporting/start/240\\tI. KILLING SPREE SUSPECTS ON THE LOOSE. . TEEKIC Af\\'f\\'l ICE\\\\u201c n: cunn\\'rlur: A I\\'EDII\\'AKI Tnl IDIC\\'I\\' D nnvcmcmn\\\\nKILLING SPREE SUSPECTS ON THE LOOSE. . CI ICDFI\\'T\\'Q nAn. I-IF DI AMC Tn an nl IT IN \\\\\"A RI A7: OF (2| nnv\\\\\\n2019-07-25 19:05:00\\tMSNBCW\\t55\\tMSNBCW_20190725_190000_MSNBC_Live_With_Ali_Velshi/start/300\\tFBI DIR. SOUNDS ALARM ON 2O2O FOREIGN INTERFERENCE\\\\nCHRISTOPHER WRAY FBI DIRECTOR\\n2019-07-25 19:05:00\\tCNNW\\t30\\tCNNW_20190725_190000_CNN_Newsroom_With_Brooke_Baldwin/start/300\\tMUELLER: TRUMP\\'S WRITTEN ANSWERS \\\\\"GENERALLY\\\\\" NOT TRUTHFUL. . Sarah Coyne Former Federal Prosecutor\\\\nDESPITE WARNINGS, GOP BLOCKS ELECTION SECURITY BILLS\\\\nPELOSI TO DEMS ON IMPEACHMENT: DO WHAT YOU NEED TO DO\\\\nMUELLER: TRUMP\\'S WRITTEN...\\n2019-07-25 19:05:00\\tBBCNEWS\\t37\\tBBCNEWS_20190725_190000_BBC_News/start/300\\tEB. NEWS\\\\nUK heatwave. UK sees its honest July day on record\\\\nUK heatwave. Temperatures reach 38.1: in Cambridge\\n2019-07-25 19:06:00\\tCNNW\\t38\\tCNNW_20190725_190000_CNN_Newsroom_With_Brooke_Baldwin/start/360\\tDESPITE WARNINGS, GOP BLOCKS ELECTION SECURITY BILLS\\\\nDESPITE WARNINGS GOP BLOCKS ELECTION SECURITY BILLS. Christopher Wray FBI Director\\\\nDESPITE WARNINGS GOP BLOCKS ELECTION SECURITY...\\n2019-07-25 19:06:00\\tMSNBCW\\t56\\tMSNBCW_20190725_190000_MSNBC_Live_With_Ali_Velshi/start/360\\tFBI DIR. SOUNDS ALARM ON 2O2O FOREIGN INTERFERENCE\\\\nFMR. FBI SPECIAL AGENT. CLINT WATTS JOINT TERRORISM TASK FORCE\\n2019-07-25 19:06:00\\tBBCNEWS\\t12\\tBBCNEWS_20190725_190000_BBC_News/start/360\\tUK heatwave. Hottesk day of the year so far in the UK\\\\nUK heatwave. Faversham in Kent holds current temperature record\\\\nUK heatwave. Sco\\'land R4 Wales could see temperatures close to 3O:\\\\nUK...\\n2019-07-25 19:07:00\\tCNNW\\t61\\tCNNW_20190725_190000_CNN_Newsroom_With_Brooke_Baldwin/start/420\\tDESPITE WARNINGS, GOP BLOCKS ELECTION SECURITY BILLS\\n2019-07-25 19:07:00\\tMSNBCW\\t48\\tMSNBCW_20190725_190000_MSNBC_Live_With_Ali_Velshi/start/420\\tFBI DIR. SOUNDS ALARM ON 2O2O FOREIGN INTERFERENCE\\\\nMUELLER WARNS RUSSIA IS STILL. TRYING TO INTERFERE IN ELECTIONS\\n2019-07-25 19:07:00\\tBBCNEWS\\t11\\tBBCNEWS_20190725_190000_BBC_News/start/420\\tUK heatwave. Network Rail warns disruption could continue\\\\nUK heatwave. UK sees its hottest July day on record\\\\nUK heatwave. Germany breaks temperamre record with 41.5:\\\\nUK heatwave. Trains...\\n2019-07-25 19:08:00\\tCNNW\\t29\\tCNNW_20190725_190000_CNN_Newsroom_With_Brooke_Baldwin/start/480\\tDESPITE WARNINGS, GOP BLOCKS ELECTION SECURITY BILLS\\\\nDESPITE WARNINGS GOP BLOCKS ELECTION SECURITY BILLS. . Josephine Lukito Graduate School Research Cited in Mueller Report\\\\nMUELLER...\\n2019-07-25 19:08:00\\tMSNBCW\\t32\\tMSNBCW_20190725_190000_MSNBC_Live_With_Ali_Velshi/start/480\\tMUELLER WARNS RUSSIA IS STILL. TRYING TO INTERFERE IN ELECTIONS\\\\nMUELLER: RUSSIAN ELECTION INTERFERENCE NOT A \\\\\"HOAX\\\\\"\\\\nMUELLER: TRUMP COULD BE INDICTED AFI\\'ER LEAVING OFFICE\\n2019-07-25 19:08:00\\tFOXNEWSW\\t7\\tFOXNEWSW_20190725_190000_Shepard_Smith_Reporting/start/480\\tO\\\\ufb01\\'E\\'\\\\ufb01hpic\\n2019-07-25 19:08:00\\tBBCNEWS\\t43\\tBBCNEWS_20190725_190000_BBC_News/start/480\\tEEII NEWS\\n2019-07-25 19:09:00\\tMSNBCW\\t49\\tMSNBCW_20190725_190000_MSNBC_Live_With_Ali_Velshi/start/540\\tMUELLER: TRUMP COULD BE INDICTED AFI\\'ER LEAVING OFFICE\\\\nROBERT MUELLER FORMER SPECIAL COUNSEL\\n2019-07-25 19:09:00\\tCNNW\\t34\\tCNNW_20190725_190000_CNN_Newsroom_With_Brooke_Baldwin/start/540\\tMUELLER WARNS: RUSSIA A\\'ITACKING U.S. \\\\\"AS WE SIT HERE\\\\\"\\\\nMUELLER WARNS: RUSSIA ATTACKING U.S. \\\\\"AS WE SIT HERE\\\\\". . . . Josephine Lukito Graduate School Research Cited in Mueller Report\\n2019-07-25 19:10:00\\tMSNBCW\\t56\\tMSNBCW_20190725_190000_MSNBC_Live_With_Ali_Velshi/start/600\\tMUELLER: TRUMP COULD BE INDICTED AFI\\'ER LEAVING OFFICE\\n2019-07-25 19:10:00\\tCNNW\\t62\\tCNNW_20190725_190000_CNN_Newsroom_With_Brooke_Baldwin/start/600\\tMUELLER WARNS: RUSSIA ATTACKING U.S. \\\\\"AS WE SIT HERE\\\\\". . Josephine Lukito Graduate School Research Cited in Mueller Report\\n2019-07-25 19:10:00\\tBBCNEWS\\t14\\tBBCNEWS_20190725_190000_BBC_News/start/600\\tUK heatwave. Hottest day of the year so far in the UK\\\\nUK heatwave. Temperatures reach 38.1: in Cambridge\\\\nBBC Weather\\\\nUK heatwave. Current record of 38.5c set in August 2OO3\\n2019-07-25 19:10:00\\tFOXNEWSW\\t23\\tFOXNEWSW_20190725_190000_Shepard_Smith_Reporting/start/600\\twDayUSA.com 1-8OO-36O-71 81\\n2019-07-25 19:11:00\\tBBCNEWS\\t10\\tBBCNEWS_20190725_190000_BBC_News/start/660\\tUK heatwave. Faversham in Kent holds current temperature record\\\\nUK heatwave. Scotland & Wales could see temperatures close to 3O:\\\\nUK heatwave. Temperatures reach 39.4 in the Netherlands\\\\nUK heatwave....\\n2019-07-25 19:12:00\\tMSNBCW\\t35\\tMSNBCW_20190725_190000_MSNBC_Live_With_Ali_Velshi/start/720\\tMUELLER: TRUMP COULD BE INDICTED AFI\\'ER LEAVING OFFICE\\\\nDEMS WEIGH NEXT STEPS AFTER MUELLER TESTIMONY\\n2019-07-25 19:12:00\\tCNNW\\t5\\tCNNW_20190725_190000_CNN_Newsroom_With_Brooke_Baldwin/start/720\\tAIDE FIRED OVER FAKE SEAL THAT POPPED UP BEHIND TRUMP\\\\nThese statements have not been evaluated by the FDA.. This product is not intended to treat, cure or prevent any disease.\\n2019-07-25 19:12:00\\tBBCNEWS\\t11\\tBBCNEWS_20190725_190000_BBC_News/start/720\\tUK heatwave. UK sees its hottest July day on record\\\\nUK heatwave. Trains delayed due to damage to overhead power lines\\\\nUK heatwave. Temperatures reach 38.1: in Cambridge\\\\nUK heatwave....\\n2019-07-25 19:13:00\\tBBCNEWS\\t10\\tBBCNEWS_20190725_190000_BBC_News/start/780\\tEH. NEWS\\n2019-07-25 19:13:00\\tMSNBCW\\t30\\tMSNBCW_20190725_190000_MSNBC_Live_With_Ali_Velshi/start/780\\tDEMS WEIGH NEXT STEPS AFTER MUELLER TESTIMONY\\n2019-07-25 19:12:00\\tFOXNEWSW\\t27\\tFOXNEWSW_20190725_190000_Shepard_Smith_Reporting/start/720\\tCOUPLE FROM U.S. KILLED IN MEXICO. . ncnnn\\'r. EAA\\'IIV Eklf\\'nl IKITEDEI\\\\\" DnAhDI nrv \\\\\\\\AII\\'I\\'IJ fll IKIIAEKI\\n2019-07-25 19:14:00\\tCNNW\\t16\\tCNNW_20190725_190000_CNN_Newsroom_With_Brooke_Baldwin/start/840\\tETFs bv I E\\\\nl\\\\u2014l. . VAPOR PRODUCTS \\\\u00a92O19 RJRVC ([11) UNDERAGE SALE PROHIBITED\\n2019-07-25 19:14:00\\tMSNBCW\\t41\\tMSNBCW_20190725_190000_MSNBC_Live_With_Ali_Velshi/start/840\\tMUELLER LEAVES DEMS AS SPLIT AS EVER ON IMPEACHMENT\\\\nDEMS WEIGH NEXT STEPS AFTER MUELLER TESTIMONY\\n2019-07-25 19:15:00\\tCNNW\\t10\\tCNNW_20190725_190000_CNN_Newsroom_With_Brooke_Baldwin/start/900\\t4 Ann IAF IIIIAF\\n2019-07-25 19:15:00\\tMSNBCW\\t15\\tMSNBCW_20190725_190000_MSNBC_Live_With_Ali_Velshi/start/900\\tDEMS WEIGH NEXT STEPS AFTER MUELLER TESTIMONY\\\\nHOUSE INTEL CHIEF: \\\\\"NO PROSPECT\\\\\" OF. REMOVING TRUMP THROUGH IMPEACHMENT\\\\nPELOSI LOOKING TO FIGHT CASE AGAINST TRUMP IN THE...\\n2019-07-25 19:14:00\\tFOXNEWSW\\t12\\tFOXNEWSW_20190725_190000_Shepard_Smith_Reporting/start/840\\tEPSTEIN ALMOST UNCONSCIOUSIN CELL\\\\nEPSTEI\\' ALMOT UNCONSCOUSI CELL\\\\nESTPEIN ALMOST UNOCSCIOUS IN CLL\\n2019-07-25 19:16:00\\tBBCNEWS\\t4\\tBBCNEWS_20190725_190000_BBC_News/start/960\\tLabour L\\\\u00e9ader\\\\nSNP Westminster Leader\\n2019-07-25 19:16:00\\tMSNBCW\\t24\\tMSNBCW_20190725_190000_MSNBC_Live_With_Ali_Velshi/start/960\\tDEMS WEIGH NEXT STEPS AFTER MUELLER TESTIMONY\\\\nSWING STATE DEMS DON\\\\u2019T VIEW IMPEACHMENT AS BEST 2O2O PATH\\\\nMl DEM. PARTY YOUTH CAUCUS. ROB SEMBARSKI paesmem\\n2019-07-25 19:16:00\\tCNNW\\t9\\tCNNW_20190725_190000_CNN_Newsroom_With_Brooke_Baldwin/start/960\\ta Duke CIim\\\\u2019ca\\' Research Institute\\\\nCNN: BIDEN DRIVING MORE AGGRESSIVE APPROACH AGAINST RIVALS\\n2019-07-25 19:17:00\\tCNNW\\t18\\tCNNW_20190725_190000_CNN_Newsroom_With_Brooke_Baldwin/start/1020\\tCNN: BIDEN DRIVING MORE AGGRESSIVE APPROACH AGAINST RIVALS. Joe Biden (D) Presidential Candidate\\\\nCNN: BIDEN DRIVING MORE AGGRESSIVE APPROACH AGAINST RIVALS. Sen. Cory Booker (D) Presidential Candidate\\\\nCNN: BIDEN DRIVING MORE...\\n2019-07-25 19:17:00\\tBBCNEWS\\t26\\tBBCNEWS_20190725_190000_BBC_News/start/1020\\tConserva\\\\ufb01ve\\n2019-07-25 19:18:00\\tMSNBCW\\t16\\tMSNBCW_20190725_190000_MSNBC_Live_With_Ali_Velshi/start/1080\\tPELOSI UNMOVED ON IMPEACHMENT BY MUELLER HEARINGS\\\\nPELOSI LOOKING TO FIGHT CASE AGAINST TRUMP IN THE COURTS\\\\nFEDERAL GOVT. TO RESUME DEATH PENALTY AFTER 2 DECADES\\\\n16 MARINES ARRESTED ON...\\n2019-07-25 19:18:00\\tCNNW\\t29\\tCNNW_20190725_190000_CNN_Newsroom_With_Brooke_Baldwin/start/1080\\tBIDEN: NOT GOING TO BE \\\\\"POLITE\\\\\" ANYMORE WHEN I\\'M A\\'ITACKED\\\\nBIDEN: NOT GOING TO BE \\\\\"POLITE\\\\\" ANYMORE WHEN I\\'M ATI\\'ACKED. . Gloria Borger OW Chief Political Analyst\\n2019-07-25 19:18:00\\tFOXNEWSW\\t20\\tFOXNEWSW_20190725_190000_Shepard_Smith_Reporting/start/1080\\tl-BUU-Alit-WISI:\\n2019-07-25 19:19:00\\tMSNBCW\\t15\\tMSNBCW_20190725_190000_MSNBC_Live_With_Ali_Velshi/start/1140\\t877-CASH-NOW. . jgwentworth.com\\n2019-07-25 19:19:00\\tCNNW\\t19\\tCNNW_20190725_190000_CNN_Newsroom_With_Brooke_Baldwin/start/1140\\tBIDEN: NOT GOING TO BE \\\\\"POLITE\\\\\" ANYMORE WHEN I\\'M ATI\\'ACKED. . Gloria Borger OW Chief Political Analyst\\\\nBIDEN ON HARRIS\\' MEDICARE-FOR-ALL PROMISES: \\\\\"FANTASY WORLD\\\\\"\\\\nBIDEN: NOT GOING TO BE \\\\\"POLITE\\\\\" ANYMORE WHEN I\\'M A\\'ITACKED\\\\nBIDEN ON...\\n2019-07-25 19:20:00\\tFOXNEWSW\\t3\\tFOXNEWSW_20190725_190000_Shepard_Smith_Reporting/start/1200\\tSPECIAL REPORT. . WITH BRET BAIER. . FT-\\n2019-07-25 19:20:00\\tCNNW\\t62\\tCNNW_20190725_190000_CNN_Newsroom_With_Brooke_Baldwin/start/1200\\tBIDEN ON HARRIS: \\\\\"I THOUGHT WE WERE FRIENDS\\\\\" & HOPE WE WILL BE\\n2019-07-25 19:21:00\\tBBCNEWS\\t10\\tBBCNEWS_20190725_190000_BBC_News/start/1260\\tNissan job cuts. Car maker announces 12,5OOjob cms a\\\\ufb01er earnings report\\\\nNissan job cuts. Nissan io cut 1O% of giobal production capacity by 2O22\\\\nNissan job cuts. Reports suggest manyjob losses to come in...\\n2019-07-25 19:21:00\\tCNNW\\t33\\tCNNW_20190725_190000_CNN_Newsroom_With_Brooke_Baldwin/start/1260\\tBIDEN: NOT GOING TO BE \\\\\"POLITE\\\\\" ANYMORE WHEN I\\'M A\\'ITACKED\\\\nBIDEN ON HARRIS: \\\\\"I THOUGHT WE WERE FRIENDS\\\\\" & HOPE WE WILL BE\\n2019-07-25 19:21:00\\tFOXNEWSW\\t10\\tFOXNEWSW_20190725_190000_Shepard_Smith_Reporting/start/1260\\tOLE MISS STUDENT KILLED. . EIKIAI IA\\'AIZEC \\\\ufb02: AIIV III\\'\\\\\\\\C\\'I\\'IAI CIJ\\\\ufb02\\'AI LIED IEA\\'IIKIIZ DAD\\n2019-07-25 19:22:00\\tCNNW\\t33\\tCNNW_20190725_190000_CNN_Newsroom_With_Brooke_Baldwin/start/1320\\tBIDEN: NOT GOING TO BE \\\\\"POLITE\\\\\" ANYMORE WHEN I\\'M A\\'ITACKED\\\\nAIDE FIRED OVER A FAKE SEAL THAT POPPED UP BEHIND TRUMP\\n2019-07-25 19:22:00\\tBBCNEWS\\t10\\tBBCNEWS_20190725_190000_BBC_News/start/1320\\tNissan job cuts. Nissan\\'s quanerly net pro\\\\ufb01t has fallen nearly 95%\\\\nNissan job cuts. One of the carmaker\\'s worst performances in a decade\\\\nNissan job cuts. Company atready made 6.4OOjob cuts in 2O18 84...\\n2019-07-25 19:22:00\\tFOXNEWSW\\t8\\tFOXNEWSW_20190725_190000_Shepard_Smith_Reporting/start/1320\\tOLE MISS STUDENT KILLED. . (\\'I ACCA\\' ATE runnncn \\\\\\\\AII\\'I\\'IJ All IDhEDIklfl AI IV I/nCTI AI\\n2019-07-25 19:22:00\\tMSNBCW\\t22\\tMSNBCW_20190725_190000_MSNBC_Live_With_Ali_Velshi/start/1320\\tFEDERAL GOVT. TO RESUME DEATH PENALTY AFI\\'ER 2 DECADES\\n2019-07-25 19:23:00\\tCNNW\\t37\\tCNNW_20190725_190000_CNN_Newsroom_With_Brooke_Baldwin/start/1380\\tAIDE FIRED OVER A FAKE SEAL THAT POPPED UP BEHIND TRUMP\\\\nAIDE FIRED OVER A FAKE SEAL THAT POPPED UP BEHIND TRUMP. . Sarah Westwood OW White House Reporter\\n2019-07-25 19:23:00\\tBBCNEWS\\t10\\tBBCNEWS_20190725_190000_BBC_News/start/1380\\tNissan job cuts. Car maker announces 12,5OOij cms after earnings report\\\\nNissan job cuts. Nissan to cut 1O% of global production capacity by 2O22\\\\nNissan job cuts. Reports suggest manyjob losses to come in...\\n2019-07-25 19:24:00\\tCNNW\\t31\\tCNNW_20190725_190000_CNN_Newsroom_With_Brooke_Baldwin/start/1440\\tAIDE FIRED OVER A FAKE SEAL THAT POPPED UP BEHIND TRUMP. . Sarah Westwood OW White House Reporter\\\\nAIDE FIRED OVER A FAKE SEAL THAT POPPED UP BEHIND TRUMP\\n2019-07-25 19:24:00\\tBBCNEWS\\t10\\tBBCNEWS_20190725_190000_BBC_News/start/1440\\tYousef Makki death. Yausef Makki was stabbed in the heart with a flick knife\\\\nNissan job cuts. Company already made 6,4OOjob cuts in 2O18 & 2O19\\\\nNews Correspondent\\n2019-07-25 19:24:00\\tFOXNEWSW\\t11\\tFOXNEWSW_20190725_190000_Shepard_Smith_Reporting/start/1440\\tOLE MISS STUDENT KILLED. . EIKIAI IA\\'AIZEC ru: AIIV III\\'\\\\\\\\C\\'I\\'IAI CIJn\\\\\\\\AI LIED IEA\\'IIKIIZ DAD\\n2019-07-25 19:25:00\\tCNNW\\t14\\tCNNW_20190725_190000_CNN_Newsroom_With_Brooke_Baldwin/start/1500\\tEPSTEIN FOUND INJURED IN JAIL CELL WITH MARKINGS ON HIS NECK\\\\n1- 8OO- 577- 8644_\\n2019-07-25 19:25:00\\tBBCNEWS\\t10\\tBBCNEWS_20190725_190000_BBC_News/start/1500\\tYousef Makki death. . 17 year old was stabbed in Hale Barns in March\\\\nYousef Makki death. . Teenagerwho lied to police will spend eight months injail\\\\nYousef Makki death. . Boy A was cleared of murder and...\\n2019-07-25 19:25:00\\tFOXNEWSW\\t9\\tFOXNEWSW_20190725_190000_Shepard_Smith_Reporting/start/1500\\t> REX RAVITA | SUSPECT\\'S FORMER NEIGHBOR\\n2019-07-25 19:26:00\\tCNNW\\t24\\tCNNW_20190725_190000_CNN_Newsroom_With_Brooke_Baldwin/start/1560\\t1-8OO-577-8644\\n2019-07-25 19:26:00\\tMSNBCW\\t12\\tMSNBCW_20190725_190000_MSNBC_Live_With_Ali_Velshi/start/1560\\tPUERTO RICANS CELEBRATE AS GOVERNOR. RESIGNS AFTER MASS PROTESTS\\n2019-07-25 19:27:00\\tMSNBCW\\t5\\tMSNBCW_20190725_190000_MSNBC_Live_With_Ali_Velshi/start/1620\\tThese statements have not been evaluated by the FDA.. This product is not intended to treat, cure or prevent any disease\\n2019-07-25 19:27:00\\tBBCNEWS\\t22\\tBBCNEWS_20190725_190000_BBC_News/start/1620\\t\\\\\"\\\\\"\\\\\" Plymouth. . SI Helier in Thursday 23\\' O\\n2019-07-25 19:27:00\\tCNNW\\t21\\tCNNW_20190725_190000_CNN_Newsroom_With_Brooke_Baldwin/start/1620\\t1- 8OO- 577- 8644_\\\\n1-8OO- 577-8644\\n2019-07-25 19:28:00\\tMSNBCW\\t8\\tMSNBCW_20190725_190000_MSNBC_Live_With_Ali_Velshi/start/1680\\t\\\\\"Compared to HUM\\n2019-07-25 19:28:00\\tFOXNEWSW\\t15\\tFOXNEWSW_20190725_190000_Shepard_Smith_Reporting/start/1680\\t(Q LEAR CAPITAL. BuvLearSilvem-nm 1_an_QQR_/.nnn\\n2019-07-25 19:29:00\\tMSNBCW\\t5\\tMSNBCW_20190725_190000_MSNBC_Live_With_Ali_Velshi/start/1740\\tth available to all US. patients Restrictions apply. See HUMIRAcom for full eligibility requi\\n2019-07-25 19:29:00\\tBBCNEWS\\t28\\tBBCNEWS_20190725_190000_BBC_News/start/1740\\taay on recora\\n2019-07-25 19:29:00\\tCNNW\\t13\\tCNNW_20190725_190000_CNN_Newsroom_With_Brooke_Baldwin/start/1740\\tWATERFALL. CASCADA\\\\nEPSTEIN FOUND INJURED IN JAIL CELL WITH MARKINGS ON HIS NECK\\n2019-07-25 19:30:00\\tMSNBCW\\t54\\tMSNBCW_20190725_190000_MSNBC_Live_With_Ali_Velshi/start/1800\\tPUERTO RICANS CELEBRATE AS GOVERNOR. RESIGNS AFTER MASS PROTESTS\\n2019-07-25 19:30:00\\tCNNW\\t20\\tCNNW_20190725_190000_CNN_Newsroom_With_Brooke_Baldwin/start/1800\\tCNN: EPSTEIN ON SUICIDE WATCH, SAYS HE WAS BEATEN UP IN JAIL\\\\nCNN: EPSTEIN ON SUICIDE WATCH SAYS HE WAS BEATEN UP IN JAIL. . Shimon Prokupecz OW Crime and Justice Reporter\\\\nM\\\\u00aeVIHES 3\\\\u20195va\\\\nEPSTEIN...\\n2019-07-25 19:31:00\\tMSNBCW\\t33\\tMSNBCW_20190725_190000_MSNBC_Live_With_Ali_Velshi/start/1860\\tPUERTO RICO PROTESTERS SAY THEY. WANT TO CLEAN GOVT OF CORRUPTION\\\\nPUERTO RICANS CELEBRATE AS GOVERNOR. RESIGNS AFTER MASS PROTESTS\\n2019-07-25 19:31:00\\tCNNW\\t62\\tCNNW_20190725_190000_CNN_Newsroom_With_Brooke_Baldwin/start/1860\\tCNN: EPSTEIN ON SUICIDE WATCH SAYS HE WAS BEATEN UP IN JAIL. . Shimon Prokupecz OW Crime and Justice Reporter\\n2019-07-25 19:30:00\\tFOXNEWSW\\t6\\tFOXNEWSW_20190725_190000_Shepard_Smith_Reporting/start/1800\\t1-8OO-MIRACLE\\n2019-07-25 19:32:00\\tMSNBCW\\t46\\tMSNBCW_20190725_190000_MSNBC_Live_With_Ali_Velshi/start/1920\\tPUERTO RICANS CELEBRATE AS GOVERNOR. RESIGNS AFTER MASS PROTESTS\\\\nPUERTO RICO PROTESTERS SAY THEY. WANT TO CLEAN GOVT OF CORRUPTION\\\\nGABE GUTIERREZ ggzg\\\\u00e9gggsNDENT\\n2019-07-25 19:33:00\\tMSNBCW\\t45\\tMSNBCW_20190725_190000_MSNBC_Live_With_Ali_Velshi/start/1980\\tPUERTO RICO PROTESTERS SAY THEY. WANT TO CLEAN GOVT OF CORRUPTION\\\\nPUERTO RICANS CELEBRATE AS GOVERNOR. RESIGNS AFTER MASS PROTESTS\\n2019-07-25 19:33:00\\tCNNW\\t18\\tCNNW_20190725_190000_CNN_Newsroom_With_Brooke_Baldwin/start/1980\\tU.S. CITIZEN WRONGFULLY DETAINED DESCRIBES GRIM CONDITIONS\\\\nRED FLAGS ON FAMILY SEPARATIONS RAISED INTERNALLY IN TRUMP ADMIN.\\\\nCNN: EPSTEIN ON SUICIDE WATCH SAYS HE WAS BEATEN UP IN JAIL. ....\\n2019-07-25 19:32:00\\tFOXNEWSW\\t20\\tFOXNEWSW_20190725_190000_Shepard_Smith_Reporting/start/1920\\tHONORING THE PENTAGON\\'S NEW LEADER\\n2019-07-25 19:34:00\\tCNNW\\t16\\tCNNW_20190725_190000_CNN_Newsroom_With_Brooke_Baldwin/start/2040\\tW. . Beagtifql Floors.\\n2019-07-25 19:35:00\\tBBCNEWS\\t11\\tBBCNEWS_20190725_190000_BBC_News/start/2100\\tUK heatwave. UK sees its honest July day on record\\\\nUK heatwave. Hottest day of the year so far in the UK\\\\nTour\\\\u00e9uide\\n2019-07-25 19:35:00\\tMSNBCW\\t53\\tMSNBCW_20190725_190000_MSNBC_Live_With_Ali_Velshi/start/2100\\tPUERTO RICANS CELEBRATE AS GOVERNOR. RESIGNS AFTER MASS PROTESTS\\\\nPUERTO RICO PROTESTERS SAY THEY. WANT TO CLEAN GOVT OF CORRUPTION\\n2019-07-25 19:34:00\\tFOXNEWSW\\t14\\tFOXNEWSW_20190725_190000_Shepard_Smith_Reporting/start/2040\\tU.S. SPECIAL OPERATIONS COMMAND\\n2019-07-25 19:36:00\\tBBCNEWS\\t10\\tBBCNEWS_20190725_190000_BBC_News/start/2160\\tUK heatwave. Current record of 38.5c set in Augus\\' 2OO3\\\\nUK heatwave. Faversham in Kent holds current temperature record\\\\nUK heatwave. Scotland & Wales could see temperatures close to 3O:\\\\nUK...\\n2019-07-25 19:36:00\\tMSNBCW\\t12\\tMSNBCW_20190725_190000_MSNBC_Live_With_Ali_Velshi/start/2160\\tSOUTHWEST DROPPING NEWARK AS A. DESTINATION DUE TO 737 MAX DELAYS\\\\nPUERTO RICANS CELEBRATE AS GOVERNOR. RESIGNS AFTER MASS PROTESTS\\n2019-07-25 19:37:00\\tBBCNEWS\\t13\\tBBCNEWS_20190725_190000_BBC_News/start/2220\\tUK heatwave. Network Rail warns disruption could continue\\\\nUK heatwave. Trains delayed due to damage to overhead power lines\\\\nUK heatwave. UK sees its hones\\' July day on record\\\\nUK heatwave....\\n2019-07-25 19:38:00\\tBBCNEWS\\t16\\tBBCNEWS_20190725_190000_BBC_News/start/2280\\t19OO Years 2O2O. EEII NEWS\\\\nChief Executive, Royal Mateo-rological Society\\n2019-07-25 19:38:00\\tCNNW\\t33\\tCNNW_20190725_190000_CNN_Newsroom_With_Brooke_Baldwin/start/2280\\tRED FLAGS ON FAMILY SEPARATIONS RAISED INTERNALLY IN TRUMP ADMIN.\\n2019-07-25 19:39:00\\tBBCNEWS\\t20\\tBBCNEWS_20190725_190000_BBC_News/start/2340\\tE\\\\ufb02l NEWS\\\\nEHI NEWS\\n2019-07-25 19:39:00\\tFOXNEWSW\\t22\\tFOXNEWSW_20190725_190000_Shepard_Smith_Reporting/start/2340\\tSOON: TRUMP SPEAKS\\n2019-07-25 19:40:00\\tMSNBCW\\t60\\tMSNBCW_20190725_190000_MSNBC_Live_With_Ali_Velshi/start/2400\\tSOUTHWEST TAKES STEPS TO MITIGATE. FINANCIAL TOLL OF 737 MAX GROUNDING\\n2019-07-25 19:40:00\\tCNNW\\t22\\tCNNW_20190725_190000_CNN_Newsroom_With_Brooke_Baldwin/start/2400\\tHHS OFFICIAL: EVERY CAREER MEMBER IN DEPT. OPPOSED POLICY\\\\nBORDER PATROL OFFICIAL ACCUSED OF \\\\\"KIDNAPPING\\\\\" MIGRANT CHILDREN\\\\nRED FLAGS ON FAMILY SEPARATIONS RAISED INTERNALLY IN TRUMP ADMIN.\\n2019-07-25 19:41:00\\tMSNBCW\\t47\\tMSNBCW_20190725_190000_MSNBC_Live_With_Ali_Velshi/start/2460\\tSOUTHWEST DROPPING NEWARK AS A. DESTINATION DUE TO 737 MAX DELAYS\\\\nSOUTHWEST TAKES STEPS TO MITIGATE. FINANCIAL TOLL OF 737 MAX GROUNDING\\n2019-07-25 19:41:00\\tBBCNEWS\\t38\\tBBCNEWS_20190725_190000_BBC_News/start/2460\\tUK heatwave. UK sees its hones\\' July day on record\\\\nBEII NEWS\\n2019-07-25 19:41:00\\tCNNW\\t33\\tCNNW_20190725_190000_CNN_Newsroom_With_Brooke_Baldwin/start/2460\\tDALLAS TEEN WRONGFULLY DETAINED SAYS HE LOST 26 POUNDS\\\\nBORDER PATROL OFFICIAL ACCUSED OF \\\\\"KIDNAPPING\\\\\" MIGRANT CHILDREN\\n2019-07-25 19:42:00\\tMSNBCW\\t28\\tMSNBCW_20190725_190000_MSNBC_Live_With_Ali_Velshi/start/2520\\tSOUTHWEST DROPPING NEWARK AS A. DESTINATION DUE TO 737 MAX DELAYS\\\\nSOUTHWEST ASKS BOEING TO HELP. PAY FOR PROLONGED 737 MAX LOSSES\\\\nSOUTHWEST TAKES STEPS TO MITIGATE. FINANCIAL TOLL OF 737 MAX GROUNDING\\n2019-07-25 19:42:00\\tCNNW\\t38\\tCNNW_20190725_190000_CNN_Newsroom_With_Brooke_Baldwin/start/2520\\tDALLAS TEEN WRONGFULLY DETAINED SAYS HE LOST 26 POUNDS\\\\nDALLAS TEEN WRONGFULLY DETAINED SAYS HE LOST 26 POUNDS. . . . NiCk Valencia OW Correspondent\\n2019-07-25 19:43:00\\tMSNBCW\\t21\\tMSNBCW_20190725_190000_MSNBC_Live_With_Ali_Velshi/start/2580\\tSOUTHWEST TAKES STEPS TO MITIGATE. FINANCIAL TOLL OF 737 MAX GROUNDING\\\\nFACEBOOK HIT WITH RECORD $5B FINE OVER PRIVACY\\\\nSOUTHWEST DROPPING NEWARK AS A. DESTINATION DUE TO 737 MAX DELAYS\\n2019-07-25 19:43:00\\tCNNW\\t35\\tCNNW_20190725_190000_CNN_Newsroom_With_Brooke_Baldwin/start/2580\\tBORDER PATROL CHIEF FINDS SHE\\'S PART OF ANTI-MIGRANT CHAT GROUP. . . . Carla Provost says she knew nothing about vulgar comments about immigrants\\\\nBORDER PATROL CHIEF FINDS SHE\\'S PART OF ANTI-MIGRANT CHAT GROUP. . . . Carla Provost Border Patrol Chief\\\\nFULL INTERVIEW WITH U.S....\\n2019-07-25 19:44:00\\tBBCNEWS\\t11\\tBBCNEWS_20190725_190000_BBC_News/start/2640\\tUK heatwave. Hottesk day of \\'he year so far in the UK\\\\nUK heatwave. Faversham in Kent holds current remperarure record\\\\nUK heatwave. Currem record of38.5cse\\' in August 2OO3\\\\nUK heatwave....\\n2019-07-25 19:44:00\\tFOXNEWSW\\t21\\tFOXNEWSW_20190725_190000_Shepard_Smith_Reporting/start/2640\\t. MCCONNELL BLOCKS TWO ELECTION SECURITY BILLS. . ACTED MI III I ED \\\\\\\\AIADMC Annl IT DI ICCIAM M\\\\ufb02nhl IMP.\\\\nMCCONNELL BLOCKS TWO ELECTION \\\\u00e9ECURITY BILLS\\n2019-07-25 19:44:00\\tMSNBCW\\t23\\tMSNBCW_20190725_190000_MSNBC_Live_With_Ali_Velshi/start/2640\\t1-8OO-AGE-WISE\\\\u2014 W\\n2019-07-25 19:45:00\\tBBCNEWS\\t12\\tBBCNEWS_20190725_190000_BBC_News/start/2700\\tUK heatwave. RSPCA warn no\\' m leave animals in cars or conservatories\\\\nUK heatwave. A :emperature of 47: degrees can be fakal for dogs\\\\nUK heatwave. RSPCA advice: Walk dogs in early morning or evening\\\\nUK...\\n2019-07-25 19:45:00\\tCNNW\\t16\\tCNNW_20190725_190000_CNN_Newsroom_With_Brooke_Baldwin/start/2700\\tETFS bv I E\\n2019-07-25 19:46:00\\tBBCNEWS\\t14\\tBBCNEWS_20190725_190000_BBC_News/start/2760\\tUK heatwave. UK sees its hones\\' July day on record\\\\nUK heatwave. RSPCA warn no\\' :O leave animals in cars or conservatories\\\\nUK heatwave. RSCPA recommend using pee safe sunscreen on...\\n2019-07-25 19:46:00\\tMSNBCW\\t24\\tMSNBCW_20190725_190000_MSNBC_Live_With_Ali_Velshi/start/2760\\tI vvv luv I\\\\u2014vv LOLO. ColunialPenn.com Colonial\\\\nl vvv l l v l hvv LDLO. . ColonialPenn.com Colonial\\\\n(ages van/ In San!\\n2019-07-25 19:46:00\\tCNNW\\t12\\tCNNW_20190725_190000_CNN_Newsroom_With_Brooke_Baldwin/start/2760\\tBy prescription only HUMIRA.COM/PSA\\\\nIndividual results may vary HUMIRALOMIPSA\\n2019-07-25 19:47:00\\tBBCNEWS\\t32\\tBBCNEWS_20190725_190000_BBC_News/start/2820\\tE\\\\ufb02l NEWS\\n2019-07-25 19:47:00\\tFOXNEWSW\\t28\\tFOXNEWSW_20190725_190000_Shepard_Smith_Reporting/start/2820\\t8OO-728-14O1\\n2019-07-25 19:47:00\\tMSNBCW\\t11\\tMSNBCW_20190725_190000_MSNBC_Live_With_Ali_Velshi/start/2820\\tvvv l l v l hvv LOLO. ColonialPenn.com Coloniar\\\\nvvv l l v l hvv LOLO. ColonialPenn.com Colonial\\\\nColonialPenn.com\\n2019-07-25 19:48:00\\tMSNBCW\\t51\\tMSNBCW_20190725_190000_MSNBC_Live_With_Ali_Velshi/start/2880\\t16 MARINES ARRESTED ON HUMAN SMUGGLING, DRUG CHARGES\\n2019-07-25 19:48:00\\tBBCNEWS\\t11\\tBBCNEWS_20190725_190000_BBC_News/start/2880\\tJohnson\\'s plan for social care. New PM promises to \\'fix the crisis once and for all\\'\\\\nJohnson\\'s plan for social care. Promises to protect from \\'fear of having to sell your home\\'\\\\nJohnson\\'s plan for social care. Promising...\\n2019-07-25 19:49:00\\tCNNW\\t18\\tCNNW_20190725_190000_CNN_Newsroom_With_Brooke_Baldwin/start/2940\\tSENATE REPORT: DHS AND FBI DIDN\\'T DO ENOUGH TO. WARN STATES AGAINST RUSSIAN INTERFERENCE\\\\nNEW QUESTIONS, REVELATIONS ABOUT TRUMP PICK MONICA CROWLEY\\\\nKFILE INVESTIGATION\\n2019-07-25 19:50:00\\tMSNBCW\\t24\\tMSNBCW_20190725_190000_MSNBC_Live_With_Ali_Velshi/start/3000\\tFACEBOOK HIT WITH RECORD $53 FINE OVER PRIVACY\\n2019-07-25 19:50:00\\tCNNW\\t39\\tCNNW_20190725_190000_CNN_Newsroom_With_Brooke_Baldwin/start/3000\\tNEW QUESTIONS REVELATIONS ABOUT TRUMP PICK MONICA CROWLEY. . Andrew Kaczynski Senior Editor, OW KFILE\\\\nNEW QUESTIONS, REVELATIONS ABOUT TRUMP PICK MONICA CROWLEY\\n2019-07-25 19:50:00\\tBBCNEWS\\t12\\tBBCNEWS_20190725_190000_BBC_News/start/3000\\tJohnson\\'s plan for social care. Councils are call\\'mg for govt plans by September\\\\nJohnson\\'s plan for social care. Govt already provided \\\\u00a365Om for residential care this year\\\\nJohnson\\'s plan for social care. New PM...\\n2019-07-25 19:51:00\\tMSNBCW\\t21\\tMSNBCW_20190725_190000_MSNBC_Live_With_Ali_Velshi/start/3060\\tFACEBOOK HIT WITH RECORD $53 FINE OVER PRIVACY\\\\nEARLY INVESTOR IN FACEBOOK ON RECORD $53 FINE\\\\n$53 FACEBOOK FINE SEEN AS SLAP ON WRIST\\\\nFACEBOOK POSTS STRONG EARNINGS. AS FEDS IMPOSE...\\n2019-07-25 19:51:00\\tCNNW\\t24\\tCNNW_20190725_190000_CNN_Newsroom_With_Brooke_Baldwin/start/3060\\tTRUMP TREASURY PICK SPREAD FALSE OBAMA SMEARS. . Andrew Kaczynski Senior Editor, OW KFILE\\\\nNEW QUESTIONS, REVELATIONS ABOUT TRUMP PICK MONICA CROWLEY\\\\nNEW QUESTIONS REVELATIONS ABOUT TRUMP PICK MONICA CROWLEY. . Andrew...\\n2019-07-25 19:50:00\\tFOXNEWSW\\t10\\tFOXNEWSW_20190725_190000_Shepard_Smith_Reporting/start/3000\\tINVENTOR FLIES ON HOVERBOARD. . DEAFUEC (DEEHC n: ADnI Iklh 1nn I\\'ll EC DEB Unl ID\\\\n\\' INEVNTO FLIES HOVERBOARD\\n2019-07-25 19:51:00\\tBBCNEWS\\t7\\tBBCNEWS_20190725_190000_BBC_News/start/3060\\tJohnson\\'s plan for social care. Johnson: Everyone deserves \\'securiky and dignity in their om age\\'\\\\nJohnson\\'s plan for social care. Councils are calllug for govt plans by September\\n2019-07-25 19:52:00\\tMSNBCW\\t17\\tMSNBCW_20190725_190000_MSNBC_Live_With_Ali_Velshi/start/3120\\tEARLY INVESTOR IN FACEBOOK ON RECORD $53 FINE\\\\nFACEBOOK POSTS STRONG EARNINGS. AS FEDS IMPOSE RECORD $53 FINE\\\\n$53 FACEBOOK FINE SEEN AS SLAP ON WRIST\\\\nFACEBOOK HIT WITH RECORD $5B...\\n2019-07-25 19:52:00\\tBBCNEWS\\t11\\tBBCNEWS_20190725_190000_BBC_News/start/3120\\tMercury Prize 2O19. . Shorrlisted nominees were announced earliertoday\\\\nThe Sunday Times\\n2019-07-25 19:53:00\\tMSNBCW\\t31\\tMSNBCW_20190725_190000_MSNBC_Live_With_Ali_Velshi/start/3180\\tEARLY INVESTOR IN FACEBOOK ON RECORD $53 FINE\\\\nFACEBOOK HIT WITH RECORD $53 FINE OVER PRIVACY\\\\n$58 FACEBOOK FINE SEEN AS SLAP ON WRIST\\n2019-07-25 19:52:00\\tFOXNEWSW\\t7\\tFOXNEWSW_20190725_190000_Shepard_Smith_Reporting/start/3120\\tINVENTOR FLIES ON HOVERBOARD. . \\'I\\'DIEC \\'rn I\\'DACC Ekl\\\\ufb02l ICLI I\\'IJAKILIEI III I\\'I\\' I\\'DACIJEC Ikl\\'l\\'n (EA\\n2019-07-25 19:52:00\\tCNNW\\t10\\tCNNW_20190725_190000_CNN_Newsroom_With_Brooke_Baldwin/start/3120\\tBARR ORDERS RESTART OF FEDERAL EXECUTIONS AFI\\'ER 16 YEARS\\\\nTRUMP TREASURY PICK SPREAD FALSE OBAMA SMEARS. . Andrew Kaczynski Senior Editor, cm KFILE\\\\nTRUMP TREASURY PICK SPREAD FALSE OBAMA SMEARS\\n2019-07-25 19:53:00\\tBBCNEWS\\t11\\tBBCNEWS_20190725_190000_BBC_News/start/3180\\tMercury Prize 2O19. . Albums shortlisted address race, class and Brexit\\\\nMercury Prize 2O19. . The winner will be announced in September\\\\nMercury Prize 2O19. . More than 2OO albums were submitted for...\\n2019-07-25 19:54:00\\tMSNBCW\\t23\\tMSNBCW_20190725_190000_MSNBC_Live_With_Ali_Velshi/start/3240\\t$58 FACEBOOK FINE SEEN AS SLAP ON WRIST\\\\nEARLY INVESTOR IN FACEBOOK ON RECORD $53 FINE\\\\nFACEBOOK AGREES TO ADOPT NEW. PRIVACY & SECURITY MEASURES\\\\nROGER MCNAMEE \\'...\\n2019-07-25 19:54:00\\tBBCNEWS\\t16\\tBBCNEWS_20190725_190000_BBC_News/start/3240\\tMercury Prize 2O19. . Albums shorrlisred address race, class and Brexit\\\\nMercury Prize 2O19. . Shorrlisted nominees were announced earlier roday\\\\nMercury Prize 2O19. . Shonlist includes ldles, Dave and...\\n2019-07-25 19:55:00\\tCNNW\\t10\\tCNNW_20190725_190000_CNN_Newsroom_With_Brooke_Baldwin/start/3300\\tnwayfair\\'\\n2019-07-25 19:55:00\\tMSNBCW\\t45\\tMSNBCW_20190725_190000_MSNBC_Live_With_Ali_Velshi/start/3300\\t$53 FACEBOOK FINE SEEN AS SLAP ON WRIST\\\\nFACEBOOK HIT WITH RECORD $5B FINE OVER PRIVACY\\n2019-07-25 19:55:00\\tFOXNEWSW\\t23\\tFOXNEWSW_20190725_190000_Shepard_Smith_Reporting/start/3300\\tOO) 53O-5858 \\' MesoKit.comS\\\\\"\\'\\n2019-07-25 19:55:00\\tBBCNEWS\\t11\\tBBCNEWS_20190725_190000_BBC_News/start/3300\\tMercury Prize 2O19. . Former nominee Stormzy is among thejudges\\\\nMercury Prize 2O19. . Shorrlisted nominees were announced earlier today\\\\nMercury Prize 2O19. . Shonlisr includes ldles, Dave and...\\n2019-07-25 19:56:00\\tCNNW\\t13\\tCNNW_20190725_190000_CNN_Newsroom_With_Brooke_Baldwin/start/3360\\tSEARCH FOR SUSPECTS WHO DOUSED COPS WITH WATER\\n2019-07-25 19:56:00\\tMSNBCW\\t9\\tMSNBCW_20190725_190000_MSNBC_Live_With_Ali_Velshi/start/3360\\tProgramm \\' - vvv uvw .. . GoHartfordAu1\\\\nFACEBOOK HIT WITH RECORD $5B FINE OVER PRIVACY\\n2019-07-25 19:56:00\\tBBCNEWS\\t7\\tBBCNEWS_20190725_190000_BBC_News/start/3360\\tMercury Prize 2O19. . More than 2OO aibums were submitted for consideration\\\\nMercury Prize 2O19. . The winner will be announced in September\\n2019-07-25 19:57:00\\tCNNW\\t56\\tCNNW_20190725_190000_CNN_Newsroom_With_Brooke_Baldwin/start/3420\\tSEARCH FOR SUSPECTS WHO DOUSED COPS WITH WATER\\\\nBARR ORDERS RESTART OF FEDERAL EXECUTIONS AFI\\'ER 16 YEARS\\n2019-07-25 19:57:00\\tBBCNEWS\\t22\\tBBCNEWS_20190725_190000_BBC_News/start/3420\\t\\\\\"\\\\\"\\\\\" Plymouth. . SI Helier in Thursday 23\\' O\\\\nThis weekend\\n2019-07-25 19:57:00\\tMSNBCW\\t7\\tMSNBCW_20190725_190000_MSNBC_Live_With_Ali_Velshi/start/3420\\tProgrammm \\\\ufb02 wvv Vv\\\\ufb01\\' .. ma. . GoHa rtfo rdAu1\\n2019-07-25 19:58:00\\tCNNW\\t31\\tCNNW_20190725_190000_CNN_Newsroom_With_Brooke_Baldwin/start/3480\\tBARR ORDERS RESTART OF FEDERAL EXECUTIONS AFI\\'ER 16 YEARS. . Evan P\\\\u00e9rez OW SeniorJustice Correspondent\\\\nBARR ORDERS RESTART OF FEDERAL EXECUTIONS AFI\\'ER 16 YEARS\\n2019-07-25 19:58:00\\tMSNBCW\\t9\\tMSNBCW_20190725_190000_MSNBC_Live_With_Ali_Velshi/start/3480\\tINLAN EPIRE RENO | A5 VEGAS IFIFARIEL\\n2019-07-25 19:59:00\\tMSNBCW\\t14\\tMSNBCW_20190725_190000_MSNBC_Live_With_Ali_Velshi/start/3540\\tWASH POST: TRUMP SPOKE IN FRONT OF FAKE. PRESIDENTIAL SEAL THAT INCLUDED A RUSSIA SYMBOL\\\\nINLAN EPIRE RENO | A5 VEGAS IFIFARIEL\\n2019-07-25 20:00:00\\tCNNW\\t11\\tCNNW_20190725_190000_CNN_Newsroom_With_Brooke_Baldwin/start/3600\\tDEMS GRAPPLE WITH NEXT MOVE AS TRUMP TRIES TO SPIN WIN\\n2019-07-25 20:00:00\\tMSNBCW\\t37\\tMSNBCW_20190725_190000_MSNBC_Live_With_Ali_Velshi/start/3600\\tEMBA\\'ITLED PUERTO RICO GOVERNOR RESIGNS. AFTER DAYS OF PUBLIC OUTCRY\\\\nWASH POST: TRUMP SPOKE IN FRONT OF FAKE. PRESIDENTIAL SEAL THAT INCLUDED A RUSSIA SYMBOL\\\\nWASH POST: EVENT STAFFER RESPONSIBLE. FOR...\\n2019-07-25 20:00:00\\tFOXNEWSW\\t35\\tFOXNEWSW_20190725_190000_Shepard_Smith_Reporting/start/3600\\tHOUSE SET TO VOTE ON BILL THAT WILL. BOOST GOVERNMENT SPENDING BY $32O BILLION\\n2019-07-25 20:01:00\\tMSNBCW\\t35\\tMSNBCW_20190725_200000_Deadline_White_House/start/60\\tEMBA\\'ITLED PUERTO RICO GOVERNOR RESIGNS. AFTER DAYS OF PUBLIC OUTCRY\\\\nREP. NANCY PELOSI | 353$?ng\\n2019-07-25 20:02:00\\tMSNBCW\\t27\\tMSNBCW_20190725_200000_Deadline_White_House/start/120\\tDEMOCRATS WEIGH NEXT STEPS AFTER MUELLER TESTIMONY\\\\nEMBA\\'ITLED PUERTO RICO GOVERNOR RESIGNS. AFTER DAYS OF PUBLIC OUTCRY\\\\nROSIE PEREZ ACTOR&ACTIVIST\\\\nREP. NANCY PELOSI | 353$?ng\\n2019-07-25 20:01:00\\tFOXNEWSW\\t11\\tFOXNEWSW_20190725_200000_Your_World_With_Neil_Cavuto/start/60\\tHOUSE SET TO VOTE ON BILL THAT WILL. BOOST GOVERNMENT SPENDING BY $32O BILLION. I\\\\n@i. . PRESIDEM DONALD TRUMI. m. . CHAD PERGRAM. . \\\\u2014/\\n2019-07-25 20:02:00\\tBBCNEWS\\t41\\tBBCNEWS_20190725_200000_Outside_Source/start/120\\tBEI NEWS\\n2019-07-25 20:02:00\\tCNNW\\t40\\tCNNW_20190725_200000_The_Lead_With_Jake_Tapper/start/120\\tDEMS GRAPPLE WITH NEXT MOVE AS TRUMP TRIES TO SPIN WIN\\\\nPELOSI: I WON\\'T DISCOURAGE DEMS FROM BACKING IMPEACHMENT\\n2019-07-25 20:03:00\\tMSNBCW\\t30\\tMSNBCW_20190725_200000_Deadline_White_House/start/180\\tJOE SCARBOROUGH TO DEMOCRATS: GO AFI\\'ER TRUMP. \\\\\"AND DO WHATEVER IT TAKES TO WIN\\\\\"\\\\nDEMOCRATS WEIGH NEXT STEPS AFTER MUELLER TESTIMONY\\\\nJOE SCARBOROUGH lgg\\\\ufb02gg\\'\\\\ufb01\\\\ufb01mmm-\\n2019-07-25 20:03:00\\tCNNW\\t42\\tCNNW_20190725_200000_The_Lead_With_Jake_Tapper/start/180\\tDEMS GRAPPLE WITH NEXT MOVE AS TRUMP TRIES TO SPIN WIN\\\\nTRUMP TRIES TO CLAIM VICTORY, AS MUELLER SAYS HE\\'S NOT EXONERATED\\\\nDEMS GRAPPLE WITH NEXT MOVE AS TRUMP TRIES TO SPIN WIN. . Kaitlan...\\n2019-07-25 20:04:00\\tMSNBCW\\t44\\tMSNBCW_20190725_200000_Deadline_White_House/start/240\\tDEMOCRATS WEIGH NEXT STEPS AFTER MUELLER TESTIMONY\\\\nHEATHER MCGHEE BIESMEJEUISHED SENIOR FELLOW\\\\nHEATHER MCGHEE BIESMICISIESUISHED SENIOR FELLOW\\n2019-07-25 20:04:00\\tCNNW\\t55\\tCNNW_20190725_200000_The_Lead_With_Jake_Tapper/start/240\\tDEMS GRAPPLE WITH NEXT MOVE AS TRUMP TRIES TO SPIN WIN\\\\nDEMS GRAPPLE WITH NEXT MOVE AS TRUMP TRIES TO SPIN WIN. . Kirsten Powers USA Today Columnist\\n2019-07-25 20:04:00\\tFOXNEWSW\\t17\\tFOXNEWSW_20190725_200000_Your_World_With_Neil_Cavuto/start/240\\tREFINITIV\\\\nSTOCKS HIT BY WORRIES ABOUT. GLOBAL ECONOMY, BOEING EARNINGS\\n2019-07-25 20:05:00\\tMSNBCW\\t55\\tMSNBCW_20190725_200000_Deadline_White_House/start/300\\tDEMOCRATS WEIGH NEXT STEPS AFTER MUELLER TESTIMONY\\n2019-07-25 20:06:00\\tCNNW\\t44\\tCNNW_20190725_200000_The_Lead_With_Jake_Tapper/start/360\\tDEMS GRAPPLE WITH NEXT MOVE AS TRUMP TRIES TO SPIN WIN\\\\nPELOSI: I WON\\'T DISCOURAGE DEMS FROM BACKING IMPEACHMENT\\\\nPELOSI: I WON\\'T DISCOURAGE DEMS FROM BACKING IMPEACHMENT. . Jamal Simmons...\\n2019-07-25 20:05:00\\tFOXNEWSW\\t14\\tFOXNEWSW_20190725_200000_Your_World_With_Neil_Cavuto/start/300\\tNOELLE NIKPOUR. GOP STRATEGIST\\n2019-07-25 20:07:00\\tCNNW\\t43\\tCNNW_20190725_200000_The_Lead_With_Jake_Tapper/start/420\\tDEMS GRAPPLE WITH NEXT MOVE AS TRUMP TRIES TO SPIN WIN\\\\nDEMS GRAPPLE WITH NEXT MOVE AS TRUMP TRIES TO SPIN WIN. . Jamal Simmons Host, Hi||.TV\\'s Why You Should Care\\\\nDEMS GRAPPLE WITH NEXT...\\n2019-07-25 20:07:00\\tMSNBCW\\t27\\tMSNBCW_20190725_200000_Deadline_White_House/start/420\\tDEMOCRATS WEIGH NEXT STEPS AFTER MUELLER TESTIMONY\\\\nEMBATI\\'LED PUERTO RICO GOVERNOR RESIGNS. AFTER DAYS OF PUBLIC OUTCRY\\\\nFMR.UNDERSECRETARYOFSTATE. - RICK STENGEL FORPUBLICDIPLOMACY\\n2019-07-25 20:07:00\\tFOXNEWSW\\t21\\tFOXNEWSW_20190725_200000_Your_World_With_Neil_Cavuto/start/420\\tPRESIDENT TRUMP HOLDS JOBS EVENT AT WHITE HOUSE. AS HIS POLL NUMBERS IMPROVE ON ECONOMY. . I\\n2019-07-25 20:09:00\\tMSNBCW\\t45\\tMSNBCW_20190725_200000_Deadline_White_House/start/540\\tJOE SCARBOROUGH TO DEMOCRATS: GO AFI\\'ER TRUMP. \\\\\"AND DO WHATEVER IT TAKES TO WIN\\\\\"\\\\nDEMOCRATS WEIGH NEXT STEPS AFTER MUELLER TESTIMONY\\n2019-07-25 20:09:00\\tFOXNEWSW\\t12\\tFOXNEWSW_20190725_200000_Your_World_With_Neil_Cavuto/start/540\\tMAX BURNS. DEMOCRATIC STRATEGIST\\\\nFOX POLL: 52% APPROVE OF PRESIDENT TRUMP\\'S \\'. HANDLING OF THE ECONOMY. . . . [\\n2019-07-25 20:09:00\\tCNNW\\t44\\tCNNW_20190725_200000_The_Lead_With_Jake_Tapper/start/540\\tDEMS GRAPPLE WITH NEXT MOVE AS TRUMP TRIES TO SPIN WIN\\\\nTRUMP TRIES TO CLAIM VICTORY, AS MUELLER SAYS HE\\'S NOT EXONERATED\\\\nTRUMP TRIES TO CLAIM VICTORY, AS MUELLER SAYS HE\\'S NOT EXONERATED. ....\\n2019-07-25 20:10:00\\tMSNBCW\\t49\\tMSNBCW_20190725_200000_Deadline_White_House/start/600\\tJOE SCARBOROUGH TO DEMOCRATS: GO AFI\\'ER TRUMP. \\\\\"AND DO WHATEVER IT TAKES TO WIN\\\\\"\\\\n6hr :Ncm \\\\ufb02urk 6111O5. MARK LEI BOVICH l CHIEF NATIONAL CORRESPONDENT\\n2019-07-25 20:10:00\\tFOXNEWSW\\t15\\tFOXNEWSW_20190725_200000_Your_World_With_Neil_Cavuto/start/600\\tHOUSE SET TO VOTE ON BILL THAT WILL. BOOST GOVERNMENT SPENDING BY $32O BILLION. l \\' I \\' \\'\\\\nFOX POLL: 52% APPROVE OF PRESIDENT TRUMP\\' S. HANDLING OF THE ECQNOMYi. . . . [7 i,\\n2019-07-25 20:10:00\\tCNNW\\t39\\tCNNW_20190725_200000_The_Lead_With_Jake_Tapper/start/600\\tTRUMP TRIES TO CLAIM VICTORY, AS MUELLER SAYS HE\\'S NOT EXONERATED\\\\nSEAL SLIP-UP\\n2019-07-25 20:11:00\\tMSNBCW\\t52\\tMSNBCW_20190725_200000_Deadline_White_House/start/660\\tJOE SCARBOROUGH TO DEMOCRATS: GO AFI\\'ER TRUMP. \\\\\"AND DO WHATEVER IT TAKES TO WIN\\\\\"\\\\n\\\\u00a31O5 Angela @imes. - ELI STOKOLS I WHITE HOUSE REPORTER\\n2019-07-25 20:11:00\\tCNNW\\t12\\tCNNW_20190725_200000_The_Lead_With_Jake_Tapper/start/660\\tlibert mutual.com 1-844-483-1979\\n2019-07-25 20:11:00\\tFOXNEWSW\\t19\\tFOXNEWSW_20190725_200000_Your_World_With_Neil_Cavuto/start/660\\tHOUSE SET TO VOTE ON BILL THAT WILL. BOOST GOVERNMENT SPENDING BY $32O BILLION\\n2019-07-25 20:12:00\\tBBCNEWS\\t5\\tBBCNEWS_20190725_200000_Outside_Source/start/720\\tSpeaker\\n2019-07-25 20:12:00\\tMSNBCW\\t63\\tMSNBCW_20190725_200000_Deadline_White_House/start/720\\tJOE SCARBOROUGH TO DEMOCRATS: GO AFI\\'ER TRUMP. \\\\\"AND DO WHATEVER IT TAKES TO WIN\\\\\\n2019-07-25 20:13:00\\tFOXNEWSW\\t10\\tFOXNEWSW_20190725_200000_Your_World_With_Neil_Cavuto/start/780\\t1 -8OO-885-7OOO | Ea ran_cnm\\n2019-07-25 20:14:00\\tMSNBCW\\t50\\tMSNBCW_20190725_200000_Deadline_White_House/start/840\\tDEMOCRATS WEIGH NEXT STEPS AFTER MUELLER TESTIMONY\\\\nHEIDI PRZYBYLA gaggggsgzm\\n2019-07-25 20:14:00\\tFOXNEWSW\\t14\\tFOXNEWSW_20190725_200000_Your_World_With_Neil_Cavuto/start/840\\tNORTH KOREA LAUNCHES FIRST MISSILE TESTS. SINCE TRUMP-KIM MEETING LAST MONTH\\\\nm. mypillow.com\\n2019-07-25 20:15:00\\tFOXNEWSW\\t20\\tFOXNEWSW_20190725_200000_Your_World_With_Neil_Cavuto/start/900\\tNORTH KOREA LAUNCHES FIRST MISSILE TESTS. SINCE TRUMP-KIM MEETING LAST MONTH\\\\nLATEST ROUND OF MISSILE TESTS BY NORTH KOREA. SPARKING NEW SECURITY CONCERNS\\\\nSOUTH. KOREA\\n2019-07-25 20:15:00\\tCNNW\\t41\\tCNNW_20190725_200000_The_Lead_With_Jake_Tapper/start/900\\tDEMS GRAPPLE WITH NEXT MOVE AS TRUMP DECLARES VICTORY\\\\nDEMS GRAPPLE WITH NEXT MOVE AS TRUMP DECLARES VICTORY. . Rep Jackie Speier (D) Intelligence Committee\\n2019-07-25 20:16:00\\tFOXNEWSW\\t10\\tFOXNEWSW_20190725_200000_Your_World_With_Neil_Cavuto/start/960\\tLATEST ROUND OF MISSILE TESTS BY NORTH KOREA. SPARKING NEW SECURITY CONCERNS\\n2019-07-25 20:16:00\\tMSNBCW\\t25\\tMSNBCW_20190725_200000_Deadline_White_House/start/960\\tDEMOCRATS WEIGH NEXT STEPS AFTER MUELLER TESTIMONY\\\\nHEIDI PRZYBYLA gaggggsgzm\\\\nANALYSIS: THE 2O2O ELECTION IS THE ONLY WAY. TO PUT AN END TO TRUMP\\\\u2019S PRESIDENCY\\n2019-07-25 20:17:00\\tMSNBCW\\t62\\tMSNBCW_20190725_200000_Deadline_White_House/start/1020\\tANALYSIS: THE 2O2O ELECTION IS THE ONLY WAY. TO PUT AN END TO TRUMP\\\\u2019S PRESIDENCY\\n2019-07-25 20:17:00\\tFOXNEWSW\\t9\\tFOXNEWSW_20190725_200000_Your_World_With_Neil_Cavuto/start/1020\\tLT GEN DAVID DEPTULA. RETIRED AIR FORCE\\\\nNEW LOOK AT U.S./ NORTH KOREA RELATIONS. IN WAKE OF LATEST MISSILE TESTS\\n2019-07-25 20:16:00\\tCNNW\\t42\\tCNNW_20190725_200000_The_Lead_With_Jake_Tapper/start/960\\tDEMS GRAPPLE WITH NEXT MOVE AS TRUMP TRIES TO SPIN WIN\\\\nTRUMP TRIES TO CLAIM VICTORY, AS MUELLER SAYS HE\\'S NOT EXONERATED\\n2019-07-25 20:18:00\\tCNNW\\t39\\tCNNW_20190725_200000_The_Lead_With_Jake_Tapper/start/1080\\tDEMS GRAPPLE WITH NEXT MOVE AS TRUMP TRIES TO SPIN WIN\\\\nDEMS GRAPPLE WITH NEXT MOVE AS TRUMP TRIES TO SPIN WIN. . Rep Jackie Speier (D) Intelligence Committee\\\\nTRUMP TRIES TO CLAIM VICTORY,...\\n2019-07-25 20:18:00\\tFOXNEWSW\\t18\\tFOXNEWSW_20190725_200000_Your_World_With_Neil_Cavuto/start/1080\\tLATEST ROUND OF MISSILE TESTS BY NORTH KOREA. SPARKING NEW SECURITY CONCERNS\\n2019-07-25 20:19:00\\tBBCNEWS\\t10\\tBBCNEWS_20190725_200000_Outside_Source/start/1140\\tBE. NEWS\\n2019-07-25 20:19:00\\tCNNW\\t27\\tCNNW_20190725_200000_The_Lead_With_Jake_Tapper/start/1140\\tINTEL CHAIR SCHIFF: NOT SURE COUNTRY BENEFITS FROM IMPEACHMENT. . Rep Jackie Speier (D) Intelligence Committee\\\\nINTEL CHAIR SCHIFF: NOT SURE COUNTRY BENEFITS FROM IMPEACHMENT\\\\nINTEL CHAIR SCHIFF: NOT SURE COUNTRY BENEFITS FROM IMPEACHMENT. . Rep....\\n2019-07-25 20:20:00\\tMSNBCW\\t51\\tMSNBCW_20190725_200000_Deadline_White_House/start/1200\\tANALYSIS: THE 2O2O ELECTION IS THE ONLY WAY. TO PUT AN END TO TRUMP\\\\u2019S PRESIDENCY\\\\nDEMOCRATS WEIGH NEXT STEPS AFTER MUELLER TESTIMONY\\n2019-07-25 20:20:00\\tCNNW\\t5\\tCNNW_20190725_200000_The_Lead_With_Jake_Tapper/start/1200\\tINTEL CHAIR SCHIFF: NOT SURE COUNTRY BENEFITS FROM IMPEACHMENT\\n2019-07-25 20:20:00\\tFOXNEWSW\\t27\\tFOXNEWSW_20190725_200000_Your_World_With_Neil_Cavuto/start/1200\\tAMAZON MISSES EARNINGS,. BEATS REVENUE EXPECTATIONS\\\\nSOON: HOUSE VOTE ON BUDGET DEAL. . {\\n2019-07-25 20:21:00\\tMSNBCW\\t10\\tMSNBCW_20190725_200000_Deadline_White_House/start/1260\\tDEMOCRATS WEIGH NEXT STEPS AFTER MUELLER TESTIMONY\\n2019-07-25 20:23:00\\tFOXNEWSW\\t3\\tFOXNEWSW_20190725_200000_Your_World_With_Neil_Cavuto/start/1380\\tSPECIAL REPORT. . WITH BRET BAIER. . FT-\\n2019-07-25 20:23:00\\tCNNW\\t9\\tCNNW_20190725_200000_The_Lead_With_Jake_Tapper/start/1380\\tIndividual results may var\\n2019-07-25 20:24:00\\tFOXNEWSW\\t7\\tFOXNEWSW_20190725_200000_Your_World_With_Neil_Cavuto/start/1440\\tcustomlnk o\\n2019-07-25 20:24:00\\tCNNW\\t3\\tCNNW_20190725_200000_The_Lead_With_Jake_Tapper/start/1440\\tPORCELANACOM \\\\\\\\1\\'. . SKIN LIGHTENING CREAM One week\\n2019-07-25 20:25:00\\tFOXNEWSW\\t35\\tFOXNEWSW_20190725_200000_Your_World_With_Neil_Cavuto/start/1500\\tATTORNEY GENERAL BARR MEETS WITH STATE AGs. TO DISCUSS CONCERNS ABOUT BIG TECH COMPANIES. I\\\\nHOUSE SET TO VOTE ON BUDGET DEAL THAT WOULD. INCREASE SPENDING BY $32O BILLION\\n2019-07-25 20:25:00\\tMSNBCW\\t32\\tMSNBCW_20190725_200000_Deadline_White_House/start/1500\\tPOLL: ONLY BIDEN TOPS TRUMP IN OHIO\\n2019-07-25 20:26:00\\tMSNBCW\\t52\\tMSNBCW_20190725_200000_Deadline_White_House/start/1560\\tPOLL: ONLY BIDEN TOPS TRUMP IN OHIO\\\\nHEATHER MCGHEE ng\\\\ufb01zUISHED SENIOR FELLOW\\n2019-07-25 20:25:00\\tCNNW\\t18\\tCNNW_20190725_200000_The_Lead_With_Jake_Tapper/start/1500\\tA\\'I\\'I\\'ORNEY GENERAL BARR REINSTATES FEDERAL DEATH PENALTY\\\\nATTORNEY GENERAL BARR REINSTATES FEDERAL DEATH PENALTY. . Evan P\\\\u00e9rez OW SeniorJustice Correspondent\\\\n5 INMATES TO BE EXECUTED, ENDING...\\n2019-07-25 20:26:00\\tFOXNEWSW\\t5\\tFOXNEWSW_20190725_200000_Your_World_With_Neil_Cavuto/start/1560\\tCHIP ROY N\\'R- -TX. HOUSE FREEDO CAUC s\\\\nHOUSE SET TO VOTE ON BUDGET DEAL THAT WOULD. INCREASE SPENDING BY $32O BILLION. . @. . . . I\\n2019-07-25 20:26:00\\tCNNW\\t43\\tCNNW_20190725_200000_The_Lead_With_Jake_Tapper/start/1560\\tATI\\'ORNEY GENERAL BARR REINSTATES FEDERAL DEATH PENALTY\\\\n5 INMATES TO BE EXECUTED, ENDING 16-YEAR FEDERAL DEATH PENALTY HIATUS\\\\nATTORNEY GENERAL BARR REINSTATES FEDERAL DEATH PENALTY. . Amanda...\\n2019-07-25 20:27:00\\tMSNBCW\\t62\\tMSNBCW_20190725_200000_Deadline_White_House/start/1620\\tPOLL: ONLY BIDEN TOPS TRUMP IN OHIO\\n2019-07-25 20:28:00\\tMSNBCW\\t52\\tMSNBCW_20190725_200000_Deadline_White_House/start/1680\\tBIDEN HOLDS HUGE LEAD IN NEW SC POLL\\n2019-07-25 20:27:00\\tFOXNEWSW\\t27\\tFOXNEWSW_20190725_200000_Your_World_With_Neil_Cavuto/start/1620\\tPRESIDENT TRUMP URGES REPUBLICANS TO SUPPORT MEET-5\\'. BUDGET DEAL AS HOUSE PREPARES TO VOTE\\\\nREP CHIP ROY (R-TX) ON BUDGET DEAL \\' \\\\ufb02\\n2019-07-25 20:28:00\\tCNNW\\t43\\tCNNW_20190725_200000_The_Lead_With_Jake_Tapper/start/1680\\tATI\\'ORNEY GENERAL BARR REINSTATES FEDERAL DEATH PENALTY\\\\nA\\'I\\'I\\'ORNEY GENERAL BARR REINSTATES FEDERAL DEATH PENALTY\\\\nATTORNEY GENERAL BARR REINSTATES FEDERAL DEATH PENALTY. . Kirsten Powers USA...\\n2019-07-25 20:29:00\\tFOXNEWSW\\t28\\tFOXNEWSW_20190725_200000_Your_World_With_Neil_Cavuto/start/1740\\tREP CHIP ROY (R-TX) ON BUDGET DEAL\\\\nIMPEACHMENT BATI\\'LE\\\\nCHIP ROY N\\'R- T-X. HOUSE FREEDO CAUC s\\n2019-07-25 20:30:00\\tFOXNEWSW\\t16\\tFOXNEWSW_20190725_200000_Your_World_With_Neil_Cavuto/start/1800\\tIMPEACHMENT BATI\\'LE\\n2019-07-25 20:31:00\\tMSNBCW\\t34\\tMSNBCW_20190725_200000_Deadline_White_House/start/1860\\tBIDEN HOLDS HUGE LEAD IN NEW SC POLL\\\\nVANITY FAIR: GOP INSIDERS FEAR KAMALA COULD BE THE NEXT OBAMA\\n2019-07-25 20:31:00\\tCNNW\\t25\\tCNNW_20190725_200000_The_Lead_With_Jake_Tapper/start/1860\\tCreativePlanning.com\\\\nBA\\'I\\'I\\'LE BEFORE THE DEBATE\\n2019-07-25 20:32:00\\tMSNBCW\\t62\\tMSNBCW_20190725_200000_Deadline_White_House/start/1920\\tVANITY FAIR: GOP INSIDERS FEAR KAMALA COULD BE THE NEXT OBAMA\\n2019-07-25 20:32:00\\tFOXNEWSW\\t15\\tFOXNEWSW_20190725_200000_Your_World_With_Neil_Cavuto/start/1920\\tALPHABET BEATS EARNINGS, REVENUE ESTIMATES\\n2019-07-25 20:33:00\\tMSNBCW\\t33\\tMSNBCW_20190725_200000_Deadline_White_House/start/1980\\tVANITY FAIR: GOP INSIDERS FEAR KAMALA COULD BE THE NEXT OBAMA\\\\nPOLL: ONLY BIDEN TOPS TRUMP IN OHIO\\n2019-07-25 20:34:00\\tCNNW\\t37\\tCNNW_20190725_200000_The_Lead_With_Jake_Tapper/start/2040\\t8OO-728-14O1\\n2019-07-25 20:35:00\\tBBCNEWS\\t28\\tBBCNEWS_20190725_200000_Outside_Source/start/2100\\ta J: P\\\\u2019. . EEI NEW\\\\nEB. NEWS\\\\nMiddle East Regional Editor, BBC World Service\\n2019-07-25 20:35:00\\tFOXNEWSW\\t50\\tFOXNEWSW_20190725_200000_Your_World_With_Neil_Cavuto/start/2100\\tFORMER WH PRESS SECRETARY SPICER ON. FALLOUT OVER MUELLER HEARINGS\\\\nSEAN SPICER. FORMER WHITE HOUSE PRESS SECRETARY\\n2019-07-25 20:35:00\\tCNNW\\t3\\tCNNW_20190725_200000_The_Lead_With_Jake_Tapper/start/2100\\tMesothelioma MesoBook.com. . IS ALL WE DO 1-8OO-259-9374\\n2019-07-25 20:36:00\\tBBCNEWS\\t51\\tBBCNEWS_20190725_200000_Outside_Source/start/2160\\tEB. NEWS\\n2019-07-25 20:36:00\\tFOXNEWSW\\t51\\tFOXNEWSW_20190725_200000_Your_World_With_Neil_Cavuto/start/2160\\tFORMER WH PRESS SECRETARY SPICER ON. FALLOUT OVER MUELLER HEARINGS\\n2019-07-25 20:36:00\\tCNNW\\t46\\tCNNW_20190725_200000_The_Lead_With_Jake_Tapper/start/2160\\tSOURCE: BIDEN\\'S SHIFI\\' TO MORE AGGRESSIVE TONE \\\\\"INTENTIONAL\\\\\"\\\\nSOURCE: BIDEN\\'S SHIFI\\' TO MORE AGGRESSIVE TONE \\\\\"INTENTIONAL\\\\\". . Joe Biden (D) Presidential Candidate\\\\nSOURCE: BIDEN\\'S SHIFT TO MORE...\\n2019-07-25 20:37:00\\tMSNBCW\\t47\\tMSNBCW_20190725_200000_Deadline_White_House/start/2220\\tMUELLER WARNS RUSSIA IS STILL TRYING TO INTERFERE IN ELECTIONS\\\\nREP. WILL HURD (R)TEXAS\\n2019-07-25 20:38:00\\tCNNW\\t28\\tCNNW_20190725_200000_The_Lead_With_Jake_Tapper/start/2280\\tBIDEN CAMP JABS HARRIS: HE\\'S ABOUT MORE THAN SELLING T-SHIRTS\\\\nSOURCE: BIDEN\\'S SHIFI\\' TO MORE AGGRESSIVE TONE \\\\\"INTENTIONAL\\\\\"\\\\nBIDEN CAMP JABS HARRIS: HE\\'S ABOUT MORE THAN SELLING T-SHIRTS. . Arlette...\\n2019-07-25 20:38:00\\tMSNBCW\\t30\\tMSNBCW_20190725_200000_Deadline_White_House/start/2280\\tMUELLER WARNS RUSSIA IS STILL TRYING TO INTERFERE IN ELECTIONS\\\\nCHRISTOPHER WRAY FBI DIRECTOR\\n2019-07-25 20:39:00\\tMSNBCW\\t38\\tMSNBCW_20190725_200000_Deadline_White_House/start/2340\\tGOP BLOCKS ELECTION SECURITY BILLS AFI\\'ER MUELLER. WARNS OF CONTINUED RUSSIAN INTERFERENCE\\\\nFMR. UNDER SECRETARY OF STATE. - RICK STENGEL | FOR PUBLIC DIPLOMACY\\n2019-07-25 20:39:00\\tCNNW\\t56\\tCNNW_20190725_200000_The_Lead_With_Jake_Tapper/start/2340\\tSOURCE: BIDEN\\'S SHIFI\\' TO MORE AGGRESSIVE TONE \\\\\"INTENTIONAL\\\\\"\\\\nSOURCE: BIDEN\\'S SHIFI\\' TO MORE AGGRESSIVE TONE \\\\\"INTENTIONAL\\\\\". . Kirsten Powers USA Today Columnist\\n2019-07-25 20:40:00\\tMSNBCW\\t62\\tMSNBCW_20190725_200000_Deadline_White_House/start/2400\\tGOP BLOCKS ELECTION SECURITY BILLS AFI\\'ER MUELLER. WARNS OF CONTINUED RUSSIAN INTERFERENCE\\n2019-07-25 20:40:00\\tFOXNEWSW\\t12\\tFOXNEWSW_20190725_200000_Your_World_With_Neil_Cavuto/start/2400\\tBORIS JOHNSON. BRITISH PRIME MINISTER\\n2019-07-25 20:41:00\\tMSNBCW\\t40\\tMSNBCW_20190725_200000_Deadline_White_House/start/2460\\tGOP BLOCKS ELECTION SECURITY BILLS AFI\\'ER MUELLER. WARNS OF CONTINUED RUSSIAN INTERFERENCE\\\\n31O5 Angela @imes. - ELI STOKOLS l WHITE HOUSE REPORTER\\\\nMUELLER WARNS RUSSIA IS STILL TRYING TO INTERFERE IN ELECTIONS\\n2019-07-25 20:41:00\\tBBCNEWS\\t9\\tBBCNEWS_20190725_200000_Outside_Source/start/2460\\tIi\\\\\" f\\\\u2019 \\\\u2019\\\\nSan Juan, Pn\\\\u00e9rto Rico\\n2019-07-25 20:41:00\\tCNNW\\t49\\tCNNW_20190725_200000_The_Lead_With_Jake_Tapper/start/2460\\tSOURCE: BIDEN\\'S SHIFI\\' TO MORE AGGRESSIVE TONE \\\\\"INTENTIONAL\\\\\"\\\\nBIDEN ON SECOND DEBATE: \\\\\"I\\'M NOT GOING TO BE AS POLITE THIS TIME\\\\\\n2019-07-25 20:41:00\\tFOXNEWSW\\t49\\tFOXNEWSW_20190725_200000_Your_World_With_Neil_Cavuto/start/2460\\tPRIME MINISTER BORIS JOHNSON ADDRESSES. BRITISH PARLIAMENT FOR THE FIRST TIME\\n2019-07-25 20:42:00\\tMSNBCW\\t62\\tMSNBCW_20190725_200000_Deadline_White_House/start/2520\\tMUELLER WARNS RUSSIA IS STILL TRYING TO INTERFERE IN ELECTIONS\\n2019-07-25 20:42:00\\tCNNW\\t27\\tCNNW_20190725_200000_The_Lead_With_Jake_Tapper/start/2520\\tBIDEN ON SECOND DEBATE: \\\\\"I\\'M NOT GOING TO BE AS POLITE THIS TIME\\\\\"\\\\nBIDEN ON SECOND DEBATE: \\\\\"I\\'M NOT GOING TO BE AS POLITE THIS TIME\\\\\". . Jamal Simmons Democratic Strategist\\n2019-07-25 20:43:00\\tBBCNEWS\\t22\\tBBCNEWS_20190725_200000_Outside_Source/start/2580\\tConservative\\\\nIan-ms _\\\\u2014\\n2019-07-25 20:43:00\\tMSNBCW\\t51\\tMSNBCW_20190725_200000_Deadline_White_House/start/2580\\tMUELLER WARNS RUSSIA IS STILL TRYING TO INTERFERE IN ELECTIONS\\\\nMUELLER: RUSSIAN ELECTION INTERFERENCE NOT A \\\\\"HOAX\\\\\\n2019-07-25 20:43:00\\tFOXNEWSW\\t12\\tFOXNEWSW_20190725_200000_Your_World_With_Neil_Cavuto/start/2580\\tPRIME MINISTER BORIS JOHNSON ADDRESSES. BRITISH PARLIAMENT FOR THE FIRST TIME\\\\nJEFFREY ENGEL. DIR OF THE CENTER FOR PRESIDENTIAL HISTORY, SMU\\\\nNEW BRITISH PRIME MINISTER BORIS JOHNSON. PUSHES FOR BREXIT BY OCTOBER...\\n2019-07-25 20:44:00\\tFOXNEWSW\\t3\\tFOXNEWSW_20190725_200000_Your_World_With_Neil_Cavuto/start/2640\\tJEFFREY ENGEL. DIR OF THE CENTER FOR PRESIDENTIAL HISTORY, SMU\\n2019-07-25 20:45:00\\tCNNW\\t27\\tCNNW_20190725_200000_The_Lead_With_Jake_Tapper/start/2700\\tETFS bv I E\\\\nThese statements have not been evaluated by the FDA.. This product is not intended to treat, cure or prevent any disease.\\n2019-07-25 20:46:00\\tMSNBCW\\t62\\tMSNBCW_20190725_200000_Deadline_White_House/start/2760\\tMUELLER WARNS RUSSIA IS STILL TRYING TO INTERFERE IN ELECTIONS\\n2019-07-25 20:47:00\\tCNNW\\t6\\tCNNW_20190725_200000_The_Lead_With_Jake_Tapper/start/2820\\tJake Tapper\\\\n16 MARINES ARRESTED FOR ALLEGED \\\\\"ILLEGAL ACTIVITIES\\'I. INCLUDING HUMAN SMUGGLING & DRUG-RELATED CRIMES\\n2019-07-25 20:48:00\\tFOXNEWSW\\t14\\tFOXNEWSW_20190725_200000_Your_World_With_Neil_Cavuto/start/2880\\tNEW WORRIES FOR STOCKS...\\n2019-07-25 20:49:00\\tCNNW\\t44\\tCNNW_20190725_200000_The_Lead_With_Jake_Tapper/start/2940\\t2O2O DEMS PUSHING DIFFERENT ECONOMIC PLANS TO BA1TLE TRUMP\\n2019-07-25 20:50:00\\tMSNBCW\\t5\\tMSNBCW_20190725_200000_Deadline_White_House/start/3000\\tA5 oi 5/1/19.\\n2019-07-25 20:50:00\\tCNNW\\t30\\tCNNW_20190725_200000_The_Lead_With_Jake_Tapper/start/3000\\t2O2O DEMS ARGUE TRUMP\\'S ECONOMY NOT WORKING FOR EVERYONE\\\\n2O2O DEMS PUSHING DIFFERENT ECONOMIC PLANS TO BA1TLE TRUMP\\\\n2O2O DEMS PUSHING DIFFERENT ECONOMIC PLANS TO BATTLE TRUMP. Sen. Elizabeth...\\n2019-07-25 20:51:00\\tCNNW\\t56\\tCNNW_20190725_200000_The_Lead_With_Jake_Tapper/start/3060\\t2O2O DEMS ARGUE TRUMP\\'S ECONOMY NOT WORKING FOR EVERYONE\\\\n2O2O DEMS ARGUE TRUMP\\'S ECONOMY NOT WORKING FOR EVERYONE. . Sen. Bernie Sanders (D) Presidential Candidate\\n2019-07-25 20:52:00\\tMSNBCW\\t12\\tMSNBCW_20190725_200000_Deadline_White_House/start/3120\\tNEW DOCUSERIES DEI\\'AILS AREAS OF POLITICAL DYSFUNCTION\\n2019-07-25 20:53:00\\tFOXNEWSW\\t14\\tFOXNEWSW_20190725_200000_Your_World_With_Neil_Cavuto/start/3180\\tJPMORGAN WARNS OF \\\\\"SIGNIFICANT\\\\\" SELLOFF. IN US STOCKS DURING THIS QUARTER\\\\nCODY WILLARD. TRADINGWITHCODY.COM EDITOR\\\\nJPMORGAN WARNS OF \\\\\"SIGNIFICANT\\\\\" SELLOFF. IN U.S. STOCKS DURING THIS QUARTER\\n2019-07-25 20:53:00\\tCNNW\\t5\\tCNNW_20190725_200000_The_Lead_With_Jake_Tapper/start/3180\\tSEAL SLIP-UP\\n2019-07-25 20:54:00\\tFOXNEWSW\\t22\\tFOXNEWSW_20190725_200000_Your_World_With_Neil_Cavuto/start/3240\\tJPMORGAN WARNS OF \\\\\"SIGNIFICANT\\\\\" SELLOFF. IN U.S. STOCKS DURING THIS QUARTER\\\\nSTOCKS SLUMP ON NEW WORRIES OVER GLOBAL GROWTH\\\\nCODY WILLARD. TRADINGWITHCODY.COM EDITOR\\\\nJPMORGAN WARNS OF \\\\\"SIGNIFICANT\\\\\" SELLOFF. IN US...\\n2019-07-25 20:55:00\\tCNNW\\t22\\tCNNW_20190725_200000_The_Lead_With_Jake_Tapper/start/3300\\t1-8OO-577-8644\\\\n1- 8OO- 577- 8644_\\n2019-07-25 20:56:00\\tCNNW\\t16\\tCNNW_20190725_200000_The_Lead_With_Jake_Tapper/start/3360\\tBy prescription only HUMIRA.COM/PSA\\\\nHUMIRA\\\\u00ae. . Please see our ad in Elle Magazine adalimumab\\n2019-07-25 20:56:00\\tFOXNEWSW\\t7\\tFOXNEWSW_20190725_200000_Your_World_With_Neil_Cavuto/start/3360\\tl-BUU-Alit-WISI:\\n2019-07-25 20:57:00\\tCNNW\\t12\\tCNNW_20190725_200000_The_Lead_With_Jake_Tapper/start/3420\\tWORKER FIRED AFTER DOCTORED PRESIDENTIAL. SEAL APPEARED BEHIND TRUMP AT SPEECH\\n2019-07-25 20:58:00\\tFOXNEWSW\\t30\\tFOXNEWSW_20190725_200000_Your_World_With_Neil_Cavuto/start/3480\\tMAC THORNBERRY (R). TEXAS CONGRESSMAN\\n2019-07-25 20:59:00\\tFOXNEWSW\\t31\\tFOXNEWSW_20190725_200000_Your_World_With_Neil_Cavuto/start/3540\\tHOUSE SET TO PASS BILL THAT INCREASES. SPENDING BY $32O BILLION\\\\nHOUSE SET TO PASS SPENDING BILL\\n2019-07-25 21:00:00\\tCNNW\\t42\\tCNNW_20190725_200000_The_Lead_With_Jake_Tapper/start/3600\\t| INSUFFICIENT WARNING\\\\nWORKER FIRED AFTER DOCTORED PRESIDENTIAL. SEAL APPEARED BEHIND TRUMP AT SPEECH\\n2019-07-25 21:00:00\\tFOXNEWSW\\t20\\tFOXNEWSW_20190725_200000_Your_World_With_Neil_Cavuto/start/3600\\tMUELLER MELTDOWN. DEMS, MEDIA TURN ON FMR SPECIAL COUNSEL AFTER TESTIMONY\\\\nHOUSE SET TO PASS BILL THAT INCREASES. SPENDING BY $32O BILLION\\n2019-07-25 21:01:00\\tMSNBCW\\t28\\tMSNBCW_20190725_210000_MTP_Daily/start/60\\tSOURCES: DEMS DISCUSSED IMPEACHMENT IN. CLOSED-DOOR MEETING AFI\\'ER MUELLER TESTIMONY\\\\nMUELLER HEARINGS LEAVE DEMS SPLIT ON IMPEACHM\\\\ufb01NT\\n2019-07-25 21:01:00\\tCNNW\\t19\\tCNNW_20190725_210000_Situation_Room_With_Wolf_Blitzer/start/60\\tSENATE INTEL: U.S. MUST CREATE EFFECTIVE DETERRENCE. AGAINST AN ONGOING RUSSIAN THREAT TO ELECTIONS\\n2019-07-25 21:01:00\\tFOXNEWSW\\t31\\tFOXNEWSW_20190725_210000_The_Five/start/60\\tPOOR PERFORMANCE. MEDIA BLASTS MUELLER TESTIMONY\\\\n\\\\\" EUPHORIA\\\\\". WHITE HOUSE REJOICES AFTER MUELLER TESTIMONY\\\\nMUELLER MELTDOWN. DEMS, MEDIA TURN ON FMR SPECIAL COUNSEL AFTER TESTIMONY\\n2019-07-25 21:02:00\\tMSNBCW\\t16\\tMSNBCW_20190725_210000_MTP_Daily/start/120\\tMUELLER HEARINGS LEAVE DEMS SPLIT ON IMPEACHM\\\\ufb01NT\\\\nMUELLER HEARINGS LEAVE DEMS SPLIT ON IMPEACHMHNT\\\\nSOURCES: DEMS DISCUSSED IMPEACHMENT IN. CLOSED-DOOR MEETING AFI\\'ER MUELLER TESTIMONY\\n2019-07-25 21:02:00\\tCNNW\\t27\\tCNNW_20190725_210000_Situation_Room_With_Wolf_Blitzer/start/120\\tFBI DIRECTOR WRAY AGREES WITH MUELLER THAT. RUSSIA CONTINUES TO TARGET U.S. ELECTIONS\\\\nSENATE INTEL: U.S. MUST CREATE EFFECTIVE DETERRENCE. AGAINST AN ONGOING RUSSIAN THREAT TO ELECTIONS\\\\nDESPITE WARNINGS, GOP BLOCKS...\\n2019-07-25 21:02:00\\tFOXNEWSW\\t29\\tFOXNEWSW_20190725_210000_The_Five/start/120\\tTRUMP & GOP CELEBRATE AFTER MUELLER TESTIMONY\\\\nMUELLER TESTIMONY FALLOUT. . DEMS LEFT SCRAMBLING AFTER BOMBSHELL-LESS HEARING\\\\nMUELLER MELTDOWN. DEMS, MEDIA TURN ON FMR SPECIAL...\\n2019-07-25 21:03:00\\tMSNBCW\\t43\\tMSNBCW_20190725_210000_MTP_Daily/start/180\\tMUELLER HEARINGS LEAVE DEMS SPLIT ON IMPEACHMHNT\\\\nSOURCES: DEMS DISCUSSED IMPEACHMENT IN. CLOSED-DOOR MEETING AFI\\'ER MUELLER TESTIMONY\\\\nD NEWYORK. REP\\' SEAN PATRICK MALONEY...\\n2019-07-25 21:03:00\\tCNNW\\t57\\tCNNW_20190725_210000_Situation_Room_With_Wolf_Blitzer/start/180\\tSENATE INTEL: U.S. MUST CREATE EFFECTIVE DETERRENCE. AGAINST AN ONGOING RUSSIAN THREAT TO ELECTIONS\\\\nManu Raiu C|\\\\\\\\N Senior Congressional Correspondent\\n2019-07-25 21:03:00\\tFOXNEWSW\\t31\\tFOXNEWSW_20190725_210000_The_Five/start/180\\tMUELLER TESTIMONY FALLOUT. DEMS LEFT SCRAMBLING AFTER BOMBSHELL-LESS HEARING\\\\nTRUMP: \\\\\"DEMOCRATS lOST BIG\\\\\" WITH MUELLER TESTIMONY\\n2019-07-25 21:04:00\\tMSNBCW\\t62\\tMSNBCW_20190725_210000_MTP_Daily/start/240\\tSOURCES: DEMS DISCUSSED IMPEACHMENT IN. CLOSED-DOOR MEETING AFI\\'ER MUELLER TESTIMONY\\n2019-07-25 21:04:00\\tFOXNEWSW\\t40\\tFOXNEWSW_20190725_210000_The_Five/start/240\\tMUELLER MELTDOWN. DEMS, MEDIA TURN ON FMR SPECIAL COUNSEL AFTER TESTIMONY\\\\nTRUMP: MUELLER TESTIMONY \\\\\"DEVASTATING\\\\\" FOR DEMS. . m\\n2019-07-25 21:04:00\\tCNNW\\t30\\tCNNW_20190725_210000_Situation_Room_With_Wolf_Blitzer/start/240\\tBIPARTISAN SENATE REPORT SAYS VULNERABILITIES. REMAIN AFTER 2O16 RUSSIAN ELECTION ATTACK\\\\nSENATE INTEL REPORT WARNS OF ONGOING ELECTION THREAT;. SAYS U.S. MUST CREATE EFFECTIVE DETERRENCE AND RESPONSE\\\\nSENATE INTEL: U.S. MUST...\\n2019-07-25 21:05:00\\tCNNW\\t26\\tCNNW_20190725_210000_Situation_Room_With_Wolf_Blitzer/start/300\\tSENATE INTEL REPORT WARNS OF ONGOING ELECTION THREAT;. SAYS U.S. MUST CREATE EFFECTIVE DETERRENCE AND RESPONSE\\\\nHOURS AFTER MUELLER WARNS OF RUSSIAN INTERFERENCE,. GOP SENATORS BLOCK ELECTION SECURITY BILLS\\\\nPELOSI: WON\\'T DISCOURAGE DEMS FROM...\\n2019-07-25 21:05:00\\tFOXNEWSW\\t27\\tFOXNEWSW_20190725_210000_The_Five/start/300\\tMUELLER TESTIMONY FALLOUT. DEMS LEFT SCRAMBLING AFTER BOMBSHELL-LESS HEARING\\\\nMUELLER MELTDOWN. DEMS, MEDIA TURN ON FMR SPECIAL COUNSEL AFTER TESTIMONY\\n2019-07-25 21:06:00\\tCNNW\\t48\\tCNNW_20190725_210000_Situation_Room_With_Wolf_Blitzer/start/360\\tPELOSI: WON\\'T DISCOURAGE DEMS FROM SUPPORTING IMPEACHMENT\\\\nPELOSI: WON\\'T DISCOURAGE DEMS FROM SUPPORTING IMPEACHMENT. . Manu Raiu OW Senior Congressional Correspondent\\\\nPELOSI: WON\\'T DISCOURAGE...\\n2019-07-25 21:06:00\\tFOXNEWSW\\t35\\tFOXNEWSW_20190725_210000_The_Five/start/360\\tTRUMP: \\\\\"DEMOCRATS lOST BIG\\\\\" WITH MUELLER TESTIMONY\\\\nMUELLER TESTIMONY FALLOUT. DEMS LEFT SCRAMBLING AFTER BOMBSHELL-LESS HEARING\\n2019-07-25 21:07:00\\tCNNW\\t36\\tCNNW_20190725_210000_Situation_Room_With_Wolf_Blitzer/start/420\\tPELOSI: WON\\'T DISCOURAGE DEMS FROM SUPPORTING IMPEACHMENT\\\\nHOUSE VOTING ON CONTROVERSIAL BUDGET AND DEBT DEAL\\n2019-07-25 21:07:00\\tFOXNEWSW\\t38\\tFOXNEWSW_20190725_210000_The_Five/start/420\\tMUELLER TESTIMONY FALLOUT. DEMS LEFT SCRAMBLING AFTER BOMBSHELL-LESS HEARING\\\\nTRUMP: \\\\\"DEMOCRATS lOST BIG\\\\\" WITH MUELLER TESTIMONY\\n2019-07-25 21:08:00\\tCNNW\\t62\\tCNNW_20190725_210000_Situation_Room_With_Wolf_Blitzer/start/480\\tHOUSE VOTING ON CONTROVERSIAL BUDGET AND DEBT DEAL\\n2019-07-25 21:08:00\\tMSNBCW\\t34\\tMSNBCW_20190725_210000_MTP_Daily/start/480\\tSOURCES: DEMS DISCUSSED IMPEACHMENT IN. CLOSED-DOOR MEETING AFI\\'ER MUELLER TESTIMONY\\\\nSOURCES: PELOSI SIGNALED TO CAUCUS SHE WON\\'T. DISCOURAGE DEMS FROM SUPPORTING IMPEACHMENT\\\\nD NEWYORK. REP- SEAN PATRICK MALONEY...\\n2019-07-25 21:09:00\\tMSNBCW\\t60\\tMSNBCW_20190725_210000_MTP_Daily/start/540\\tSOURCES: PELOSI SIGNALED TO CAUCUS SHE WON\\'T. DISCOURAGE DEMS FROM SUPPORTING IMPEACHMENT\\n2019-07-25 21:09:00\\tCNNW\\t52\\tCNNW_20190725_210000_Situation_Room_With_Wolf_Blitzer/start/540\\tSENATE INTEL REPORT WARNS OF ONGOING ELECTION THREAT;. SAYS U.S. MUST CREATE EFFECTIVE DETERRENCE AND RESPONSE\\\\nHOUSE VOTING ON CONTROVERSIAL BUDGET AND DEBT DEAL\\n2019-07-25 21:09:00\\tFOXNEWSW\\t40\\tFOXNEWSW_20190725_210000_The_Five/start/540\\tMUELLER TESTIMONY FALLOUT. DEMS LEFT SCRAMBLING AFTER BOMBSHELL-LESS HEARING\\n2019-07-25 21:10:00\\tMSNBCW\\t38\\tMSNBCW_20190725_210000_MTP_Daily/start/600\\tSOURCES: PELOSI SIGNALED TO CAUCUS SHE WON\\'T. DISCOURAGE DEMS FROM SUPPORTING IMPEACHMENT\\\\nGm mashingtun ilust. DAN BALZ CHIEF CORRESPONDENT u\\\\nSOURCES: DEMS DISCUSSED IMPEACHMENT IN. CLOSED-DOOR MEETING AFI\\'ER MUELLER...\\n2019-07-25 21:11:00\\tMSNBCW\\t27\\tMSNBCW_20190725_210000_MTP_Daily/start/660\\tSOURCES: PELOSI SIGNALED TO CAUCUS SHE WON\\'T. DISCOURAGE DEMS FROM SUPPORTING IMPEACHMENT\\\\nSOURCES: DEMS DISCUSSED IMPEACHMENT IN. CLOSED-DOOR MEETING AFI\\'ER MUELLER TESTIMONY\\\\nMUELLER HEARINGS LEAVE DEMS SPLIT ON IMPEACHM\\\\ufb01NT\\n2019-07-25 21:11:00\\tCNNW\\t58\\tCNNW_20190725_210000_Situation_Room_With_Wolf_Blitzer/start/660\\tBIPARTISAN SENATE REPORT SAYS VULNERABILITIES. REMAIN AFTER 2O16 RUSSIAN ELECTION ATTACK\\n2019-07-25 21:12:00\\tMSNBCW\\t35\\tMSNBCW_20190725_210000_MTP_Daily/start/720\\tMUELLER HEARINGS LEAVE DEMS SPLIT ON IMPEACHMHNT\\\\nSOURCES: DEMS DISCUSSED IMPEACHMENT IN. CLOSED-DOOR MEETING AFI\\'ER MUELLER TESTIMONY\\\\nAMERICAN ENTERPRISE INSTITUTE\\n2019-07-25 21:13:00\\tMSNBCW\\t34\\tMSNBCW_20190725_210000_MTP_Daily/start/780\\tSOURCES: DEMS DISCUSSED IMPEACHMENT IN. CLOSED-DOOR MEETING AFI\\'ER MUELLER TESTIMONY\\\\nSOURCES: PELOSI TOLD DEMS TO MAKE. THEIR OWN DECISIONS ON IMPEACHMENT\\\\u201d\\\\nAMERICAN ENTERPRISE INSTITUTE\\n2019-07-25 21:14:00\\tFOXNEWSW\\t13\\tFOXNEWSW_20190725_210000_The_Five/start/840\\t2O2O DEMS\\' POST-MUELLER IMPEACHMENT PUSH\\\\nSE\\'ITING THE AGENDA. 2O2O DEMS RENEW CALLS TO IMPEACH AFTER MUELLER HEARINGS\\n2019-07-25 21:14:00\\tMSNBCW\\t43\\tMSNBCW_20190725_210000_MTP_Daily/start/840\\tSOURCES: PELOSI TOLD DEMS TO MAKE. THEIR OWN DECISIONS ON IMPEACHMENT\\\\u201d\\\\nSOURCES: PELOSI SIGNALED TO CAUCUS SHE WON\\'T. DISCOURAGE DEMS FROM SUPPORTING IMPEACHMENT\\n2019-07-25 21:14:00\\tCNNW\\t40\\tCNNW_20190725_210000_Situation_Room_With_Wolf_Blitzer/start/840\\tBIPARTISAN SENATE REPORT SAYS VULNERABILITIES. REMAIN AFTER 2O16 RUSSIAN ELECTION A\\'ITACK\\\\nSENATE INTEL REPORT WARNS OF ONGOING ELECTION THREAT;. SAYS U.S. MUST CREATE EFFECTIVE DETERRENCE AND RESPONSE\\n2019-07-25 21:15:00\\tMSNBCW\\t62\\tMSNBCW_20190725_210000_MTP_Daily/start/900\\tSOURCES: PELOSI SIGNALED TO CAUCUS SHE WON\\'T. DISCOURAGE DEMS FROM SUPPORTING IMPEACHMENT\\n2019-07-25 21:15:00\\tCNNW\\t57\\tCNNW_20190725_210000_Situation_Room_With_Wolf_Blitzer/start/900\\tSENATE INTEL REPORT WARNS OF ONGOING ELECTION THREAT;. SAYS U.S. MUST CREATE EFFECTIVE DETERRENCE AND RESPONSE\\\\nI \\\\\\\\\\'. . Rep. Eric Swalwell (D) Intelligence Committee\\n2019-07-25 21:15:00\\tFOXNEWSW\\t19\\tFOXNEWSW_20190725_210000_The_Five/start/900\\tSE\\'ITING THE AGENDA. 2O2O DEMS RENEW CALLS TO IMPEACH AFTER MUELLER HEARINGS\\\\nPELOSI: WE WANT A CASE FOR IMPEACHMENT. NOT BASED ON POLITICS OR PARTISANSHIP. . W\\\\nIMPEACHMENT PUSHBACK. PELOSI DAMPENS DEMS\\'...\\n2019-07-25 21:16:00\\tFOXNEWSW\\t52\\tFOXNEWSW_20190725_210000_The_Five/start/960\\tDEMS lEFT SCRAMBLING AFTER BOMBSHELL-FREE HEARING\\\\nIMPEACHMENT PUSHBACK. PELOSI DAMPENS DEMS\\' IMPEACHMENT EFFORTS\\n2019-07-25 21:16:00\\tMSNBCW\\t47\\tMSNBCW_20190725_210000_MTP_Daily/start/960\\tMUELLER HEARINGS LEAVE DEMS SPLIT ON IMPEACHMHNT\\\\nSOURCES: PELOSI SIGNALED TO CAUCUS SHE WON\\'T. DISCOURAGE DEMS FROM SUPPORTING IMPEACHMENT\\n2019-07-25 21:17:00\\tMSNBCW\\t43\\tMSNBCW_20190725_210000_MTP_Daily/start/1020\\tMUELLER HEARINGS LEAVE DEMS SPLIT ON IMPEACHMHNT\\\\nSOURCES: DEMS DISCUSSED IMPEACHMENT IN. CLOSED-DOOR MEETING AFI\\'ER MUELLER TESTIMONY\\n2019-07-25 21:17:00\\tFOXNEWSW\\t50\\tFOXNEWSW_20190725_210000_The_Five/start/1020\\tAT ODDS ON IMPEACHMENT. RPT: PELOSI STOPS NADLER\\'S PUSH TO IMPEACH TRUMP\\\\nDEMS lEFT SCRAMBLING AFTER BOMBSHELL-FREE HEARING\\n2019-07-25 21:18:00\\tFOXNEWSW\\t33\\tFOXNEWSW_20190725_210000_The_Five/start/1080\\tIMPEACHMENT PUSHBACK. PELOSI DAMPENS DEMS\\' IMPEACHMENT EFFORTS\\\\nAT ODDS ON IMPEACHMENT. RPT: PELOSI STOPS NADLER\\'S PUSH TO IMPEACH TRUMP\\n2019-07-25 21:18:00\\tMSNBCW\\t24\\tMSNBCW_20190725_210000_MTP_Daily/start/1080\\tSOURCES: PELOSI SIGNALED TO CAUCUS SHE WON\\'T. DISCOURAGE DEMS FROM SUPPORTING IMPEACHMENT\\\\nMUELLER\\'S 2O2O IMPACT\\\\nSOURCES: DEMS DISCUSSED IMPEACHMENT IN. CLOSED-DOOR MEETING AFI\\'ER MUELLER TESTIMONY\\\\nD)RHODE ISLAND. REP DAVID...\\n2019-07-25 21:19:00\\tCNNW\\t26\\tCNNW_20190725_210000_Situation_Room_With_Wolf_Blitzer/start/1140\\tDEMOCRATS DEBATE NEXT STEPS AFTER MUELLER TESTIMONY\\\\nBIPARTISAN SENATE REPORT SAYS VULNERABILITIES. REMAIN AFTER 2O16 RUSSIAN ELECTION A\\'I\\'I\\'ACK\\\\nDEMOCRATS DEBATE NEXT STEPS AFTER MUELLER...\\n2019-07-25 21:19:00\\tFOXNEWSW\\t38\\tFOXNEWSW_20190725_210000_The_Five/start/1140\\tDEMS LEFT SCRAMBLING AFTER BOMBSHElL-FREE HEARING\\\\nRPT: TOP DEMS AT ODDS OVER STARTING IMPEACHMENT. . m\\n2019-07-25 21:19:00\\tMSNBCW\\t5\\tMSNBCW_20190725_210000_MTP_Daily/start/1140\\tMUELLER\\'S 2O2O IMPACT\\n2019-07-25 21:19:00\\tBBCNEWS\\t16\\tBBCNEWS_20190725_211900_\\tDirector, Migration Ob-servatory\\\\nBEII NEWS\\n2019-07-25 21:20:00\\tCNNW\\t7\\tCNNW_20190725_210000_Situation_Room_With_Wolf_Blitzer/start/1200\\tFAKE PRESIDENTIAL SEAL SHOWS EAGLE CLUTCHING GOLF CLUBS\\n2019-07-25 21:20:00\\tFOXNEWSW\\t61\\tFOXNEWSW_20190725_210000_The_Five/start/1200\\t; RPT: TOP DEMS AT ODDS OVER STARTING IMPEACHMENT. . W\\n2019-07-25 21:20:00\\tBBCNEWS\\t20\\tBBCNEWS_20190725_212000_\\tEEII NEWS\\\\nEB. NEWS\\n2019-07-25 21:22:00\\tMSNBCW\\t49\\tMSNBCW_20190725_210000_MTP_Daily/start/1320\\tHOUSE PASSES BIPARTISAN BUDGET DEAL\\\\nINLAN EPIRE RENO | A5 VEGAS IFIFARIEL\\n2019-07-25 21:22:00\\tCNNW\\t13\\tCNNW_20190725_210000_Situation_Room_With_Wolf_Blitzer/start/1320\\tALL-NEW BLAZER\\n2019-07-25 21:23:00\\tMSNBCW\\t47\\tMSNBCW_20190725_210000_MTP_Daily/start/1380\\tHOUSE PASSES BIPARTISAN BUDGET DEAL\\n2019-07-25 21:24:00\\tFOXNEWSW\\t10\\tFOXNEWSW_20190725_210000_The_Five/start/1440\\tEliunis.. . hnthNnu-\\'Llu;\\n2019-07-25 21:24:00\\tCNNW\\t3\\tCNNW_20190725_210000_Situation_Room_With_Wolf_Blitzer/start/1440\\tSENATE INTEL REPORT WARNS OF ONGOING ELECTION THREAT;. SAYS U.S. MUST CREATE EFFECTIVE DETERRENCE AND RESPONSE\\n2019-07-25 21:25:00\\tCNNW\\t17\\tCNNW_20190725_210000_Situation_Room_With_Wolf_Blitzer/start/1500\\tDIVIDED ON IMPEACHMENT, DEMS PLOT NEXT MOVE. AS TRUMP CLAIMS VICTORY AFI\\'ER MUELLER HEARINGS\\\\nDIVIDED ON IMPEACHMENT, DEMS PLOT NEXT MOVE. AS TRUMP CLAIMS VICTORY AFTER MUELLER HEARINGS\\\\nSENATE INTEL REPORT WARNS OF ONGOING...\\n2019-07-25 21:26:00\\tMSNBCW\\t30\\tMSNBCW_20190725_210000_MTP_Daily/start/1560\\tHOUSE PASSES BIPARTISAN BUDGET DEAL\\\\nSOURCES: PELOSI SIGNALED TO CAUCUS SHE WON\\'T. DISCOURAGE DEMS FROM SUPPORTING IMPEACHMENT\\\\nSENATE INTEL CMTE. DROPS PART ONE OF. REPORT...\\n2019-07-25 21:27:00\\tMSNBCW\\t58\\tMSNBCW_20190725_210000_MTP_Daily/start/1620\\tSENATE INTEL CMTE. DROPS PART ONE OF. REPORT ON RUSSIAN ELECTION INTERFERENCE\\\\nAMERICAN ENTERPRISE INSTITUTE\\n2019-07-25 21:27:00\\tFOXNEWSW\\t62\\tFOXNEWSW_20190725_210000_The_Five/start/1620\\tOFFICERS A\\'ITACKED. cops TARGETED WITH WATER-BUCKET AMBUSHES\\n2019-07-25 21:27:00\\tCNNW\\t24\\tCNNW_20190725_210000_Situation_Room_With_Wolf_Blitzer/start/1620\\tSENATE INTEL REPORT WARNS OF ONGOING ELECTION THREAT;. SAYS U.S. MUST CREATE EFFECTIVE DETERRENCE AND RESPONSE\\\\nDIVIDED ON IMPEACHMENT, DEMS PLOT NEXT MOVE. AS TRUMP CLAIMS VICTORY AFTER MUELLER HEARINGS\\\\nDOCUMENTS REVEAL HUNDREDS OF RED FLAGS...\\n2019-07-25 21:28:00\\tMSNBCW\\t19\\tMSNBCW_20190725_210000_MTP_Daily/start/1680\\t1-8OO-AGE-WISE aPlaceForM\\\\nSENATE INTEL CMTE. DROPS PART ONE OF. REPORT ON RUSSIAN ELECTION INTERFERENCE\\\\nREADY TO STRIKE?\\n2019-07-25 21:29:00\\tCNNW\\t43\\tCNNW_20190725_210000_Situation_Room_With_Wolf_Blitzer/start/1740\\tBIPARTISAN SENATE REPORT SAYS VULNERABILITIES. REMAIN AFTER 2O16 RUSSIAN ELECTION ATTACK\\\\nSENATE INTEL REPORT WARNS OF ONGOING ELECTION THREAT;. SAYS U.S. MUST CREATE EFFECTIVE DETERRENCE AND RESPONSE\\n2019-07-25 21:28:00\\tFOXNEWSW\\t9\\tFOXNEWSW_20190725_210000_The_Five/start/1680\\tTARGETING COPS. THIRD VIDEO EMERGES or WATER- DOUSING ATIACK ON pouca. . mi. . PRESIDENT DONALD TRUMI. m\\\\nOFFICERS A\\'ITACKED. cops TARGETED WITH WATER-BUCKET AMBUSHES\\n2019-07-25 21:29:00\\tMSNBCW\\t11\\tMSNBCW_20190725_210000_MTP_Daily/start/1740\\tI-BUU-AGE-WISE aPlaceForM\\n2019-07-25 21:30:00\\tCNNW\\t57\\tCNNW_20190725_210000_Situation_Room_With_Wolf_Blitzer/start/1800\\tSENATE INTEL REPORT WARNS OF ONGOING ELECTION THREAT;. SAYS U.S. MUST CREATE EFFECTIVE DETERRENCE AND RESPONSE\\n2019-07-25 21:30:00\\tFOXNEWSW\\t10\\tFOXNEWSW_20190725_210000_The_Five/start/1800\\tOFFICERS A\\'ITACKED. caps TARGETED WITH WATER-BUCKET AMBUSHES. . PRESIDENT DONALD TRUMI\\n2019-07-25 21:31:00\\tCNNW\\t58\\tCNNW_20190725_210000_Situation_Room_With_Wolf_Blitzer/start/1860\\tSENATE INTEL REPORT WARNS OF ONGOING ELECTION THREAT. AFTER REPUBLICAN SENATORS BLOCK ELECTION SECURITY BILLS\\n2019-07-25 21:31:00\\tFOXNEWSW\\t7\\tFOXNEWSW_20190725_210000_The_Five/start/1860\\tTARGETING COPS. THIRD VIDEO EMERGES or WATER- DOUSING ATIACK ON POLICE. . mi. . PRESIDENT DONALD TRUMI. m\\n2019-07-25 21:34:00\\tCNNW\\t57\\tCNNW_20190725_210000_Situation_Room_With_Wolf_Blitzer/start/2040\\tSENATE INTEL REPORT WARNS OF ONGOING ELECTION THREAT;. SAYS U.S. MUST CREATE EFFECTIVE DETERRENCE AND RESPONSE\\\\nSENATE INTEL REPORT WARNS OF ONGOING ELECTION THREAT. AFTER REPUBLICAN SENATORS BLOCK ELECTION SECURITY BILLS\\n2019-07-25 21:33:00\\tMSNBCW\\t27\\tMSNBCW_20190725_210000_MTP_Daily/start/1980\\tm f\\\\u201d 71.2O:.\\\\u2019HE\\\\u00a3: Vlsma\\\\ufb01\\n2019-07-25 21:35:00\\tMSNBCW\\t18\\tMSNBCW_20190725_210000_MTP_Daily/start/2100\\t8OO\\'723\\'14O1\\n2019-07-25 21:35:00\\tCNNW\\t33\\tCNNW_20190725_210000_Situation_Room_With_Wolf_Blitzer/start/2100\\tHOUSE DEMOCRATS DIVIDED OVER IMPEACHMENT AS. TRUMP CLAIMS VICTORY AFTER MUELLER HEARINGS\\\\nSENATE INTEL REPORT WARNS OF ONGOING ELECTION THREAT;. SAYS U.S. MUST CREATE EFFECTIVE DETERRENCE AND RESPONSE\\n2019-07-25 21:36:00\\tCNNW\\t61\\tCNNW_20190725_210000_Situation_Room_With_Wolf_Blitzer/start/2160\\tHOUSE DEMOCRATS DIVIDED OVER IMPEACHMENT AS. TRUMP CLAIMS VICTORY AFTER MUELLER HEARINGS\\n2019-07-25 21:36:00\\tMSNBCW\\t23\\tMSNBCW_20190725_210000_MTP_Daily/start/2160\\tPRES. TRUMP CLAIMS MUELLER PROBE WILL. HURT DEMOCRATS IN 2O2O ELECTIONS H\\\\n8OO\\'723\\'14O1\\\\n3OO\\'723\\'14O1\\n2019-07-25 21:37:00\\tMSNBCW\\t47\\tMSNBCW_20190725_210000_MTP_Daily/start/2220\\tPRES. TRUMP CLAIMS MUELLER PROBE WILL. HURT DEMOCRATS IN 2O2O ELECTIONS H\\\\nDEMS LOOK TO PRESIDENTIAL RACE AMID MUELLER FALLHUT\\n2019-07-25 21:38:00\\tMSNBCW\\t53\\tMSNBCW_20190725_210000_MTP_Daily/start/2280\\tDEMS LOOK TO PRESIDENTIAL RACE AMID MUELLER FALLHUT\\n2019-07-25 21:38:00\\tCNNW\\t13\\tCNNW_20190725_210000_Situation_Room_With_Wolf_Blitzer/start/2280\\tBIDEN JABS BACK AT RIVALS\\n2019-07-25 21:39:00\\tCNNW\\t6\\tCNNW_20190725_210000_Situation_Room_With_Wolf_Blitzer/start/2340\\tl\\\\u2014l. . VAPOR PRODUCTS \\\\u00a92O19 RJRVC ([11) UNDERAGE SALE PROHIBITED\\n2019-07-25 21:38:00\\tFOXNEWSW\\t16\\tFOXNEWSW_20190725_210000_The_Five/start/2280\\tPOLICE REPORT DISPUTES lAWMAKER\\'S \\\\\"GO BACK\\\\\" STORY\\\\nGA STATE REP STANDS BY DISPUTED CLAIM THAT MAN TOLD. HER TO \\\\\"GO BACK\\\\\" WHERE SHE CAME FROM. . W\\\\nI WITNESS IN POLICE REPORT: GA LAWMAKER...\\n2019-07-25 21:39:00\\tMSNBCW\\t57\\tMSNBCW_20190725_210000_MTP_Daily/start/2340\\tDEMS LOOK TO PRESIDENTIAL RACE AMID MUELLER FALLHUT\\\\nAMERICAN ENTERPRISE INSTITUTE\\n2019-07-25 21:40:00\\tCNNW\\t13\\tCNNW_20190725_210000_Situation_Room_With_Wolf_Blitzer/start/2400\\tBy prescription only HUMIRA.COM/PSA\\n2019-07-25 21:40:00\\tFOXNEWSW\\t63\\tFOXNEWSW_20190725_210000_The_Five/start/2400\\tPOLICE REPORT DISPUTES lAWMAKER\\'S \\\\\"GO BACK\\\\\" STORY\\n2019-07-25 21:40:00\\tMSNBCW\\t24\\tMSNBCW_20190725_210000_MTP_Daily/start/2400\\tDEMS LOOK TO PRESIDENTIAL RACE AMID MUELLER FALLHUT\\\\nBIDEN WARNS HE WON\\'T BE \\\\\"AS POLITE\\\\\" AT NEXT DEM DE%TE\\n2019-07-25 21:41:00\\tCNNW\\t6\\tCNNW_20190725_210000_Situation_Room_With_Wolf_Blitzer/start/2460\\tHUMIRA\\\\u00ae. . Please see our ad in Elle Magazine adalimumab\\n2019-07-25 21:41:00\\tMSNBCW\\t51\\tMSNBCW_20190725_210000_MTP_Daily/start/2460\\tBIDEN WARNS HE WON\\'T BE \\\\\"AS POLITE\\\\\" AT NEXT DEM DE%TE\\n2019-07-25 21:42:00\\tMSNBCW\\t57\\tMSNBCW_20190725_210000_MTP_Daily/start/2520\\tBIDEN WARNS HE WON\\'T BE \\\\\"AS POLITE\\\\\" AT NEXT DEM DE%TE\\\\nAMERICAN ENTERPRISE INSTITUTE\\n2019-07-25 21:42:00\\tBBCNEWS\\t39\\tBBCNEWS_20190725_214200_\\tII II. . E\\\\ufb02l NEWS 59Omm\\\\n5: mm from m \\\\u201c5pm:. SPORTSDAV\\n2019-07-25 21:42:00\\tCNNW\\t9\\tCNNW_20190725_210000_Situation_Room_With_Wolf_Blitzer/start/2520\\tBIDEN JABS BACK AT RIVALS AS CNN DEBATE NEARS\\\\ncarlsenporsche.com\\n2019-07-25 21:43:00\\tMSNBCW\\t58\\tMSNBCW_20190725_210000_MTP_Daily/start/2580\\tBIDEN WARNS HE WON\\'T BE \\\\\"AS POLITE\\\\\" AT NEXT DEM DE%TE\\n2019-07-25 21:43:00\\tBBCNEWS\\t18\\tBBCNEWS_20190725_214300_\\tII \\'1. . Hal NEWS 59Omm\\n2019-07-25 21:43:00\\tCNNW\\t30\\tCNNW_20190725_210000_Situation_Room_With_Wolf_Blitzer/start/2580\\tBIDEN JABS BACK AT RIVALS AS CNN DEBATE NEARS\\\\nBIDEN JABS BACK AT RIVALS AS CNN DEBATE NEARS. . Arlette Saenz OW Political Reporter\\\\nBIDEN JABS BACK AT RIVALS AS CNN DEBATE NEARS. ....\\n2019-07-25 21:44:00\\tCNNW\\t45\\tCNNW_20190725_210000_Situation_Room_With_Wolf_Blitzer/start/2640\\tBIDEN JABS BACK AT RIVALS AS CNN DEBATE NEARS\\\\nBIDEN JABS BACK AT RIVALS AS CNN DEBATE NEARS. . Joe Biden (D) Presidential Candidate\\n2019-07-25 21:45:00\\tFOXNEWSW\\t30\\tFOXNEWSW_20190725_210000_The_Five/start/2700\\t8OO-728-14O1\\n2019-07-25 21:45:00\\tCNNW\\t30\\tCNNW_20190725_210000_Situation_Room_With_Wolf_Blitzer/start/2700\\tBIDEN JABS BACK AT RIVALS AS CNN DEBATE NEARS\\n2019-07-25 21:46:00\\tFOXNEWSW\\t8\\tFOXNEWSW_20190725_210000_The_Five/start/2760\\t\\\\\"CLIMATE CHANGE MOONSHOT PLAN\\\\\". SEN GILLIBRAND UNVEILS $1O TRILLION CLIMATE CHANGE PLAN\\n2019-07-25 21:47:00\\tFOXNEWSW\\t33\\tFOXNEWSW_20190725_210000_The_Five/start/2820\\tSTICKY SITUATION. CLIMATE ACTIVISTS SUPERGLUE THEMSELVES To CAPITOL DOORS\\\\n\\\\\"CLIMATE CHANGE MOONSHOT PLAN\\\\\". SEN GILLIBRAND UNVEILS $1O TRILLION CLIMATE CHANGE PLAN\\n2019-07-25 21:47:00\\tBBCNEWS\\t5\\tBBCNEWS_20190725_214700_\\tChief PoliticalEorrespondent, The Guardian\\n2019-07-25 21:47:00\\tMSNBCW\\t34\\tMSNBCW_20190725_210000_MTP_Daily/start/2820\\tPaid Spokesperson\\n2019-07-25 21:48:00\\tFOXNEWSW\\t55\\tFOXNEWSW_20190725_210000_The_Five/start/2880\\tSTICKY SITUATION. CLIMATE ACTIVISTS SUPERGLUE THEMSELVES To CAPITOL DOORS\\n2019-07-25 21:48:00\\tMSNBCW\\t14\\tMSNBCW_20190725_210000_MTP_Daily/start/2880\\t1_8. . REPUTATIONDEFENDER\\\\u00ae Reputatk\\n2019-07-25 21:48:00\\tBBCNEWS\\t26\\tBBCNEWS_20190725_214800_\\tTHE PAPERS\\\\nDefeice Correspondent, The Times\\\\nEEII NEWS \\\\u2019\\n2019-07-25 21:49:00\\tFOXNEWSW\\t41\\tFOXNEWSW_20190725_210000_The_Five/start/2940\\tSTICKY SITUATION. CLIMATE ACTIVISTS SUPERGLUE THEMSELVES To CAPITOL DOORS\\\\nPROTESTERS GLUE THEMSELVES TO CAPITOL. DOORS IN CALL FOR ACTION ON CLIMATE CHANGE. . W\\n2019-07-25 21:49:00\\tBBCNEWS\\t50\\tBBCNEWS_20190725_214900_\\tW -. . EEII NEWS THEMPENS\\n2019-07-25 21:49:00\\tMSNBCW\\t4\\tMSNBCW_20190725_210000_MTP_Daily/start/2940\\t5 I\\\\u2019M OBSESSED WITH. .M\\n2019-07-25 21:50:00\\tFOXNEWSW\\t28\\tFOXNEWSW_20190725_210000_The_Five/start/3000\\ti 2O2O DEMS EMBRACE RADICAL CLIMATE AGENDA\\\\n\\\\\"CLIMATE CHANGE MOONSHOT PLAN\\\\\". SEN GILLIBRAND UNVEILS $1O TRILLION CLIMATE CHANGE PLAN\\\\n2O2O DEMS EMBRACE RADICAL CLIMATE AGENDA\\n2019-07-25 21:50:00\\tCNNW\\t35\\tCNNW_20190725_210000_Situation_Room_With_Wolf_Blitzer/start/3000\\tKIM JONG UN\\'S MISSILE FIRINGS SEEN AS MESSAGE TO TRUMP\\n2019-07-25 21:50:00\\tMSNBCW\\t26\\tMSNBCW_20190725_210000_MTP_Daily/start/3000\\tROBSESSED FROM RUSSIA WITH CLUBS. . WITH\\n2019-07-25 21:51:00\\tFOXNEWSW\\t29\\tFOXNEWSW_20190725_210000_The_Five/start/3060\\t2O2O DEMS EMBRACE RADICAL CLIMATE AGENDA\\\\n2O2O DEMS EMBRACE RADICAL CLIMATE AGENDA\\n2019-07-25 21:52:00\\tFOXNEWSW\\t22\\tFOXNEWSW_20190725_210000_The_Five/start/3120\\t\\\\u00abCREATIVE PLANNINGCUM BEG-CREATIVE\\n2019-07-25 21:53:00\\tCNNW\\t44\\tCNNW_20190725_210000_Situation_Room_With_Wolf_Blitzer/start/3180\\tKIM JONG UN\\'S MISSILE FIRINGS SEEN AS MESSAGE TO TRUMP\\\\nNORTH KOREANS SAY KIM JONG UN SUPERVISED MISSILE LAUNCHES\\\\nKIM JONG UN\\'S MISSILE FIRINGS SEEN AS MESSAGE TO TRUMP. . Evans Revere...\\n2019-07-25 21:54:00\\tMSNBCW\\t35\\tMSNBCW_20190725_210000_MTP_Daily/start/3240\\tSENATE INTEL REPORT FINDS \\\\\"EXTENSIVE\\\\\". RUSSIAN ELECTION INTERFERENCE\\n2019-07-25 21:54:00\\tCNNW\\t24\\tCNNW_20190725_210000_Situation_Room_With_Wolf_Blitzer/start/3240\\tNORTH KOREANS SAY KIM JONG UN SUPERVISED MISSILE LAUNCHES\\\\nBIPARTISAN REPORT WARNS OF ONGOING ELECTION THREAT\\n2019-07-25 21:55:00\\tMSNBCW\\t48\\tMSNBCW_20190725_210000_MTP_Daily/start/3300\\tSENATE INTEL REPORT FINDS \\\\\"EXTENSIVE\\\\\". RUSSIAN ELECTION INTERFERENCE\\\\nSENATE INTEL REPORT: CONCERNS ABOUT CYBER SECURITY. OF FUTURE ELECTIONS AND AGING EQUIPMENT\\n2019-07-25 21:56:00\\tMSNBCW\\t43\\tMSNBCW_20190725_210000_MTP_Daily/start/3360\\tSENATE INTEL REPORT: CONCERNS ABOUT CYBER SECURITY. OF FUTURE ELECTIONS AND AGING EQUIPMENT\\\\nSENATE INTEL REPORT FINDS \\\\\"EXTENSIVE\\\\\". RUSSIAN ELECTION INTERFERENCE\\n2019-07-25 21:56:00\\tFOXNEWSW\\t12\\tFOXNEWSW_20190725_210000_The_Five/start/3360\\t\\\\\"WA1TER5\\' WORLD\\\\\" SEASON 5 NOW ON FOX NATION\\n2019-07-25 21:57:00\\tFOXNEWSW\\t20\\tFOXNEWSW_20190725_210000_The_Five/start/3420\\tFOXNEWSPODCASTS.COM\\n2019-07-25 21:57:00\\tMSNBCW\\t39\\tMSNBCW_20190725_210000_MTP_Daily/start/3420\\tSENATE INTEL REPORT FINDS \\\\\"EXTENSIVE\\\\\". RUSSIAN ELECTION INTERFERENCE\\\\nSENATE INTEL REPORT: CONCERNS ABOUT CYBER SECURITY. OF FUTURE ELECTIONS AND AGING EQUIPMENT\\n2019-07-25 21:57:00\\tCNNW\\t11\\tCNNW_20190725_210000_Situation_Room_With_Wolf_Blitzer/start/3420\\tangieslist.com\\n2019-07-25 21:58:00\\tBBCNEWS\\t12\\tBBCNEWS_20190725_215800_\\t. .. , Plymom Thursdaynight\\\\n\\'\\\\u201c\\' Plymouth. . S|Helier in Thursday 23:OO\\n2019-07-25 21:58:00\\tMSNBCW\\t54\\tMSNBCW_20190725_210000_MTP_Daily/start/3480\\tSENATE INTEL REPORT: CONCERNS ABOUT CYBER SECURITY. OF FUTURE ELECTIONS AND AGING EQUIPMENT\\n2019-07-25 21:58:00\\tFOXNEWSW\\t11\\tFOXNEWSW_20190725_210000_The_Five/start/3480\\t\\'I\\'IJE II\\'I\\'I\\'IT\\\\nWHEN LIFE GIVES YOU GRAPES.... WOMAN COVERS RED WINE SPILL WITH MORE RED WINE\\\\nOne More. . #THINGI\\'. . . . \\'I\\'IJE I\\'D\\\\\" 7\\'7\\\\nANIMALS ARE...\\n2019-07-25 21:59:00\\tMSNBCW\\t36\\tMSNBCW_20190725_210000_MTP_Daily/start/3540\\tSENATE INTEL REPORT FINDS \\\\\"EXTENSIVE\\\\\". RUSSIAN ELECTION INTERFERENCE\\\\nSENATE INTEL REPORT: CONCERNS ABOUT CYBER SECURITY. OF FUTURE ELECTIONS AND AGING EQUIPMENT\\n2019-07-25 21:59:00\\tFOXNEWSW\\t11\\tFOXNEWSW_20190725_210000_The_Five/start/3540\\tJESSICA VISITS THE RONALD REAGAN. TERRACE AT THE U. S. EMBASSY IN GERMANY\\\\nRESTAURANT LAUNCHES \\\\\"PETA TEARSII. BEER AFTER BILLBOARD FEUD. . m\\n2019-07-25 22:00:00\\tCNNW\\t27\\tCNNW_20190725_210000_Situation_Room_With_Wolf_Blitzer/start/3600\\t| blUtN\\'S NI:W SPINE \\\\\"\\\\nSENATE REPUBLICANS BLOCK ELECTION SECURITY BILLS DESPITE WARNINGS. FROM INTEL COMMITTEE, FBI CHIEF OF 2O2O RUSSIAN ELECTION MEDDLING\\n2019-07-25 22:00:00\\tMSNBCW\\t19\\tMSNBCW_20190725_210000_MTP_Daily/start/3600\\tAFTER MUELLER, DEMS EYE NEW WITNESSES, TRUMP FINANCES\\\\nNEW SETBACKS FOR TRUMP ADMIN IMMIGRATION PLANS\\\\nKEY MOMENTS FROM HISTORIC MUELLER TESTIMONY\\\\nSENATE INTEL REPORT FINDS \\\\\"EXTENSIVE\\\\\"....\\n2019-07-25 22:00:00\\tBBCNEWS\\t43\\tBBCNEWS_20190725_220000_\\talsrupts trams\\n2019-07-25 22:01:00\\tCNNW\\t23\\tCNNW_20190725_220000_Situation_Room_With_Wolf_Blitzer/start/60\\tSENATE REPUBLICANS BLOCK ELECTION SECURITY BILLS DESPITE WARNINGS. FROM INTEL COMMITTEE, FBI CHIEF OF 2O2O RUSSIAN ELECTION MEDDLING\\\\nMCCONNELL: ELECTION SECURITY BILL \\\\\"FROM SAME FOLKS WHO SPENT. TWO YEARS HYPING CONSPIRACY THEORY ABOUT TRUMP AND RUSSIA\\\\\"\\\\nSENATE INTEL...\\n2019-07-25 22:01:00\\tMSNBCW\\t14\\tMSNBCW_20190725_220000_The_Beat_With_Ari_Melber/start/60\\tAFI\\'ER MUELLER, DEMS EYE NBN WITNESSES, TRUMP FINANCES\\\\nDEMS PUSH SUBPOENAS AFTER MUELLER SAYS TRUMP NOT EXONERATED\\n2019-07-25 22:01:00\\tFOXNEWSW\\t6\\tFOXNEWSW_20190725_220000_Special_Report_With_Bret_Baier/start/60\\tF A \\\\u2014. I\\\\u201c III I In \\\\u201dE A DIKIITZUAEI IRATYIKAKFIIETREC \\\\\\\\AIA CLIIKIIZ\\'I\\'I\\'KI\\n2019-07-25 22:02:00\\tCNNW\\t55\\tCNNW_20190725_220000_Situation_Room_With_Wolf_Blitzer/start/120\\tSENATE INTEL REPORT WARNS OF ONGOING ELECTION THREAT;. SAYS U.S. MUST CREATE EFFECTIVE DETERRENCE AND RESPONSE\\\\nSunlen Serfaty CJ\\\\\\\\N Congressional Correspondent\\n2019-07-25 22:02:00\\tFOXNEWSW\\t9\\tFOXNEWSW_20190725_220000_Special_Report_With_Bret_Baier/start/120\\tTHE I-WORD. . (All: \\\\u201cEAAI\\'I\\'DATC I\\'nkl\\'l\\'lkll IE I\\'AII If\\\\u201c) IA\\'DEAI\\'IJA\\'EKI\\'I\\' IJEADI ICC\\n2019-07-25 22:02:00\\tMSNBCW\\t48\\tMSNBCW_20190725_220000_The_Beat_With_Ari_Melber/start/120\\tDEMS PUSH SUBPOENAS AFTER MUELLER SAYS TRUMP NOT EXONERATED\\n2019-07-25 22:03:00\\tMSNBCW\\t23\\tMSNBCW_20190725_220000_The_Beat_With_Ari_Melber/start/180\\tpoint to impeachment\\\\nDEMS PUSH SUBPOENAS AFTER MUELLER SAYS TRUMP NOT EXONERATED\\\\nNO RUSH TO IMPEACHMENT AFTER MUELLER\\n2019-07-25 22:04:00\\tMSNBCW\\t45\\tMSNBCW_20190725_220000_The_Beat_With_Ari_Melber/start/240\\tNO RUSH TO IMPEACHMENT AFTER MUELLER\\\\nNO RUSH TO IMPEACHMENT AFI\\'ER MUELLER\\n2019-07-25 22:04:00\\tFOXNEWSW\\t5\\tFOXNEWSW_20190725_220000_Special_Report_With_Bret_Baier/start/240\\tUnl ICE \\\\u201cEIAAFEHELI\\'\\\\u00a7ETEIREIPE6AI1D\\\\u00a7\\\\\\\\AIICDTDI Il\\'n nnnncc\\n2019-07-25 22:06:00\\tMSNBCW\\t9\\tMSNBCW_20190725_220000_The_Beat_With_Ari_Melber/start/360\\tAFTER MUELLER, DEMS EYE NBN WITNESSES, TRUMP FINANCES\\\\nAFTER MUELLER, DEMS EYE NEW WITNESSES, TRUMP FINANCES\\n2019-07-25 22:06:00\\tFOXNEWSW\\t10\\tFOXNEWSW_20190725_220000_Special_Report_With_Bret_Baier/start/360\\tR_NGIS| TENSSION WITH IRAN \\' \\'\\\\nI) \\\\u2014. CEI\\'DETADV r\\\\u201c: CTAF\\'IQAR\\'IEIEGDINA\\'DPEQHSXIADI n un\\'r cnn\\'rc\\\\n> HASSAN ROUHANI | IRANIAN PRESIDENT. . \\' L L .n A _\\'An\\n2019-07-25 22:09:00\\tMSNBCW\\t47\\tMSNBCW_20190725_220000_The_Beat_With_Ari_Melber/start/540\\tNO RUSH TO IMPEACHMENT AFI\\'ER MUELLER\\n'"
      ]
     },
     "execution_count": 3,
     "metadata": {},
     "output_type": "execute_result"
    }
   ],
   "source": [
    "#The Results aren't pretty...\n",
    "res.content"
   ]
  },
  {
   "cell_type": "code",
   "execution_count": 4,
   "metadata": {
    "ExecuteTime": {
     "end_time": "2019-07-25T10:43:48.909113Z",
     "start_time": "2019-07-25T10:43:48.850127Z"
    }
   },
   "outputs": [
    {
     "data": {
      "text/html": [
       "<div>\n",
       "<style scoped>\n",
       "    .dataframe tbody tr th:only-of-type {\n",
       "        vertical-align: middle;\n",
       "    }\n",
       "\n",
       "    .dataframe tbody tr th {\n",
       "        vertical-align: top;\n",
       "    }\n",
       "\n",
       "    .dataframe thead th {\n",
       "        text-align: right;\n",
       "    }\n",
       "</style>\n",
       "<table border=\"1\" class=\"dataframe\">\n",
       "  <thead>\n",
       "    <tr style=\"text-align: right;\">\n",
       "      <th></th>\n",
       "      <th>date_time_(UTC)</th>\n",
       "      <th>channel</th>\n",
       "      <th>duration</th>\n",
       "      <th>https://archive.org/details/</th>\n",
       "      <th>text</th>\n",
       "    </tr>\n",
       "  </thead>\n",
       "  <tbody>\n",
       "    <tr>\n",
       "      <th>0</th>\n",
       "      <td>2019-07-25 19:00:00</td>\n",
       "      <td>CNNW</td>\n",
       "      <td>7</td>\n",
       "      <td>CNNW_20190725_180000_CNN_Newsroom_With_Brooke_...</td>\n",
       "      <td>DEMOCRATS AT ODDS OVER WHETHER TO PURSUE IMPEA...</td>\n",
       "    </tr>\n",
       "    <tr>\n",
       "      <th>1</th>\n",
       "      <td>2019-07-25 19:00:00</td>\n",
       "      <td>BBCNEWS</td>\n",
       "      <td>53</td>\n",
       "      <td>BBCNEWS_20190725_180000_Beyond_100_Days/start/...</td>\n",
       "      <td>neatwave</td>\n",
       "    </tr>\n",
       "    <tr>\n",
       "      <th>2</th>\n",
       "      <td>2019-07-25 19:01:00</td>\n",
       "      <td>MSNBCW</td>\n",
       "      <td>50</td>\n",
       "      <td>MSNBCW_20190725_190000_MSNBC_Live_With_Ali_Vel...</td>\n",
       "      <td>MUELLER WARNS RUSSIA IS STILL. TRYING TO INTER...</td>\n",
       "    </tr>\n",
       "    <tr>\n",
       "      <th>3</th>\n",
       "      <td>2019-07-25 19:01:00</td>\n",
       "      <td>CNNW</td>\n",
       "      <td>45</td>\n",
       "      <td>CNNW_20190725_190000_CNN_Newsroom_With_Brooke_...</td>\n",
       "      <td>DEMOCRATS AT ODDS OVER WHETHER TO PURSUE IMPEA...</td>\n",
       "    </tr>\n",
       "    <tr>\n",
       "      <th>4</th>\n",
       "      <td>2019-07-25 19:02:00</td>\n",
       "      <td>MSNBCW</td>\n",
       "      <td>44</td>\n",
       "      <td>MSNBCW_20190725_190000_MSNBC_Live_With_Ali_Vel...</td>\n",
       "      <td>MUELLER WARNS RUSSIA IS STILL. TRYING TO INTER...</td>\n",
       "    </tr>\n",
       "  </tbody>\n",
       "</table>\n",
       "</div>"
      ],
      "text/plain": [
       "       date_time_(UTC)  channel  duration  \\\n",
       "0  2019-07-25 19:00:00     CNNW         7   \n",
       "1  2019-07-25 19:00:00  BBCNEWS        53   \n",
       "2  2019-07-25 19:01:00   MSNBCW        50   \n",
       "3  2019-07-25 19:01:00     CNNW        45   \n",
       "4  2019-07-25 19:02:00   MSNBCW        44   \n",
       "\n",
       "                        https://archive.org/details/  \\\n",
       "0  CNNW_20190725_180000_CNN_Newsroom_With_Brooke_...   \n",
       "1  BBCNEWS_20190725_180000_Beyond_100_Days/start/...   \n",
       "2  MSNBCW_20190725_190000_MSNBC_Live_With_Ali_Vel...   \n",
       "3  CNNW_20190725_190000_CNN_Newsroom_With_Brooke_...   \n",
       "4  MSNBCW_20190725_190000_MSNBC_Live_With_Ali_Vel...   \n",
       "\n",
       "                                                text  \n",
       "0  DEMOCRATS AT ODDS OVER WHETHER TO PURSUE IMPEA...  \n",
       "1                                           neatwave  \n",
       "2  MUELLER WARNS RUSSIA IS STILL. TRYING TO INTER...  \n",
       "3  DEMOCRATS AT ODDS OVER WHETHER TO PURSUE IMPEA...  \n",
       "4  MUELLER WARNS RUSSIA IS STILL. TRYING TO INTER...  "
      ]
     },
     "execution_count": 4,
     "metadata": {},
     "output_type": "execute_result"
    }
   ],
   "source": [
    "#But we can structure them using pandas \n",
    "\n",
    "#import library\n",
    "import pandas as pd\n",
    "import io #this allows us to work with streams of text from APIs\n",
    "\n",
    "#save content as an object\n",
    "news = res.content\n",
    "\n",
    "#read into a table format\n",
    "chyron = pd.read_csv(io.StringIO(news.decode('utf-8')), sep = '\\t')\n",
    "\n",
    "#show dataframe head\n",
    "chyron.head()"
   ]
  },
  {
   "cell_type": "markdown",
   "metadata": {},
   "source": [
    "## Social Media... doesn't require requests usually"
   ]
  },
  {
   "cell_type": "markdown",
   "metadata": {},
   "source": [
    "Many SOCIAL providers have development teams that create Python Wrappers for their APIs. Here, I'll show you PRAW - the **Python Reddit API Wrapper**\n",
    "\n",
    "<img src = \"https://marketingland.com/wp-content/ml-loads/2014/07/reddit-combo-1920.png\" >\n",
    "\n",
    "Reddit is a forum community with COUNTLESS different spaces for collaboration and exploration and knowledge making and hijinks. It's organized into 'subreddits' - sub groups off of the main page that allow you to explore specific topics that you're interested in. \n",
    "\n",
    "<img src = \"https://i.redd.it/ej52w79m4jp01.png\" >\n",
    "\n",
    "You'll need to make sure you sign up for an account here: https://www.reddit.com/prefs/apps/"
   ]
  },
  {
   "cell_type": "code",
   "execution_count": 5,
   "metadata": {
    "ExecuteTime": {
     "end_time": "2019-07-25T17:39:07.763798Z",
     "start_time": "2019-07-25T17:39:07.759630Z"
    }
   },
   "outputs": [],
   "source": [
    "#first, we'll install PRAW if we don't already have it. \n",
    "#!pip install praw\n",
    "\n",
    "#then we can import it\n",
    "import praw\n",
    "\n",
    "#and then we instantiate it with the required credentials!\n",
    "reddit = praw.Reddit(client_id = \"MccEzTi4eil7Dw\"\n",
    "                  , client_secret = \"RcLJOO8zW5lCgRTuLJlZ6YnHrlU\"\n",
    "                  , password = \"GAIsGreat\"\n",
    "                  , username = \"GA-tester-acct\"\n",
    "                  , user_agent = \"GA_NLP_CLASS\")"
   ]
  },
  {
   "cell_type": "code",
   "execution_count": 6,
   "metadata": {
    "ExecuteTime": {
     "end_time": "2019-07-25T18:13:38.841076Z",
     "start_time": "2019-07-25T18:13:35.377750Z"
    }
   },
   "outputs": [],
   "source": [
    "#Once we have our connection credentials set, the information persists with our object\n",
    "\n",
    "#we first create a container for information\n",
    "posts = {\"created\": [], \"title\": [], \"body\": [], \n",
    "              \"num_comments\": [], \"score\": [], \"crossposts\": [], \"id\": [], \"url\": []}\n",
    "\n",
    "#we then define the subreddit we want to look at\n",
    "sub = reddit.subreddit('Travel')\n",
    "\n",
    "#and then iterate through structuring our data\n",
    "for submi in sub.search(\"Hilton\", limit = None, time_filter = \"all\"):\n",
    "    posts[\"created\"].append(submi.created)\n",
    "    posts[\"title\"].append(submi.title)\n",
    "    posts[\"body\"].append(submi.selftext)\n",
    "    posts[\"num_comments\"].append(submi.num_comments)\n",
    "    posts[\"crossposts\"].append(submi.num_crossposts)\n",
    "    posts[\"score\"].append(submi.score)\n",
    "    posts[\"id\"].append(submi.id)\n",
    "    posts[\"url\"].append(submi.url)\n",
    "\n",
    "#now structure that container as a dataframe\n",
    "travel = pd.DataFrame(posts)"
   ]
  },
  {
   "cell_type": "code",
   "execution_count": 7,
   "metadata": {
    "ExecuteTime": {
     "end_time": "2019-07-25T18:13:38.889722Z",
     "start_time": "2019-07-25T18:13:38.846140Z"
    }
   },
   "outputs": [
    {
     "data": {
      "text/html": [
       "<div>\n",
       "<style scoped>\n",
       "    .dataframe tbody tr th:only-of-type {\n",
       "        vertical-align: middle;\n",
       "    }\n",
       "\n",
       "    .dataframe tbody tr th {\n",
       "        vertical-align: top;\n",
       "    }\n",
       "\n",
       "    .dataframe thead th {\n",
       "        text-align: right;\n",
       "    }\n",
       "</style>\n",
       "<table border=\"1\" class=\"dataframe\">\n",
       "  <thead>\n",
       "    <tr style=\"text-align: right;\">\n",
       "      <th></th>\n",
       "      <th>created</th>\n",
       "      <th>title</th>\n",
       "      <th>body</th>\n",
       "      <th>num_comments</th>\n",
       "      <th>score</th>\n",
       "      <th>crossposts</th>\n",
       "      <th>id</th>\n",
       "      <th>url</th>\n",
       "    </tr>\n",
       "  </thead>\n",
       "  <tbody>\n",
       "    <tr>\n",
       "      <th>0</th>\n",
       "      <td>1.563316e+09</td>\n",
       "      <td>Best rewards programs?</td>\n",
       "      <td>Recently got a new job where I’ll be traveling...</td>\n",
       "      <td>6</td>\n",
       "      <td>3</td>\n",
       "      <td>0</td>\n",
       "      <td>cdxrwh</td>\n",
       "      <td>https://www.reddit.com/r/travel/comments/cdxrw...</td>\n",
       "    </tr>\n",
       "    <tr>\n",
       "      <th>1</th>\n",
       "      <td>1.560763e+09</td>\n",
       "      <td>My new job consists of 90% traveling all over ...</td>\n",
       "      <td>I’d love to know any more tips and tricks whil...</td>\n",
       "      <td>21</td>\n",
       "      <td>5</td>\n",
       "      <td>0</td>\n",
       "      <td>c1hl2x</td>\n",
       "      <td>https://www.reddit.com/r/travel/comments/c1hl2...</td>\n",
       "    </tr>\n",
       "    <tr>\n",
       "      <th>2</th>\n",
       "      <td>1.558759e+09</td>\n",
       "      <td>Will you stay in a recently listed hotel on Bo...</td>\n",
       "      <td>I found a nice hotel on booking, its price is ...</td>\n",
       "      <td>11</td>\n",
       "      <td>0</td>\n",
       "      <td>0</td>\n",
       "      <td>bsm0ks</td>\n",
       "      <td>https://www.reddit.com/r/travel/comments/bsm0k...</td>\n",
       "    </tr>\n",
       "    <tr>\n",
       "      <th>3</th>\n",
       "      <td>1.554328e+09</td>\n",
       "      <td>Tahiti travel recommendations needed!</td>\n",
       "      <td>Looking for affordable and unique accommodatio...</td>\n",
       "      <td>9</td>\n",
       "      <td>3</td>\n",
       "      <td>0</td>\n",
       "      <td>b8y886</td>\n",
       "      <td>https://www.reddit.com/r/travel/comments/b8y88...</td>\n",
       "    </tr>\n",
       "    <tr>\n",
       "      <th>4</th>\n",
       "      <td>1.554207e+09</td>\n",
       "      <td>Kiawah Island and Charleston or Hilton Head an...</td>\n",
       "      <td>Looking for a 4 to 5-day vacation with the gir...</td>\n",
       "      <td>4</td>\n",
       "      <td>4</td>\n",
       "      <td>0</td>\n",
       "      <td>b8e7yk</td>\n",
       "      <td>https://www.reddit.com/r/travel/comments/b8e7y...</td>\n",
       "    </tr>\n",
       "  </tbody>\n",
       "</table>\n",
       "</div>"
      ],
      "text/plain": [
       "        created                                              title  \\\n",
       "0  1.563316e+09                             Best rewards programs?   \n",
       "1  1.560763e+09  My new job consists of 90% traveling all over ...   \n",
       "2  1.558759e+09  Will you stay in a recently listed hotel on Bo...   \n",
       "3  1.554328e+09              Tahiti travel recommendations needed!   \n",
       "4  1.554207e+09  Kiawah Island and Charleston or Hilton Head an...   \n",
       "\n",
       "                                                body  num_comments  score  \\\n",
       "0  Recently got a new job where I’ll be traveling...             6      3   \n",
       "1  I’d love to know any more tips and tricks whil...            21      5   \n",
       "2  I found a nice hotel on booking, its price is ...            11      0   \n",
       "3  Looking for affordable and unique accommodatio...             9      3   \n",
       "4  Looking for a 4 to 5-day vacation with the gir...             4      4   \n",
       "\n",
       "   crossposts      id                                                url  \n",
       "0           0  cdxrwh  https://www.reddit.com/r/travel/comments/cdxrw...  \n",
       "1           0  c1hl2x  https://www.reddit.com/r/travel/comments/c1hl2...  \n",
       "2           0  bsm0ks  https://www.reddit.com/r/travel/comments/bsm0k...  \n",
       "3           0  b8y886  https://www.reddit.com/r/travel/comments/b8y88...  \n",
       "4           0  b8e7yk  https://www.reddit.com/r/travel/comments/b8e7y...  "
      ]
     },
     "execution_count": 7,
     "metadata": {},
     "output_type": "execute_result"
    }
   ],
   "source": [
    "travel.head()"
   ]
  },
  {
   "cell_type": "code",
   "execution_count": 8,
   "metadata": {
    "ExecuteTime": {
     "end_time": "2019-07-25T18:13:42.667723Z",
     "start_time": "2019-07-25T18:13:42.649018Z"
    }
   },
   "outputs": [],
   "source": [
    "#let's replace those empty bodies with NaN\n",
    "import numpy as np\n",
    "travel.replace(r'^\\s*$', np.nan, regex=True, inplace = True)"
   ]
  },
  {
   "cell_type": "markdown",
   "metadata": {},
   "source": [
    "## Sentiment Analysis\n",
    "Sentiment analysis is an ANALYTICS technique - it applies a non-predictive set of business rules to data to understand whether it is positive or negative, subjective or objective. "
   ]
  },
  {
   "cell_type": "code",
   "execution_count": 12,
   "metadata": {
    "ExecuteTime": {
     "end_time": "2019-07-25T18:13:45.095893Z",
     "start_time": "2019-07-25T18:13:44.432602Z"
    }
   },
   "outputs": [
    {
     "data": {
      "image/png": "[encoded data removed]",
      "text/plain": [
       "<Figure size 432x288 with 1 Axes>"
      ]
     },
     "metadata": {},
     "output_type": "display_data"
    }
   ],
   "source": [
    "#import sentiment from TextBlob, viz\n",
    "from textblob import TextBlob\n",
    "import seaborn as sns\n",
    "from matplotlib import pyplot as plt\n",
    "\n",
    "#Create a function that will class sentiment\n",
    "def detect_polarity(text):\n",
    "    return TextBlob(text).sentiment.polarity\n",
    "    \n",
    "#get apply sentiment function to data\n",
    "travel[\"sentiment\"] = travel.title.apply(detect_polarity)\n",
    "\n",
    "#see what the distribution looks like\n",
    "travel.sentiment.hist()\n",
    "plt.show()"
   ]
  },
  {
   "cell_type": "markdown",
   "metadata": {},
   "source": [
    "Other analytics measures might include a count of how long a Title or a Post is!"
   ]
  },
  {
   "cell_type": "code",
   "execution_count": 13,
   "metadata": {
    "ExecuteTime": {
     "end_time": "2019-07-25T18:13:48.685516Z",
     "start_time": "2019-07-25T18:13:48.671554Z"
    }
   },
   "outputs": [
    {
     "data": {
      "text/plain": [
       "count    219.000000\n",
       "mean      58.269406\n",
       "std       31.231828\n",
       "min        8.000000\n",
       "25%       38.000000\n",
       "50%       52.000000\n",
       "75%       71.000000\n",
       "max      200.000000\n",
       "Name: length, dtype: float64"
      ]
     },
     "execution_count": 13,
     "metadata": {},
     "output_type": "execute_result"
    }
   ],
   "source": [
    "#store length of post as a feature\n",
    "travel['length'] = travel.title.apply(len)\n",
    "\n",
    "#let's see what that column looks like in terms of min, max, etc. \n",
    "travel['length'].describe()"
   ]
  },
  {
   "cell_type": "markdown",
   "metadata": {},
   "source": [
    "Now we can look at some analytics relationships!"
   ]
  },
  {
   "cell_type": "code",
   "execution_count": 14,
   "metadata": {
    "ExecuteTime": {
     "end_time": "2019-07-25T18:13:52.363935Z",
     "start_time": "2019-07-25T18:13:51.845539Z"
    }
   },
   "outputs": [
    {
     "data": {
      "text/plain": [
       "<matplotlib.axes._subplots.AxesSubplot at 0x2243c115a20>"
      ]
     },
     "execution_count": 14,
     "metadata": {},
     "output_type": "execute_result"
    },
    {
     "data": {
      "image/png": "[encoded data removed]",
      "text/plain": [
       "<Figure size 432x288 with 2 Axes>"
      ]
     },
     "metadata": {},
     "output_type": "display_data"
    }
   ],
   "source": [
    "#are positive or negative TITLES more associated with other metrics? \n",
    "\n",
    "#get the correlation\n",
    "corr = travel[[\"length\", \"sentiment\", \"length\", \"crossposts\", \"score\"]].corr()\n",
    "\n",
    "#make a heatmap\n",
    "sns.heatmap(corr, annot = True)"
   ]
  },
  {
   "cell_type": "markdown",
   "metadata": {},
   "source": [
    "We can even see if sentiment, length, and number of comments are good predictors of interaction with some basic Machine Learning. "
   ]
  },
  {
   "cell_type": "code",
   "execution_count": 15,
   "metadata": {
    "ExecuteTime": {
     "end_time": "2019-07-25T18:11:19.001076Z",
     "start_time": "2019-07-25T18:11:18.987167Z"
    }
   },
   "outputs": [
    {
     "data": {
      "text/plain": [
       "count     219.000000\n",
       "mean       35.054795\n",
       "std       382.783872\n",
       "min         0.000000\n",
       "25%         1.000000\n",
       "50%         2.000000\n",
       "75%         4.000000\n",
       "max      5642.000000\n",
       "Name: score, dtype: float64"
      ]
     },
     "execution_count": 15,
     "metadata": {},
     "output_type": "execute_result"
    }
   ],
   "source": [
    "travel.score.describe()"
   ]
  },
  {
   "cell_type": "code",
   "execution_count": 16,
   "metadata": {
    "ExecuteTime": {
     "end_time": "2019-07-25T18:14:30.658192Z",
     "start_time": "2019-07-25T18:14:30.639396Z"
    }
   },
   "outputs": [
    {
     "name": "stdout",
     "output_type": "stream",
     "text": [
      "MAE: 112.99039030016296\n",
      "MSE: 25384.305053774446\n",
      "RMSE: 159.32452747073955\n"
     ]
    }
   ],
   "source": [
    "#import our libraries\n",
    "from sklearn.linear_model import LinearRegression #Linear Regressor\n",
    "from sklearn.model_selection import train_test_split as tts #split\n",
    "from sklearn import metrics\n",
    "\n",
    "#set up our variables as objects\n",
    "feature_cols = [\"length\", \"num_comments\"]\n",
    "X = travel[feature_cols]\n",
    "y = travel.score\n",
    "\n",
    "#one hold out method, so that we can evaluate our model\n",
    "X_train, X_test, y_train, y_test = tts(X, y, random_state = 42)\n",
    "\n",
    "#instantiate our model\n",
    "lr = LinearRegression()\n",
    "\n",
    "#fit that model\n",
    "lr.fit(X_train, y_train)\n",
    "\n",
    "#predict\n",
    "pred = lr.predict(X_test)\n",
    "\n",
    "# Calculate these metrics by hand!\n",
    "print('MAE:', metrics.mean_absolute_error(y_test, pred))\n",
    "print('MSE:', metrics.mean_squared_error(y_test, pred))\n",
    "print('RMSE:', np.sqrt(metrics.mean_squared_error(y_test, pred)))"
   ]
  },
  {
   "cell_type": "code",
   "execution_count": 17,
   "metadata": {
    "ExecuteTime": {
     "end_time": "2019-07-25T18:14:32.699089Z",
     "start_time": "2019-07-25T18:14:32.639313Z"
    }
   },
   "outputs": [
    {
     "name": "stdout",
     "output_type": "stream",
     "text": [
      "Residuals:\n",
      "Min       1Q   Median       3Q        Max\n",
      "-151.7739 -74.0971 -22.0141  55.2673  1744.9755\n",
      "\n",
      "\n",
      "Coefficients:\n",
      "                Estimate  Std. Error  t value   p value\n",
      "_intercept   -163.010271   49.095757  -3.3203  0.001054\n",
      "length          0.624242    0.360141   1.7333  0.084451\n",
      "num_comments   15.772607    1.420919  11.1003  0.000000\n",
      "---\n",
      "R-squared:  0.27413,    Adjusted R-squared:  0.26741\n",
      "F-statistic: 40.79 on 2 features\n"
     ]
    }
   ],
   "source": [
    "#evaluate using regressors\n",
    "#install\n",
    "#! pip install regressors\n",
    "\n",
    "from regressors import stats\n",
    "\n",
    "stats.summary(lr, X, y, feature_cols)"
   ]
  },
  {
   "cell_type": "markdown",
   "metadata": {},
   "source": [
    "## Machine Learning 1: Discriminative Document Classification\n",
    "Like the linear regression above, DDC is a SUPERVISED approach to Machine Learning: We train the model using data for which we already know the classification of, and evaluate its performance based on that *a priori* knowledge\n",
    "\n",
    "<img src = \"https://miro.medium.com/max/1204/0*qf-O7Jm1mmZrXYqA\" >"
   ]
  },
  {
   "cell_type": "code",
   "execution_count": 18,
   "metadata": {
    "ExecuteTime": {
     "end_time": "2019-07-25T18:25:52.455565Z",
     "start_time": "2019-07-25T18:25:50.275404Z"
    }
   },
   "outputs": [
    {
     "data": {
      "text/plain": [
       "(148, 8)"
      ]
     },
     "execution_count": 18,
     "metadata": {},
     "output_type": "execute_result"
    }
   ],
   "source": [
    "#Let's build a dataset about Marriott \n",
    "\n",
    "#we first create a container for information\n",
    "posts = {\"created\": [], \"title\": [], \"body\": [], \n",
    "              \"num_comments\": [], \"score\": [], \"crossposts\": [], \"id\": [], \"url\": []}\n",
    "\n",
    "#we then define the subreddit we want to look at\n",
    "sub = reddit.subreddit('Travel')\n",
    "\n",
    "#and then iterate through structuring our data\n",
    "for submi in sub.search(\"Marriott\", limit = None, time_filter = \"all\"):\n",
    "    posts[\"created\"].append(submi.created)\n",
    "    posts[\"title\"].append(submi.title)\n",
    "    posts[\"body\"].append(submi.selftext)\n",
    "    posts[\"num_comments\"].append(submi.num_comments)\n",
    "    posts[\"crossposts\"].append(submi.num_crossposts)\n",
    "    posts[\"score\"].append(submi.score)\n",
    "    posts[\"id\"].append(submi.id)\n",
    "    posts[\"url\"].append(submi.url)\n",
    "\n",
    "#now structure that container as a dataframe\n",
    "travel_marriott = pd.DataFrame(posts)\n",
    "travel_marriott.shape"
   ]
  },
  {
   "cell_type": "code",
   "execution_count": 19,
   "metadata": {
    "ExecuteTime": {
     "end_time": "2019-07-25T18:51:26.697444Z",
     "start_time": "2019-07-25T18:51:26.653562Z"
    }
   },
   "outputs": [
    {
     "name": "stderr",
     "output_type": "stream",
     "text": [
      "C:\\ProgramData\\Anaconda3\\lib\\site-packages\\ipykernel_launcher.py:4: FutureWarning: Sorting because non-concatenation axis is not aligned. A future version\n",
      "of pandas will change to not sort by default.\n",
      "\n",
      "To accept the future behavior, pass 'sort=True'.\n",
      "\n",
      "To retain the current behavior and silence the warning, pass sort=False\n",
      "\n",
      "  after removing the cwd from sys.path.\n"
     ]
    },
    {
     "data": {
      "text/html": [
       "<div>\n",
       "<style scoped>\n",
       "    .dataframe tbody tr th:only-of-type {\n",
       "        vertical-align: middle;\n",
       "    }\n",
       "\n",
       "    .dataframe tbody tr th {\n",
       "        vertical-align: top;\n",
       "    }\n",
       "\n",
       "    .dataframe thead th {\n",
       "        text-align: right;\n",
       "    }\n",
       "</style>\n",
       "<table border=\"1\" class=\"dataframe\">\n",
       "  <thead>\n",
       "    <tr style=\"text-align: right;\">\n",
       "      <th></th>\n",
       "      <th>body</th>\n",
       "      <th>created</th>\n",
       "      <th>crossposts</th>\n",
       "      <th>hotel</th>\n",
       "      <th>id</th>\n",
       "      <th>length</th>\n",
       "      <th>num_comments</th>\n",
       "      <th>score</th>\n",
       "      <th>sentiment</th>\n",
       "      <th>title</th>\n",
       "      <th>url</th>\n",
       "    </tr>\n",
       "  </thead>\n",
       "  <tbody>\n",
       "    <tr>\n",
       "      <th>0</th>\n",
       "      <td>Recently got a new job where I’ll be traveling...</td>\n",
       "      <td>1.563316e+09</td>\n",
       "      <td>0</td>\n",
       "      <td>1</td>\n",
       "      <td>cdxrwh</td>\n",
       "      <td>22.0</td>\n",
       "      <td>6</td>\n",
       "      <td>3</td>\n",
       "      <td>1.000000</td>\n",
       "      <td>Best rewards programs?</td>\n",
       "      <td>https://www.reddit.com/r/travel/comments/cdxrw...</td>\n",
       "    </tr>\n",
       "    <tr>\n",
       "      <th>1</th>\n",
       "      <td>I’d love to know any more tips and tricks whil...</td>\n",
       "      <td>1.560763e+09</td>\n",
       "      <td>0</td>\n",
       "      <td>1</td>\n",
       "      <td>c1hl2x</td>\n",
       "      <td>79.0</td>\n",
       "      <td>21</td>\n",
       "      <td>5</td>\n",
       "      <td>0.136364</td>\n",
       "      <td>My new job consists of 90% traveling all over ...</td>\n",
       "      <td>https://www.reddit.com/r/travel/comments/c1hl2...</td>\n",
       "    </tr>\n",
       "    <tr>\n",
       "      <th>2</th>\n",
       "      <td>I found a nice hotel on booking, its price is ...</td>\n",
       "      <td>1.558759e+09</td>\n",
       "      <td>0</td>\n",
       "      <td>1</td>\n",
       "      <td>bsm0ks</td>\n",
       "      <td>110.0</td>\n",
       "      <td>11</td>\n",
       "      <td>0</td>\n",
       "      <td>0.000000</td>\n",
       "      <td>Will you stay in a recently listed hotel on Bo...</td>\n",
       "      <td>https://www.reddit.com/r/travel/comments/bsm0k...</td>\n",
       "    </tr>\n",
       "    <tr>\n",
       "      <th>3</th>\n",
       "      <td>Looking for affordable and unique accommodatio...</td>\n",
       "      <td>1.554328e+09</td>\n",
       "      <td>0</td>\n",
       "      <td>1</td>\n",
       "      <td>b8y886</td>\n",
       "      <td>37.0</td>\n",
       "      <td>9</td>\n",
       "      <td>3</td>\n",
       "      <td>0.000000</td>\n",
       "      <td>Tahiti travel recommendations needed!</td>\n",
       "      <td>https://www.reddit.com/r/travel/comments/b8y88...</td>\n",
       "    </tr>\n",
       "    <tr>\n",
       "      <th>4</th>\n",
       "      <td>Looking for a 4 to 5-day vacation with the gir...</td>\n",
       "      <td>1.554207e+09</td>\n",
       "      <td>0</td>\n",
       "      <td>1</td>\n",
       "      <td>b8e7yk</td>\n",
       "      <td>57.0</td>\n",
       "      <td>4</td>\n",
       "      <td>4</td>\n",
       "      <td>0.000000</td>\n",
       "      <td>Kiawah Island and Charleston or Hilton Head an...</td>\n",
       "      <td>https://www.reddit.com/r/travel/comments/b8e7y...</td>\n",
       "    </tr>\n",
       "  </tbody>\n",
       "</table>\n",
       "</div>"
      ],
      "text/plain": [
       "                                                body       created  \\\n",
       "0  Recently got a new job where I’ll be traveling...  1.563316e+09   \n",
       "1  I’d love to know any more tips and tricks whil...  1.560763e+09   \n",
       "2  I found a nice hotel on booking, its price is ...  1.558759e+09   \n",
       "3  Looking for affordable and unique accommodatio...  1.554328e+09   \n",
       "4  Looking for a 4 to 5-day vacation with the gir...  1.554207e+09   \n",
       "\n",
       "   crossposts  hotel      id  length  num_comments  score  sentiment  \\\n",
       "0           0      1  cdxrwh    22.0             6      3   1.000000   \n",
       "1           0      1  c1hl2x    79.0            21      5   0.136364   \n",
       "2           0      1  bsm0ks   110.0            11      0   0.000000   \n",
       "3           0      1  b8y886    37.0             9      3   0.000000   \n",
       "4           0      1  b8e7yk    57.0             4      4   0.000000   \n",
       "\n",
       "                                               title  \\\n",
       "0                             Best rewards programs?   \n",
       "1  My new job consists of 90% traveling all over ...   \n",
       "2  Will you stay in a recently listed hotel on Bo...   \n",
       "3              Tahiti travel recommendations needed!   \n",
       "4  Kiawah Island and Charleston or Hilton Head an...   \n",
       "\n",
       "                                                 url  \n",
       "0  https://www.reddit.com/r/travel/comments/cdxrw...  \n",
       "1  https://www.reddit.com/r/travel/comments/c1hl2...  \n",
       "2  https://www.reddit.com/r/travel/comments/bsm0k...  \n",
       "3  https://www.reddit.com/r/travel/comments/b8y88...  \n",
       "4  https://www.reddit.com/r/travel/comments/b8e7y...  "
      ]
     },
     "execution_count": 19,
     "metadata": {},
     "output_type": "execute_result"
    }
   ],
   "source": [
    "#add column indicating Marriott v. Hilton post\n",
    "travel_marriott[\"hotel\"] = 0\n",
    "travel[\"hotel\"] = 1\n",
    "travel = pd.concat([travel, travel_marriott])\n",
    "travel.head()"
   ]
  },
  {
   "cell_type": "code",
   "execution_count": 20,
   "metadata": {
    "ExecuteTime": {
     "end_time": "2019-07-25T18:55:10.834346Z",
     "start_time": "2019-07-25T18:55:10.827368Z"
    }
   },
   "outputs": [],
   "source": [
    "# let's split our data for prediction\n",
    "# Define X and y.\n",
    "X = travel.title\n",
    "y = travel.hotel\n",
    "\n",
    "# Split the new DataFrame into training and testing sets.\n",
    "X_train, X_test, y_train, y_test = tts(X, y, random_state=1)"
   ]
  },
  {
   "cell_type": "markdown",
   "metadata": {},
   "source": [
    "### Preprocessing\n",
    "The first step to NLP is preprocessing text, and transforming it into numbers to feed our model. These numbers reflect the statistical relatinoship between words, documents, and corpus. "
   ]
  },
  {
   "cell_type": "code",
   "execution_count": 21,
   "metadata": {
    "ExecuteTime": {
     "end_time": "2019-07-25T19:04:50.873233Z",
     "start_time": "2019-07-25T19:04:50.844311Z"
    }
   },
   "outputs": [
    {
     "data": {
      "text/plain": [
       "(275, 880)"
      ]
     },
     "execution_count": 21,
     "metadata": {},
     "output_type": "execute_result"
    }
   ],
   "source": [
    "#import\n",
    "from sklearn.feature_extraction.text import CountVectorizer\n",
    "\n",
    "# Use CountVectorizer to create document-term matrices from X_train and X_test.\n",
    "vect = CountVectorizer()\n",
    "X_train_dtm = vect.fit_transform(X_train)\n",
    "X_test_dtm = vect.transform(X_test)\n",
    "\n",
    "# Rows are documents, columns are terms (aka \"tokens\" or \"features\", individual words in this situation).\n",
    "X_train_dtm.shape"
   ]
  },
  {
   "cell_type": "code",
   "execution_count": 22,
   "metadata": {
    "ExecuteTime": {
     "end_time": "2019-07-25T19:06:46.512239Z",
     "start_time": "2019-07-25T19:06:46.493291Z"
    }
   },
   "outputs": [
    {
     "name": "stdout",
     "output_type": "stream",
     "text": [
      "              precision    recall  f1-score   support\n",
      "\n",
      "           0       0.62      0.42      0.50        38\n",
      "           1       0.67      0.81      0.73        54\n",
      "\n",
      "   micro avg       0.65      0.65      0.65        92\n",
      "   macro avg       0.64      0.62      0.62        92\n",
      "weighted avg       0.65      0.65      0.64        92\n",
      "\n"
     ]
    }
   ],
   "source": [
    "#import naive bayes, classification report\n",
    "from sklearn.naive_bayes import MultinomialNB\n",
    "from sklearn.metrics import classification_report\n",
    "\n",
    "# Use Naive Bayes to predict hotel classification.\n",
    "nb = MultinomialNB()\n",
    "nb.fit(X_train_dtm, y_train)\n",
    "y_pred = nb.predict(X_test_dtm)\n",
    "\n",
    "# Evaluate the model\n",
    "print((classification_report(y_test, y_pred)))"
   ]
  },
  {
   "cell_type": "markdown",
   "metadata": {},
   "source": [
    "### OPTIONAL - FYI FOR THE FUTURE\n",
    "\n",
    "To make the best models, you will want to supplement the auto-generated features with new features you think might be important. After all, `CountVectorizer()` typically lowercases text and removes all associations between words. Or, you may have metadata to add in addition to just the text."
   ]
  },
  {
   "cell_type": "code",
   "execution_count": 28,
   "metadata": {},
   "outputs": [],
   "source": [
    "#drop na\n",
    "travel.dropna(inplace = True)\n",
    "\n",
    "# define X and y\n",
    "feature_cols = ['title', 'length', 'score', 'sentiment']\n",
    "X = travel[feature_cols]\n",
    "y = travel.hotel\n",
    "\n",
    "# split into training and testing sets\n",
    "X_train, X_test, y_train, y_test = tts(X, y, random_state=42)"
   ]
  },
  {
   "cell_type": "code",
   "execution_count": 29,
   "metadata": {},
   "outputs": [],
   "source": [
    "# Use CountVectorizer with text column only.\n",
    "vect = CountVectorizer()\n",
    "X_train_dtm = vect.fit_transform(X_train.title)\n",
    "X_test_dtm = vect.transform(X_test.title)"
   ]
  },
  {
   "cell_type": "code",
   "execution_count": 30,
   "metadata": {},
   "outputs": [],
   "source": [
    "#import dependencies\n",
    "import scipy as sp\n",
    "\n",
    "#cast other feature columns to float and convert to a sparse matrix.\n",
    "extra = sp.sparse.csr_matrix(X_train.drop('title', axis=1).astype(float))\n",
    "\n",
    "#stack sparse matricies on top of one another\n",
    "X_train_dtm_ex = sp.sparse.hstack((X_train_dtm, extra))\n",
    "\n",
    "# Repeat for testing set\n",
    "extra = sp.sparse.csr_matrix(X_test.drop('title', axis=1).astype(float))\n",
    "X_test_dtm_ex = sp.sparse.hstack((X_test_dtm, extra))\n"
   ]
  },
  {
   "cell_type": "code",
   "execution_count": null,
   "metadata": {},
   "outputs": [],
   "source": [
    "# Use Naive Bayes to predict hotel classification.\n",
    "nb = MultinomialNB()\n",
    "nb.fit(X_train_dtm_ex, y_train)\n",
    "y_pred = nb.predict(X_test_dtm_ex)\n",
    "\n",
    "# Evaluate the model\n",
    "print((classification_report(y_test, y_pred)))"
   ]
  },
  {
   "cell_type": "markdown",
   "metadata": {},
   "source": [
    "## Machine Learning 2: Generative Document Classification\n",
    "Unlike DDC, GDC uses unsupervised machine learning \n",
    "\n",
    "<img src = \"https://qph.fs.quoracdn.net/main-qimg-222870d15fabd2b68c32d7034c518640\" >\n",
    "\n",
    "The model that we'll use for this is latent dirichlet allocation, which relies on three elements: \n",
    "- a text to train the model\n",
    "- a dictionary that translates between words and their vector representation\n",
    "- a corpus that is a sparse matrix of word vectorizations"
   ]
  },
  {
   "cell_type": "code",
   "execution_count": 91,
   "metadata": {
    "ExecuteTime": {
     "end_time": "2019-07-25T19:35:15.918091Z",
     "start_time": "2019-07-25T19:35:15.912108Z"
    }
   },
   "outputs": [],
   "source": [
    "# Import necessary libraries\n",
    "import gensim\n",
    "from gensim.utils import simple_preprocess\n",
    "from gensim.parsing.preprocessing import STOPWORDS\n",
    "from nltk.stem import WordNetLemmatizer, SnowballStemmer\n",
    "from nltk.stem.porter import *"
   ]
  },
  {
   "cell_type": "code",
   "execution_count": 94,
   "metadata": {
    "ExecuteTime": {
     "end_time": "2019-07-25T19:37:04.217233Z",
     "start_time": "2019-07-25T19:37:04.210252Z"
    }
   },
   "outputs": [],
   "source": [
    "#create functions that process text, optimizing it for modeling\n",
    "\n",
    "#initialize the stemmer\n",
    "stemmer = SnowballStemmer(\"english\")\n",
    "\n",
    "#lemmatizing reduces a word to its 'root'\n",
    "def lemmatize_stemming(text):\n",
    "    return stemmer.stem(WordNetLemmatizer().lemmatize(text, pos='v'))\n",
    "\n",
    "#preprocess is going to 'tag' words, and then remove stopwords and words shorter than 3 letters\n",
    "def preprocess(text):\n",
    "    result = []\n",
    "    for token in gensim.utils.simple_preprocess(text):\n",
    "        if token not in gensim.parsing.preprocessing.STOPWORDS and len(token) > 3:\n",
    "            result.append(lemmatize_stemming(token))\n",
    "    return result"
   ]
  },
  {
   "cell_type": "code",
   "execution_count": 95,
   "metadata": {
    "ExecuteTime": {
     "end_time": "2019-07-25T19:37:21.630627Z",
     "start_time": "2019-07-25T19:37:05.743149Z"
    }
   },
   "outputs": [],
   "source": [
    "#create an objec that is the preprocessed docs\n",
    "processed_docs = travel['title'].map(preprocess)"
   ]
  },
  {
   "cell_type": "code",
   "execution_count": 96,
   "metadata": {
    "ExecuteTime": {
     "end_time": "2019-07-25T19:37:29.303093Z",
     "start_time": "2019-07-25T19:37:29.267188Z"
    }
   },
   "outputs": [
    {
     "data": {
      "text/plain": [
       "0                                [best, reward, program]\n",
       "1                          [consist, travel, work, home]\n",
       "2      [stay, recent, list, hotel, book, googl, stree...\n",
       "3                      [tahiti, travel, recommend, need]\n",
       "4      [kiawah, island, charleston, hilton, head, sav...\n",
       "5      [ninh, binh, provinc, better, long, vietnam, w...\n",
       "6                  [consid, hawaii, summer, love, advic]\n",
       "7                             [invit, timeshar, present]\n",
       "8        [question, hilton, grand, vacat, pitch, mistak]\n",
       "9                                          [vega, hotel]\n",
       "10     [success, call, hotel, resort, direct, get, ma...\n",
       "11          [hilton, price, match, guarante, real, scam]\n",
       "12                   [dubai, layov, conundrum, accommod]\n",
       "13                     [hilton, hotel, nightmar, orlean]\n",
       "14                            [best, hilton, washington]\n",
       "15     [start, travel, work, hotel, reward, program, ...\n",
       "16          [worthwhil, loyalti, program, flight, hotel]\n",
       "17                    [nicest, hotel, chain, stay, like]\n",
       "18                    [athen, acropoli, hilton, balconi]\n",
       "19     [night, food, center, vacat, prefer, fanci, hi...\n",
       "20     [know, vacat, station, travel, deal, inclus, r...\n",
       "21                                      [refund, hilton]\n",
       "22                [best, stay, overnight, rome, airport]\n",
       "23     [foodi, want, travel, east, coast, oceanfront,...\n",
       "24     [go, zealand, later, week, month, best, app, d...\n",
       "25                               [hotel, minimum, check]\n",
       "26                               [worst, travel, experi]\n",
       "27                                [advic, layov, boston]\n",
       "28                                [travel, hotel, hotel]\n",
       "29     [cape, town, western, cape, need, advic, recom...\n",
       "                             ...                        \n",
       "118                     [frequent, travel, credit, card]\n",
       "119                [advic, need, winter, travel, destin]\n",
       "120                            [question, hilton, hotel]\n",
       "121                                  [shop, onlin, trip]\n",
       "122    [need, help, travel, girlfriend, go, francisco...\n",
       "123                       [area, stay, holiday, bangkok]\n",
       "124                       [go, clearwat, florida, thing]\n",
       "125                            [quick, trip, need, idea]\n",
       "126    [beach, vacat, destin, western, hemispher, aug...\n",
       "127           [best, hotel, chain, busi, person, travel]\n",
       "128                                    [reward, program]\n",
       "129                                           [roadtrip]\n",
       "130                     [travel, destin, idea, christma]\n",
       "131                      [help, plan, second, honeymoon]\n",
       "132                           [critiqu, peru, itinerari]\n",
       "133         [tip, find, great, deal, night, hotel, stay]\n",
       "134                               [suggest, dubai, trip]\n",
       "135                [reward, point, earn, calendar, year]\n",
       "136                         [thailand, honeymoon, advic]\n",
       "137    [friend, travel, europ, littl, week, summer, l...\n",
       "138    [travel, costa, rica, honeymoon, need, advic, ...\n",
       "139                           [idea, minut, april, trip]\n",
       "140                                      [cheap, ticket]\n",
       "141     [reward, credit, card, want, build, trip, europ]\n",
       "142       [head, marbella, januari, week, need, suggest]\n",
       "143    [condo, hotel, seven, mile, beach, grand, caym...\n",
       "144          [maui, recommend, resort, choos, honeymoon]\n",
       "145                                      [drive, austin]\n",
       "146    [travel, review, tip, recent, trip, munich, ma...\n",
       "147                     [go, oahu, honeymoon, week, tip]\n",
       "Name: title, Length: 515, dtype: object"
      ]
     },
     "execution_count": 96,
     "metadata": {},
     "output_type": "execute_result"
    }
   ],
   "source": [
    "processed_docs"
   ]
  },
  {
   "cell_type": "code",
   "execution_count": 98,
   "metadata": {
    "ExecuteTime": {
     "end_time": "2019-07-25T19:39:58.225019Z",
     "start_time": "2019-07-25T19:39:58.203078Z"
    }
   },
   "outputs": [],
   "source": [
    "#we'll create a dictionary of documents that shows how many times a word appears\n",
    "dictionary = gensim.corpora.Dictionary(processed_docs)\n",
    "\n",
    "#we'll filter our dictionary, excluding words below 15, that fail to appear in at leat .5 docs\n",
    "dictionary.filter_extremes(no_below=15, no_above=0.5, keep_n=100000)"
   ]
  },
  {
   "cell_type": "code",
   "execution_count": 99,
   "metadata": {
    "ExecuteTime": {
     "end_time": "2019-07-25T19:45:46.192698Z",
     "start_time": "2019-07-25T19:45:46.181726Z"
    }
   },
   "outputs": [],
   "source": [
    "#bag of words corpus using dictionary\n",
    "bow_corpus = [dictionary.doc2bow(doc) for doc in processed_docs]"
   ]
  },
  {
   "cell_type": "code",
   "execution_count": 100,
   "metadata": {
    "ExecuteTime": {
     "end_time": "2019-07-25T19:45:51.257143Z",
     "start_time": "2019-07-25T19:45:51.013794Z"
    }
   },
   "outputs": [
    {
     "data": {
      "text/plain": [
       "[[(0, 1), (1, 1), (2, 1)],\n",
       " [(3, 1)],\n",
       " [(4, 1), (5, 1)],\n",
       " [(3, 1), (6, 1), (7, 1)],\n",
       " [(8, 1), (9, 1)],\n",
       " [],\n",
       " [(10, 1)],\n",
       " [],\n",
       " [(8, 1), (11, 1), (12, 1)],\n",
       " [(5, 1)],\n",
       " [(3, 1), (5, 1)],\n",
       " [(8, 1)],\n",
       " [],\n",
       " [(5, 1), (8, 1)],\n",
       " [(0, 1), (8, 1)],\n",
       " [(1, 1), (2, 1), (3, 1), (5, 1)],\n",
       " [(2, 1), (5, 1)],\n",
       " [(4, 1), (5, 1)],\n",
       " [(8, 1)],\n",
       " [(8, 1), (12, 1), (13, 1), (14, 1)],\n",
       " [(3, 1), (12, 1)],\n",
       " [(8, 1)],\n",
       " [(0, 1), (4, 1)],\n",
       " [(3, 1), (15, 1)],\n",
       " [(0, 1), (16, 1), (17, 1)],\n",
       " [(5, 1)],\n",
       " [(3, 1)],\n",
       " [(10, 1)],\n",
       " [(3, 1), (5, 2)],\n",
       " [(6, 1), (7, 1), (10, 1)],\n",
       " [(3, 1)],\n",
       " [(5, 1), (11, 1)],\n",
       " [(3, 1), (10, 1)],\n",
       " [(3, 1), (4, 1), (8, 1)],\n",
       " [],\n",
       " [(18, 1), (19, 1), (20, 1)],\n",
       " [(5, 2), (17, 1), (21, 1)],\n",
       " [(5, 1), (8, 1), (10, 1)],\n",
       " [(5, 1)],\n",
       " [],\n",
       " [(8, 1), (22, 1)],\n",
       " [(23, 1), (24, 1)],\n",
       " [(4, 1), (5, 1), (8, 1)],\n",
       " [(23, 1)],\n",
       " [],\n",
       " [(3, 1)],\n",
       " [(5, 1)],\n",
       " [(5, 1), (18, 1)],\n",
       " [(5, 1), (6, 1)],\n",
       " [(5, 1)],\n",
       " [(14, 2), (15, 1)],\n",
       " [],\n",
       " [(3, 1), (25, 1)],\n",
       " [(8, 1)],\n",
       " [(0, 1)],\n",
       " [(3, 1)],\n",
       " [],\n",
       " [(3, 1), (11, 1)],\n",
       " [(4, 1), (7, 1), (18, 1), (23, 1)],\n",
       " [],\n",
       " [(5, 1), (26, 1)],\n",
       " [],\n",
       " [(20, 1)],\n",
       " [(1, 1), (2, 1), (5, 1), (6, 1)],\n",
       " [],\n",
       " [(0, 1), (3, 1)],\n",
       " [(5, 1), (8, 1)],\n",
       " [(4, 1), (5, 1), (8, 1), (14, 1)],\n",
       " [(4, 1), (20, 1)],\n",
       " [(5, 1)],\n",
       " [],\n",
       " [],\n",
       " [(10, 1), (23, 1), (27, 1)],\n",
       " [(4, 1), (8, 1)],\n",
       " [],\n",
       " [(3, 1), (20, 1), (25, 1)],\n",
       " [(8, 2), (10, 1), (14, 1), (20, 1), (24, 1)],\n",
       " [(8, 1), (12, 1)],\n",
       " [(5, 1), (24, 1)],\n",
       " [(5, 1)],\n",
       " [(5, 1), (8, 1), (11, 1)],\n",
       " [(0, 1), (4, 1), (9, 1), (28, 1)],\n",
       " [(8, 1)],\n",
       " [(5, 1)],\n",
       " [(3, 1), (5, 1), (7, 1), (10, 1)],\n",
       " [(7, 1), (10, 1), (25, 1)],\n",
       " [(8, 1), (9, 1), (23, 1), (29, 1)],\n",
       " [(18, 1)],\n",
       " [(19, 1), (20, 1), (23, 1), (24, 1)],\n",
       " [(23, 1)],\n",
       " [(8, 1), (9, 1), (12, 1), (16, 1), (28, 1)],\n",
       " [],\n",
       " [(4, 1), (5, 1)],\n",
       " [(5, 1)],\n",
       " [(8, 1), (14, 1)],\n",
       " [(3, 1), (5, 1), (8, 1), (10, 1)],\n",
       " [(4, 1), (8, 1), (9, 2), (10, 1), (12, 1)],\n",
       " [(0, 1), (3, 1), (21, 1), (30, 1)],\n",
       " [(1, 1), (2, 1), (8, 1), (22, 1)],\n",
       " [(2, 1), (8, 1)],\n",
       " [(7, 1), (8, 1), (9, 1), (19, 1), (23, 1), (24, 1)],\n",
       " [(8, 1), (9, 1), (20, 1)],\n",
       " [(8, 1), (9, 1)],\n",
       " [(19, 1), (23, 1), (29, 1)],\n",
       " [(5, 1), (13, 1)],\n",
       " [(8, 1)],\n",
       " [(5, 1), (8, 1)],\n",
       " [(4, 1), (8, 1)],\n",
       " [(23, 1)],\n",
       " [(3, 1), (7, 1), (10, 1)],\n",
       " [(28, 1)],\n",
       " [(0, 1), (5, 1)],\n",
       " [(5, 1), (10, 1), (23, 1)],\n",
       " [(3, 1), (17, 1)],\n",
       " [(3, 1), (26, 1)],\n",
       " [(3, 1)],\n",
       " [(5, 1), (6, 1), (7, 1), (23, 1)],\n",
       " [],\n",
       " [],\n",
       " [(10, 1), (23, 1)],\n",
       " [(5, 1)],\n",
       " [],\n",
       " [(3, 1)],\n",
       " [(19, 1), (23, 1)],\n",
       " [(11, 1)],\n",
       " [(4, 1), (7, 1), (13, 1), (24, 1)],\n",
       " [],\n",
       " [(1, 1), (5, 1), (21, 1), (29, 1), (30, 1)],\n",
       " [(3, 1), (18, 1), (23, 1)],\n",
       " [(23, 1)],\n",
       " [],\n",
       " [],\n",
       " [(5, 1)],\n",
       " [],\n",
       " [(3, 1)],\n",
       " [(10, 1), (19, 1)],\n",
       " [(0, 1), (12, 1), (14, 1), (15, 1)],\n",
       " [(12, 1), (29, 1)],\n",
       " [(17, 1), (19, 1), (23, 1), (27, 1)],\n",
       " [],\n",
       " [(24, 1)],\n",
       " [(3, 1), (21, 1), (30, 1)],\n",
       " [(5, 2), (15, 1)],\n",
       " [(25, 1)],\n",
       " [(0, 1), (3, 1)],\n",
       " [(3, 1), (5, 1), (13, 1), (28, 1)],\n",
       " [(3, 1), (28, 1)],\n",
       " [(5, 1)],\n",
       " [(5, 1)],\n",
       " [(5, 1)],\n",
       " [(13, 1)],\n",
       " [(31, 1)],\n",
       " [(3, 1), (14, 1)],\n",
       " [(12, 1), (24, 1), (27, 1)],\n",
       " [(5, 1)],\n",
       " [(18, 1)],\n",
       " [(0, 1), (2, 1), (3, 1)],\n",
       " [],\n",
       " [],\n",
       " [(23, 1)],\n",
       " [(0, 1), (12, 1)],\n",
       " [(31, 1)],\n",
       " [(23, 1)],\n",
       " [],\n",
       " [(6, 1), (12, 1)],\n",
       " [],\n",
       " [(3, 1), (7, 1), (9, 1), (10, 1)],\n",
       " [],\n",
       " [(3, 1), (10, 1)],\n",
       " [(10, 1), (19, 1), (20, 1)],\n",
       " [],\n",
       " [(23, 1), (24, 1)],\n",
       " [(7, 1), (20, 1), (26, 1)],\n",
       " [(20, 1)],\n",
       " [(23, 1)],\n",
       " [(31, 1)],\n",
       " [(24, 1)],\n",
       " [(18, 1)],\n",
       " [(5, 1)],\n",
       " [(16, 1)],\n",
       " [(4, 1)],\n",
       " [(18, 1), (23, 1)],\n",
       " [(23, 1)],\n",
       " [(18, 1)],\n",
       " [(23, 1)],\n",
       " [(15, 1), (24, 1)],\n",
       " [(10, 1), (23, 1), (27, 1)],\n",
       " [(19, 1), (23, 1)],\n",
       " [],\n",
       " [(5, 1), (14, 1)],\n",
       " [(10, 1), (25, 1)],\n",
       " [],\n",
       " [(19, 1), (20, 1), (25, 1)],\n",
       " [(16, 1), (28, 1), (29, 1)],\n",
       " [(9, 1)],\n",
       " [(10, 1), (23, 1)],\n",
       " [(29, 1)],\n",
       " [(1, 1), (2, 1), (3, 1)],\n",
       " [(10, 1), (23, 1), (27, 1)],\n",
       " [(5, 1), (18, 1)],\n",
       " [(1, 1), (14, 1)],\n",
       " [(3, 1)],\n",
       " [(5, 1), (10, 1), (28, 1)],\n",
       " [(5, 1)],\n",
       " [(3, 1), (18, 1), (19, 1), (23, 1)],\n",
       " [(24, 1)],\n",
       " [(7, 1), (17, 1), (26, 1)],\n",
       " [(12, 1), (29, 1)],\n",
       " [(17, 1)],\n",
       " [],\n",
       " [(7, 1), (12, 1), (18, 1), (25, 1)],\n",
       " [(16, 1), (28, 1)],\n",
       " [(23, 1)],\n",
       " [(5, 1)],\n",
       " [(0, 1), (5, 1)],\n",
       " [],\n",
       " [(11, 1)],\n",
       " [],\n",
       " [(5, 1)],\n",
       " [(5, 1), (6, 1), (9, 1), (22, 1)],\n",
       " [(12, 1), (31, 1)],\n",
       " [(20, 1)],\n",
       " [(5, 1), (22, 1)],\n",
       " [(6, 1), (17, 1), (18, 1), (23, 1)],\n",
       " [(3, 1)],\n",
       " [(22, 1), (27, 1)],\n",
       " [(1, 1), (2, 1), (3, 1), (5, 1)],\n",
       " [(1, 1), (5, 1), (21, 1), (29, 1), (30, 1)],\n",
       " [(15, 1), (23, 1), (24, 1)],\n",
       " [(10, 1), (16, 1)],\n",
       " [(1, 1), (22, 1)],\n",
       " [(5, 1), (6, 1), (10, 1), (24, 1), (28, 1), (29, 1)],\n",
       " [(18, 1)],\n",
       " [(5, 1)],\n",
       " [(5, 1), (22, 1)],\n",
       " [(4, 1)],\n",
       " [(5, 2)],\n",
       " [(7, 1), (21, 2), (30, 2)],\n",
       " [(0, 1), (4, 1), (13, 1), (20, 1), (22, 1)],\n",
       " [(11, 1)],\n",
       " [(3, 1), (10, 1)],\n",
       " [(18, 1), (22, 1)],\n",
       " [(5, 1)],\n",
       " [(5, 1), (9, 1), (10, 1), (27, 1)],\n",
       " [(22, 1)],\n",
       " [(3, 1), (14, 1)],\n",
       " [(3, 1), (5, 2)],\n",
       " [],\n",
       " [(12, 1), (18, 1), (31, 1)],\n",
       " [(5, 1), (22, 1)],\n",
       " [(8, 1), (22, 1)],\n",
       " [(7, 1), (18, 1), (21, 1), (30, 1)],\n",
       " [(22, 1)],\n",
       " [(1, 2), (13, 1), (14, 1), (22, 1)],\n",
       " [(17, 1), (22, 1)],\n",
       " [(16, 1), (26, 1)],\n",
       " [(4, 1), (5, 1), (17, 1), (22, 1)],\n",
       " [(21, 1)],\n",
       " [(3, 1), (10, 1), (11, 1), (16, 1), (29, 1)],\n",
       " [(1, 1), (2, 1), (5, 1), (6, 1)],\n",
       " [(21, 1), (23, 1), (30, 1)],\n",
       " [(3, 1), (4, 1), (18, 1)],\n",
       " [(12, 1), (24, 1), (26, 1)],\n",
       " [(3, 1), (22, 1)],\n",
       " [(22, 1)],\n",
       " [(18, 1), (22, 1)],\n",
       " [(5, 1), (8, 1)],\n",
       " [(5, 1), (14, 1), (22, 2), (24, 1), (29, 1)],\n",
       " [(22, 1)],\n",
       " [(10, 1), (12, 1)],\n",
       " [(1, 1), (4, 1), (21, 1), (22, 2), (30, 1)],\n",
       " [(21, 1), (22, 1)],\n",
       " [(1, 1), (11, 1), (22, 1)],\n",
       " [(7, 1), (10, 1), (12, 1), (19, 1)],\n",
       " [(1, 1), (2, 1), (8, 1), (22, 1)],\n",
       " [(1, 1), (22, 1)],\n",
       " [(22, 1)],\n",
       " [(19, 1), (20, 1), (23, 1), (24, 1)],\n",
       " [],\n",
       " [(22, 1)],\n",
       " [(5, 1), (22, 1)],\n",
       " [(3, 1), (7, 1), (18, 1)],\n",
       " [(25, 1)],\n",
       " [(3, 1)],\n",
       " [(5, 1)],\n",
       " [(13, 1)],\n",
       " [(3, 1)],\n",
       " [(3, 1), (6, 1), (23, 1), (27, 1)],\n",
       " [(23, 1), (29, 1)],\n",
       " [(18, 1), (20, 1)],\n",
       " [(18, 1)],\n",
       " [],\n",
       " [(0, 1), (23, 1)],\n",
       " [(5, 1), (10, 1)],\n",
       " [(27, 1), (29, 1)],\n",
       " [(5, 1)],\n",
       " [(18, 1)],\n",
       " [(7, 1), (9, 1), (10, 1)],\n",
       " [(10, 1), (23, 1)],\n",
       " [],\n",
       " [(23, 1)],\n",
       " [],\n",
       " [(6, 1), (7, 1), (31, 1)],\n",
       " [],\n",
       " [(17, 1), (19, 1), (23, 1), (27, 1)],\n",
       " [(18, 1), (28, 1)],\n",
       " [(0, 1), (3, 1), (5, 1)],\n",
       " [],\n",
       " [(5, 2), (15, 1)],\n",
       " [(3, 1)],\n",
       " [(0, 1), (3, 1)],\n",
       " [(11, 1), (16, 1)],\n",
       " [(15, 1), (17, 1), (18, 1), (23, 1)],\n",
       " [(23, 1)],\n",
       " [(20, 1), (24, 1), (31, 1)],\n",
       " [(18, 1), (20, 1), (23, 1)],\n",
       " [(18, 1), (23, 1)],\n",
       " [(10, 1), (17, 1)],\n",
       " [(10, 1), (13, 1)],\n",
       " [(15, 1), (28, 1)],\n",
       " [(17, 1)],\n",
       " [(5, 1)],\n",
       " [],\n",
       " [(0, 1), (2, 1), (3, 1)],\n",
       " [(3, 1), (7, 1), (13, 1), (18, 1), (19, 1)],\n",
       " [(18, 1), (20, 1)],\n",
       " [(12, 1)],\n",
       " [(1, 1), (13, 1), (14, 1), (15, 1)],\n",
       " [(16, 1), (27, 1)],\n",
       " [(10, 1), (23, 1), (27, 1)],\n",
       " [(26, 1)],\n",
       " [(7, 2), (18, 1)],\n",
       " [(28, 1)],\n",
       " [(3, 2), (5, 1), (10, 1), (17, 1), (19, 1), (23, 1)],\n",
       " [(3, 1), (27, 1)],\n",
       " [(5, 1), (24, 1), (27, 1)],\n",
       " [(5, 1)],\n",
       " [(3, 1), (21, 1), (30, 1)],\n",
       " [(3, 1), (7, 1), (10, 1), (31, 1)],\n",
       " [(5, 1), (8, 1), (11, 1)],\n",
       " [(23, 1)],\n",
       " [(3, 1), (7, 1), (16, 1), (17, 1), (18, 1)],\n",
       " [(4, 1)],\n",
       " [(16, 1)],\n",
       " [(7, 1), (23, 1), (26, 1)],\n",
       " [(12, 1), (31, 1)],\n",
       " [(0, 1), (3, 1), (5, 1)],\n",
       " [(1, 1), (2, 1)],\n",
       " [],\n",
       " [(3, 1), (26, 1), (31, 1)],\n",
       " [(18, 1), (19, 1), (20, 1)],\n",
       " [],\n",
       " [(4, 1), (5, 1), (13, 1), (25, 1)],\n",
       " [(23, 1), (24, 1)],\n",
       " [(1, 1), (14, 1)],\n",
       " [(10, 1), (20, 1)],\n",
       " [(3, 1), (17, 1), (25, 1)],\n",
       " [(3, 1), (7, 1), (10, 1), (20, 1)],\n",
       " [(23, 1), (26, 1)],\n",
       " [],\n",
       " [(1, 1), (15, 1), (21, 1), (23, 1), (30, 1)],\n",
       " [(7, 1), (9, 1), (17, 1), (24, 1)],\n",
       " [(5, 1), (11, 1)],\n",
       " [(6, 1), (20, 1)],\n",
       " [],\n",
       " [(3, 1), (23, 1), (25, 1)],\n",
       " [(16, 1), (17, 1), (20, 1), (25, 1)],\n",
       " [(5, 1), (6, 1), (9, 1), (22, 1)],\n",
       " [(12, 1), (31, 1)],\n",
       " [(20, 1)],\n",
       " [(5, 1), (22, 1)],\n",
       " [(6, 1), (17, 1), (18, 1), (23, 1)],\n",
       " [(3, 1)],\n",
       " [(22, 1), (27, 1)],\n",
       " [(1, 1), (2, 1), (3, 1), (5, 1)],\n",
       " [(1, 1), (5, 1), (21, 1), (29, 1), (30, 1)],\n",
       " [(15, 1), (23, 1), (24, 1)],\n",
       " [(10, 1), (16, 1)],\n",
       " [(1, 1), (22, 1)],\n",
       " [(5, 1), (6, 1), (10, 1), (24, 1), (28, 1), (29, 1)],\n",
       " [(18, 1)],\n",
       " [(5, 1)],\n",
       " [(5, 1), (22, 1)],\n",
       " [(4, 1)],\n",
       " [(5, 2)],\n",
       " [(7, 1), (21, 2), (30, 2)],\n",
       " [(0, 1), (4, 1), (13, 1), (20, 1), (22, 1)],\n",
       " [(11, 1)],\n",
       " [(3, 1), (10, 1)],\n",
       " [(18, 1), (22, 1)],\n",
       " [(5, 1)],\n",
       " [(5, 1), (9, 1), (10, 1), (27, 1)],\n",
       " [(22, 1)],\n",
       " [(3, 1), (14, 1)],\n",
       " [(3, 1), (5, 2)],\n",
       " [],\n",
       " [(12, 1), (18, 1), (31, 1)],\n",
       " [(5, 1), (22, 1)],\n",
       " [(8, 1), (22, 1)],\n",
       " [(7, 1), (18, 1), (21, 1), (30, 1)],\n",
       " [(22, 1)],\n",
       " [(1, 2), (13, 1), (14, 1), (22, 1)],\n",
       " [(17, 1), (22, 1)],\n",
       " [(16, 1), (26, 1)],\n",
       " [(4, 1), (5, 1), (17, 1), (22, 1)],\n",
       " [(21, 1)],\n",
       " [(3, 1), (10, 1), (11, 1), (16, 1), (29, 1)],\n",
       " [(1, 1), (2, 1), (5, 1), (6, 1)],\n",
       " [(21, 1), (23, 1), (30, 1)],\n",
       " [(3, 1), (4, 1), (18, 1)],\n",
       " [(12, 1), (24, 1), (26, 1)],\n",
       " [(3, 1), (22, 1)],\n",
       " [(22, 1)],\n",
       " [(18, 1), (22, 1)],\n",
       " [(5, 1), (8, 1)],\n",
       " [(5, 1), (14, 1), (22, 2), (24, 1), (29, 1)],\n",
       " [(22, 1)],\n",
       " [(10, 1), (12, 1)],\n",
       " [(1, 1), (4, 1), (21, 1), (22, 2), (30, 1)],\n",
       " [(21, 1), (22, 1)],\n",
       " [(1, 1), (11, 1), (22, 1)],\n",
       " [(7, 1), (10, 1), (12, 1), (19, 1)],\n",
       " [(1, 1), (2, 1), (8, 1), (22, 1)],\n",
       " [(1, 1), (22, 1)],\n",
       " [(22, 1)],\n",
       " [(19, 1), (20, 1), (23, 1), (24, 1)],\n",
       " [],\n",
       " [(22, 1)],\n",
       " [(5, 1), (22, 1)],\n",
       " [(3, 1), (7, 1), (18, 1)],\n",
       " [(25, 1)],\n",
       " [(3, 1)],\n",
       " [(5, 1)],\n",
       " [(13, 1)],\n",
       " [(3, 1)],\n",
       " [(3, 1), (6, 1), (23, 1), (27, 1)],\n",
       " [(23, 1), (29, 1)],\n",
       " [(18, 1), (20, 1)],\n",
       " [(18, 1)],\n",
       " [],\n",
       " [(0, 1), (23, 1)],\n",
       " [(5, 1), (10, 1)],\n",
       " [(27, 1), (29, 1)],\n",
       " [(5, 1)],\n",
       " [(18, 1)],\n",
       " [(7, 1), (9, 1), (10, 1)],\n",
       " [(10, 1), (23, 1)],\n",
       " [],\n",
       " [(23, 1)],\n",
       " [],\n",
       " [(6, 1), (7, 1), (31, 1)],\n",
       " [],\n",
       " [(17, 1), (19, 1), (23, 1), (27, 1)],\n",
       " [(18, 1), (28, 1)],\n",
       " [(0, 1), (3, 1), (5, 1)],\n",
       " [],\n",
       " [(5, 2), (15, 1)],\n",
       " [(3, 1)],\n",
       " [(0, 1), (3, 1)],\n",
       " [(11, 1), (16, 1)],\n",
       " [(15, 1), (17, 1), (18, 1), (23, 1)],\n",
       " [(23, 1)],\n",
       " [(20, 1), (24, 1), (31, 1)],\n",
       " [(18, 1), (20, 1), (23, 1)],\n",
       " [(18, 1), (23, 1)],\n",
       " [(10, 1), (17, 1)],\n",
       " [(10, 1), (13, 1)],\n",
       " [(15, 1), (28, 1)],\n",
       " [(17, 1)],\n",
       " [(5, 1)],\n",
       " [],\n",
       " [(0, 1), (2, 1), (3, 1)],\n",
       " [(3, 1), (7, 1), (13, 1), (18, 1), (19, 1)],\n",
       " [(18, 1), (20, 1)],\n",
       " [(12, 1)],\n",
       " [(1, 1), (13, 1), (14, 1), (15, 1)],\n",
       " [(16, 1), (27, 1)],\n",
       " [(10, 1), (23, 1), (27, 1)],\n",
       " [(26, 1)],\n",
       " [(7, 2), (18, 1)],\n",
       " [(28, 1)],\n",
       " [(3, 2), (5, 1), (10, 1), (17, 1), (19, 1), (23, 1)],\n",
       " [(3, 1), (27, 1)],\n",
       " [(5, 1), (24, 1), (27, 1)],\n",
       " [(5, 1)],\n",
       " [(3, 1), (21, 1), (30, 1)],\n",
       " [(3, 1), (7, 1), (10, 1), (31, 1)],\n",
       " [(5, 1), (8, 1), (11, 1)],\n",
       " [(23, 1)],\n",
       " [(3, 1), (7, 1), (16, 1), (17, 1), (18, 1)],\n",
       " [(4, 1)],\n",
       " [(16, 1)],\n",
       " [(7, 1), (23, 1), (26, 1)],\n",
       " [(12, 1), (31, 1)],\n",
       " [(0, 1), (3, 1), (5, 1)],\n",
       " [(1, 1), (2, 1)],\n",
       " [],\n",
       " [(3, 1), (26, 1), (31, 1)],\n",
       " [(18, 1), (19, 1), (20, 1)],\n",
       " [],\n",
       " [(4, 1), (5, 1), (13, 1), (25, 1)],\n",
       " [(23, 1), (24, 1)],\n",
       " [(1, 1), (14, 1)],\n",
       " [(10, 1), (20, 1)],\n",
       " [(3, 1), (17, 1), (25, 1)],\n",
       " [(3, 1), (7, 1), (10, 1), (20, 1)],\n",
       " [(23, 1), (26, 1)],\n",
       " [],\n",
       " [(1, 1), (15, 1), (21, 1), (23, 1), (30, 1)],\n",
       " [(7, 1), (9, 1), (17, 1), (24, 1)],\n",
       " [(5, 1), (11, 1)],\n",
       " [(6, 1), (20, 1)],\n",
       " [],\n",
       " [(3, 1), (23, 1), (25, 1)],\n",
       " [(16, 1), (17, 1), (20, 1), (25, 1)]]"
      ]
     },
     "execution_count": 100,
     "metadata": {},
     "output_type": "execute_result"
    }
   ],
   "source": [
    "bow_corpus"
   ]
  },
  {
   "cell_type": "code",
   "execution_count": 104,
   "metadata": {
    "ExecuteTime": {
     "end_time": "2019-07-25T19:48:39.132830Z",
     "start_time": "2019-07-25T19:48:20.875694Z"
    }
   },
   "outputs": [],
   "source": [
    "#Create an LDA Model - Latent Dirichlet Allocation\n",
    "from gensim.models import LdaMulticore\n",
    "lda_model = gensim.models.LdaMulticore(bow_corpus, num_topics=10, id2word=dictionary, passes=2, workers=2)"
   ]
  },
  {
   "cell_type": "code",
   "execution_count": 106,
   "metadata": {
    "ExecuteTime": {
     "end_time": "2019-07-25T20:00:31.834843Z",
     "start_time": "2019-07-25T20:00:28.882745Z"
    }
   },
   "outputs": [
    {
     "name": "stderr",
     "output_type": "stream",
     "text": [
      "C:\\ProgramData\\Anaconda3\\lib\\site-packages\\pyLDAvis\\_prepare.py:257: FutureWarning: Sorting because non-concatenation axis is not aligned. A future version\n",
      "of pandas will change to not sort by default.\n",
      "\n",
      "To accept the future behavior, pass 'sort=True'.\n",
      "\n",
      "To retain the current behavior and silence the warning, pass sort=False\n",
      "\n",
      "  return pd.concat([default_term_info] + list(topic_dfs))\n"
     ]
    }
   ],
   "source": [
    "#visualize the model\n",
    "import pyLDAvis.gensim\n",
    "viz = pyLDAvis.gensim.prepare(lda_model, bow_corpus, dictionary)\n",
    "pyLDAvis.save_html(viz, './data/lda.html')"
   ]
  },
  {
   "cell_type": "markdown",
   "metadata": {},
   "source": [
    "# What's next? \n",
    "\n",
    "### Immediate\n",
    "- Try DDC with the news data - can you predict what news will be on what channel?\n",
    "- Rather than a bag of words for LDA, try something like a TFIDF corpus\n",
    "- Explore n-grams - ways of grouping words together\n",
    "\n",
    "### Distant\n",
    "- Append other features to your sparse text matrix for DDC\n",
    "- Automate the selection of K in the LDA model.\n",
    "- Try other topic models - HDP, LSA, LSTM\n",
    "- Explore other visualization mediums, like t-SNE reduction in Bokeh"
   ]
  },
  {
   "cell_type": "code",
   "execution_count": null,
   "metadata": {},
   "outputs": [],
   "source": []
  }
 ],
 "metadata": {
  "kernelspec": {
   "display_name": "Python 3",
   "language": "python",
   "name": "python3"
  },
  "language_info": {
   "codemirror_mode": {
    "name": "ipython",
    "version": 3
   },
   "file_extension": ".py",
   "mimetype": "text/x-python",
   "name": "python",
   "nbconvert_exporter": "python",
   "pygments_lexer": "ipython3",
   "version": "3.6.5"
  }
 },
 "nbformat": 4,
 "nbformat_minor": 2
}
